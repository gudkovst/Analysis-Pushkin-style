{
 "cells": [
  {
   "cell_type": "code",
   "execution_count": 1,
   "id": "77d9ac7c-3bd4-4fa3-9ea0-73fa9caef820",
   "metadata": {
    "tags": []
   },
   "outputs": [],
   "source": [
    "from periods import periods\n",
    "from create_distr_pictures import *\n",
    "from main_extractor import extract_period, extract_text\n",
    "from utils.dict_lib import top_n\n",
    "from utils.show import *"
   ]
  },
  {
   "cell_type": "code",
   "execution_count": 2,
   "id": "905146bd-345f-4a1d-9bf4-27dcf10819fd",
   "metadata": {
    "tags": []
   },
   "outputs": [
    {
     "name": "stdout",
     "output_type": "stream",
     "text": [
      "statistics on 1813 - 1813\n",
      "{'texts': 5, 'words': 2803, 'unique_words': 1670, 'puncts': 798, 'unique_puncts': 48, 'sentence': 192}\n",
      "statistics on 1814 - 1814\n",
      "{'texts': 25, 'words': 8154, 'unique_words': 5327, 'puncts': 2317, 'unique_puncts': 225, 'sentence': 631}\n",
      "statistics on 1815 - 1815\n",
      "{'texts': 31, 'words': 9478, 'unique_words': 6275, 'puncts': 2439, 'unique_puncts': 232, 'sentence': 655}\n",
      "statistics on 1816 - 1816\n",
      "{'texts': 50, 'words': 6872, 'unique_words': 4818, 'puncts': 1785, 'unique_puncts': 293, 'sentence': 517}\n",
      "statistics on 1817 - 1817\n",
      "{'texts': 22, 'words': 2523, 'unique_words': 1823, 'puncts': 666, 'unique_puncts': 127, 'sentence': 185}\n",
      "statistics on 1817 после Лицея - 1817 после Лицея\n",
      "{'texts': 12, 'words': 3305, 'unique_words': 1885, 'puncts': 875, 'unique_puncts': 80, 'sentence': 274}\n",
      "statistics on 1818 - 1818\n",
      "{'texts': 20, 'words': 5660, 'unique_words': 3314, 'puncts': 1537, 'unique_puncts': 117, 'sentence': 416}\n",
      "statistics on 1819 - 1819\n",
      "{'texts': 41, 'words': 4614, 'unique_words': 3272, 'puncts': 1167, 'unique_puncts': 200, 'sentence': 326}\n",
      "statistics on 1820 - 1820\n",
      "{'texts': 10, 'words': 2685, 'unique_words': 1427, 'puncts': 715, 'unique_puncts': 51, 'sentence': 210}\n",
      "statistics on 1820 Юг - 1820 Юг\n",
      "{'texts': 16, 'words': 2747, 'unique_words': 1696, 'puncts': 709, 'unique_puncts': 80, 'sentence': 195}\n",
      "statistics on 1821 - 1821\n",
      "{'texts': 51, 'words': 12090, 'unique_words': 6996, 'puncts': 3129, 'unique_puncts': 292, 'sentence': 846}\n",
      "statistics on 1822 - 1822\n",
      "{'texts': 28, 'words': 6142, 'unique_words': 3996, 'puncts': 1597, 'unique_puncts': 166, 'sentence': 443}\n",
      "statistics on 1823 - 1823\n",
      "{'texts': 27, 'words': 9768, 'unique_words': 5129, 'puncts': 2395, 'unique_puncts': 163, 'sentence': 673}\n",
      "statistics on 1824 - 1824\n",
      "{'texts': 11, 'words': 847, 'unique_words': 656, 'puncts': 224, 'unique_puncts': 45, 'sentence': 56}\n",
      "statistics on 1824 Михайловское - 1824 Михайловское\n",
      "{'texts': 54, 'words': 10842, 'unique_words': 6093, 'puncts': 2960, 'unique_puncts': 288, 'sentence': 910}\n",
      "statistics on 1825 - 1825\n",
      "{'texts': 60, 'words': 20557, 'unique_words': 9269, 'puncts': 6050, 'unique_puncts': 324, 'sentence': 2006}\n",
      "statistics on 1826 - 1826\n",
      "{'texts': 27, 'words': 7389, 'unique_words': 4160, 'puncts': 1948, 'unique_puncts': 148, 'sentence': 544}\n",
      "statistics on 1827 - 1827\n",
      "{'texts': 32, 'words': 3284, 'unique_words': 2287, 'puncts': 948, 'unique_puncts': 165, 'sentence': 275}\n",
      "statistics on 1828 - 1828\n",
      "{'texts': 42, 'words': 12975, 'unique_words': 6379, 'puncts': 3404, 'unique_puncts': 226, 'sentence': 1124}\n",
      "statistics on 1829 - 1829\n",
      "{'texts': 52, 'words': 6544, 'unique_words': 4057, 'puncts': 1795, 'unique_puncts': 243, 'sentence': 607}\n",
      "statistics on 1830 - 1830\n",
      "{'texts': 49, 'words': 18613, 'unique_words': 9235, 'puncts': 5203, 'unique_puncts': 319, 'sentence': 1856}\n",
      "statistics on 1831 - 1831\n",
      "{'texts': 11, 'words': 6248, 'unique_words': 2525, 'puncts': 1662, 'unique_puncts': 91, 'sentence': 463}\n",
      "statistics on 1832 - 1832\n",
      "{'texts': 14, 'words': 994, 'unique_words': 786, 'puncts': 236, 'unique_puncts': 63, 'sentence': 60}\n",
      "statistics on 1833 - 1833\n",
      "{'texts': 22, 'words': 12210, 'unique_words': 5865, 'puncts': 3305, 'unique_puncts': 184, 'sentence': 991}\n",
      "statistics on 1834 - 1834\n",
      "{'texts': 22, 'words': 5253, 'unique_words': 3127, 'puncts': 1362, 'unique_puncts': 165, 'sentence': 426}\n",
      "statistics on 1835 - 1835\n",
      "{'texts': 28, 'words': 3412, 'unique_words': 2435, 'puncts': 855, 'unique_puncts': 156, 'sentence': 255}\n",
      "statistics on 1836 - 1836\n",
      "{'texts': 23, 'words': 2340, 'unique_words': 1765, 'puncts': 565, 'unique_puncts': 114, 'sentence': 147}\n"
     ]
    }
   ],
   "source": [
    "import os\n",
    "for year in os.listdir(\"C:/Users/User/Desktop/практика/полное собрание/poems_corpus\"):\n",
    "    st = extract_period([year], \"statistics\")\n",
    "    show_dict(st, create_title([year], \"statistics\"))"
   ]
  },
  {
   "cell_type": "code",
   "execution_count": 2,
   "id": "d38cda87-0996-4d75-a445-d756f1808428",
   "metadata": {
    "tags": []
   },
   "outputs": [
    {
     "name": "stdout",
     "output_type": "stream",
     "text": [
      "statistics on 1813 - 1820\n",
      "{'texts': 216, 'words': 46094, 'unique_words': 29811, 'puncts': 12299, 'unique_puncts': 1373, 'sentence': 3406}\n",
      "statistics on 1820 Юг - 1824\n",
      "{'texts': 133, 'words': 31594, 'unique_words': 18473, 'puncts': 8054, 'unique_puncts': 746, 'sentence': 2213}\n",
      "statistics on 1824 Михайловское - 1828\n",
      "{'texts': 215, 'words': 55047, 'unique_words': 28188, 'puncts': 15310, 'unique_puncts': 1151, 'sentence': 4859}\n",
      "statistics on 1829 - 1836\n",
      "{'texts': 221, 'words': 55614, 'unique_words': 29795, 'puncts': 14983, 'unique_puncts': 1335, 'sentence': 4805}\n"
     ]
    }
   ],
   "source": [
    "dict_features = ['statistics']\n",
    "\n",
    "pers = [['1813', '1814', '1815'], ['1816', '1817'], ['1817 после Лицея', '1818', '1819', '1820'], ['1820 Юг', '1821'], ['1822', '1823', '1824'], ['1824 Михайловское', '1825', '1826'],\n",
    "        ['1827', '1828', '1829'], ['1830'], ['1831', '1832'], ['1833', '1834', '1835', '1836']]\n",
    "\n",
    "for feature in dict_features:\n",
    "    for period in periods:\n",
    "        st = extract_period(period, feature)\n",
    "        show_dict(st, create_title(period, feature))"
   ]
  },
  {
   "cell_type": "code",
   "execution_count": null,
   "id": "cd4f5a6f-5f07-4cba-9958-dcd993b57c05",
   "metadata": {},
   "outputs": [],
   "source": [
    "barh_periods(periods=pers)\n",
    "bar_periods(periods=pers)\n",
    "emp_periods(periods=pers)"
   ]
  }
 ],
 "metadata": {
  "kernelspec": {
   "display_name": "Python 3 (ipykernel)",
   "language": "python",
   "name": "python3"
  },
  "language_info": {
   "codemirror_mode": {
    "name": "ipython",
    "version": 3
   },
   "file_extension": ".py",
   "mimetype": "text/x-python",
   "name": "python",
   "nbconvert_exporter": "python",
   "pygments_lexer": "ipython3",
   "version": "3.11.2"
  }
 },
 "nbformat": 4,
 "nbformat_minor": 5
}
