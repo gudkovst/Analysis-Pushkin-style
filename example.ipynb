{
 "cells": [
  {
   "cell_type": "code",
   "execution_count": 1,
   "id": "a43d082e-9537-473c-b98b-62e5a83a33a5",
   "metadata": {
    "tags": []
   },
   "outputs": [
    {
     "name": "stdout",
     "output_type": "stream",
     "text": [
      "[0.1004481418852913, 0.03561643835616438, 0.03561643835616438, 0.18904109589041096, 0.292722602739726, 0.13]\n",
      "{'друг': 4, 'о': 4, 'любовь': 3, 'вы': 5, 'всё': 2, 'рука': 2, 'весь': 5, 'а': 5, 'где': 4, 'душа': 3, 'день': 2, 'от': 2, 'они': 5, 'его': 2, 'то': 5, 'да': 2, 'так': 3, 'кто': 2, 'нет': 2, 'тот': 2}\n",
      "20\n",
      "{'нны': 4, 'дру': 5, 'рас': 4, 'лен': 4, 'руг': 4, 'ель': 3, 'люб': 4, 'вет': 4, 'тра': 3, 'под': 5, 'что': 5, 'нас': 3, 'нов': 5, 'нье': 4, 'его': 5, 'льн': 3, 'как': 5, 'сво': 3, 'раз': 4, 'ово': 5, 'мен': 3, 'одн': 3, 'она': 4}\n",
      "6\n",
      "['rank', 'words/я', 'words/ты', 'parts/VERB', 'len_words', 'homogeneity']\n"
     ]
    }
   ],
   "source": [
    "from main_extractor import *\n",
    "from utils.text_feature import *\n",
    "from utils.dict_lib import *\n",
    "\n",
    "fs = [TextFeature(\"rank\", \"mean_key\"), TextFeature(\"words\", \"select_keys_proportion\", args=(\"я\", \"ты\")), \n",
    "      TextFeature(\"parts\", \"select_keys_proportion\", args=(\"VERB\",)), TextFeature(\"len_words\", \"mean_key\", args=(16,)),\n",
    "      TextFeature(\"homogeneity\", \"mean_key\", args=(100,))]\n",
    "\n",
    "d = text2fеatures(\"1813\\\\3\", fs)\n",
    "print(d)\n",
    "\n",
    "d = important_feature(\"words\", n_top=30, rang=(2, 5))\n",
    "print(d)\n",
    "print(len(d))\n",
    "\n",
    "d = important_feature(\"n_grams_letter\", n_top=40, rang=(3, 5))\n",
    "print(d)\n",
    "print(count_features(fs))\n",
    "print(get_names(fs))"
   ]
  },
  {
   "cell_type": "code",
   "execution_count": 1,
   "id": "bde6ee7c-a997-41bd-b6e9-e28fb23ff53a",
   "metadata": {
    "tags": []
   },
   "outputs": [
    {
     "name": "stdout",
     "output_type": "stream",
     "text": [
      "463\n"
     ]
    }
   ],
   "source": [
    "from models.data import *\n",
    "from periods import *\n",
    "\n",
    "fs = [TextFeature(\"len_words\", \"mean_key\", args=(25,)), TextFeature(\"homogeneity\", \"mean_key\", args=(100,)), TextFeature(\"rank\", \"mean_key\"), \n",
    "      TextFeature(\"words\", \"select_keys_proportion\", args=(\"любовь\", \"друг\", \"вы\", \"мы\", \"он\", \"они\")),\n",
    "      TextFeature(\"puncts\", \"select_keys_proportion\", args=(\"!\",)),\n",
    "      TextFeature(\"parts\", \"select_keys_proportion\", args=(\"PRON\", \"PROPN\")), \n",
    "      TextFeature(\"rels\", \"select_keys_proportion\", args=(\"nsubj\", \"advmod\", \"amod\", \"obl\", \"nmod\")),\n",
    "      TextFeature(\"n_grams_all_symb\", \"select_keys_proportion\", args=(\" не\", \"не \", \" мо\")),\n",
    "      TextFeature(\"n_grams_letter\", \"select_keys_proportion\", args=(\"ста\", \"его\"))]\n",
    "\n",
    "big_per1 = sum(periods[:2], [])\n",
    "big_per2 = sum(periods[2:], [])\n",
    "pers = [big_per1, big_per2]\n",
    "\n",
    "data = get_data(pers, fs, [0, 1], train_part=0.8, val_part=0.1, not_null_bord=14)\n",
    "print(data.size())"
   ]
  },
  {
   "cell_type": "code",
   "execution_count": 4,
   "id": "e057dc49-b50d-4b21-9d77-9f62e88fde45",
   "metadata": {
    "tags": []
   },
   "outputs": [
    {
     "name": "stdout",
     "output_type": "stream",
     "text": [
      "Model: \"sequential_2\"\n",
      "_________________________________________________________________\n",
      " Layer (type)                Output Shape              Param #   \n",
      "=================================================================\n",
      " dense_10 (Dense)            (None, 16)                368       \n",
      "                                                                 \n",
      " dense_11 (Dense)            (None, 12)                204       \n",
      "                                                                 \n",
      " dense_12 (Dense)            (None, 6)                 78        \n",
      "                                                                 \n",
      " dense_13 (Dense)            (None, 4)                 28        \n",
      "                                                                 \n",
      " dense_14 (Dense)            (None, 1)                 5         \n",
      "                                                                 \n",
      "=================================================================\n",
      "Total params: 683\n",
      "Trainable params: 683\n",
      "Non-trainable params: 0\n",
      "_________________________________________________________________\n",
      "Epoch 1/120\n",
      "12/12 [==============================] - 1s 22ms/step - loss: 0.6865 - acc: 0.6757 - val_loss: 0.6799 - val_acc: 0.7111\n",
      "Epoch 2/120\n",
      "12/12 [==============================] - 0s 6ms/step - loss: 0.6760 - acc: 0.7081 - val_loss: 0.6698 - val_acc: 0.7111\n",
      "Epoch 3/120\n",
      "12/12 [==============================] - 0s 6ms/step - loss: 0.6661 - acc: 0.7081 - val_loss: 0.6601 - val_acc: 0.7111\n",
      "Epoch 4/120\n",
      "12/12 [==============================] - 0s 6ms/step - loss: 0.6568 - acc: 0.7081 - val_loss: 0.6503 - val_acc: 0.7111\n",
      "Epoch 5/120\n",
      "12/12 [==============================] - 0s 7ms/step - loss: 0.6470 - acc: 0.7081 - val_loss: 0.6392 - val_acc: 0.7111\n",
      "Epoch 6/120\n",
      "12/12 [==============================] - 0s 11ms/step - loss: 0.6363 - acc: 0.7081 - val_loss: 0.6283 - val_acc: 0.7111\n",
      "Epoch 7/120\n",
      "12/12 [==============================] - 0s 6ms/step - loss: 0.6261 - acc: 0.7081 - val_loss: 0.6187 - val_acc: 0.7111\n",
      "Epoch 8/120\n",
      "12/12 [==============================] - 0s 7ms/step - loss: 0.6178 - acc: 0.7081 - val_loss: 0.6107 - val_acc: 0.7111\n",
      "Epoch 9/120\n",
      "12/12 [==============================] - 0s 6ms/step - loss: 0.6112 - acc: 0.7081 - val_loss: 0.6046 - val_acc: 0.7111\n",
      "Epoch 10/120\n",
      "12/12 [==============================] - 0s 6ms/step - loss: 0.6061 - acc: 0.7081 - val_loss: 0.6014 - val_acc: 0.7111\n",
      "Epoch 11/120\n",
      "12/12 [==============================] - 0s 8ms/step - loss: 0.6042 - acc: 0.7081 - val_loss: 0.5991 - val_acc: 0.7111\n",
      "Epoch 12/120\n",
      "12/12 [==============================] - 0s 6ms/step - loss: 0.6023 - acc: 0.7081 - val_loss: 0.5976 - val_acc: 0.7111\n",
      "Epoch 13/120\n",
      "12/12 [==============================] - 0s 6ms/step - loss: 0.6012 - acc: 0.7081 - val_loss: 0.5964 - val_acc: 0.7111\n",
      "Epoch 14/120\n",
      "12/12 [==============================] - 0s 8ms/step - loss: 0.6006 - acc: 0.7081 - val_loss: 0.5955 - val_acc: 0.7111\n",
      "Epoch 15/120\n",
      "12/12 [==============================] - 0s 6ms/step - loss: 0.5997 - acc: 0.7081 - val_loss: 0.5946 - val_acc: 0.7111\n",
      "Epoch 16/120\n",
      "12/12 [==============================] - 0s 6ms/step - loss: 0.5987 - acc: 0.7081 - val_loss: 0.5938 - val_acc: 0.7111\n",
      "Epoch 17/120\n",
      "12/12 [==============================] - 0s 6ms/step - loss: 0.5987 - acc: 0.7081 - val_loss: 0.5930 - val_acc: 0.7111\n",
      "Epoch 18/120\n",
      "12/12 [==============================] - 0s 8ms/step - loss: 0.5974 - acc: 0.7081 - val_loss: 0.5921 - val_acc: 0.7111\n",
      "Epoch 19/120\n",
      "12/12 [==============================] - 0s 6ms/step - loss: 0.5968 - acc: 0.7081 - val_loss: 0.5912 - val_acc: 0.7111\n",
      "Epoch 20/120\n",
      "12/12 [==============================] - 0s 6ms/step - loss: 0.5960 - acc: 0.7081 - val_loss: 0.5903 - val_acc: 0.7111\n",
      "Epoch 21/120\n",
      "12/12 [==============================] - 0s 8ms/step - loss: 0.5956 - acc: 0.7081 - val_loss: 0.5894 - val_acc: 0.7111\n",
      "Epoch 22/120\n",
      "12/12 [==============================] - 0s 6ms/step - loss: 0.5944 - acc: 0.7081 - val_loss: 0.5882 - val_acc: 0.7111\n",
      "Epoch 23/120\n",
      "12/12 [==============================] - 0s 7ms/step - loss: 0.5936 - acc: 0.7081 - val_loss: 0.5872 - val_acc: 0.7111\n",
      "Epoch 24/120\n",
      "12/12 [==============================] - 0s 8ms/step - loss: 0.5928 - acc: 0.7081 - val_loss: 0.5860 - val_acc: 0.7111\n",
      "Epoch 25/120\n",
      "12/12 [==============================] - 0s 7ms/step - loss: 0.5917 - acc: 0.7081 - val_loss: 0.5847 - val_acc: 0.7111\n",
      "Epoch 26/120\n",
      "12/12 [==============================] - 0s 7ms/step - loss: 0.5912 - acc: 0.7081 - val_loss: 0.5834 - val_acc: 0.7111\n",
      "Epoch 27/120\n",
      "12/12 [==============================] - 0s 6ms/step - loss: 0.5899 - acc: 0.7081 - val_loss: 0.5821 - val_acc: 0.7111\n",
      "Epoch 28/120\n",
      "12/12 [==============================] - 0s 6ms/step - loss: 0.5883 - acc: 0.7081 - val_loss: 0.5805 - val_acc: 0.7111\n",
      "Epoch 29/120\n",
      "12/12 [==============================] - 0s 8ms/step - loss: 0.5868 - acc: 0.7081 - val_loss: 0.5786 - val_acc: 0.7111\n",
      "Epoch 30/120\n",
      "12/12 [==============================] - 0s 6ms/step - loss: 0.5856 - acc: 0.7081 - val_loss: 0.5768 - val_acc: 0.7111\n",
      "Epoch 31/120\n",
      "12/12 [==============================] - 0s 8ms/step - loss: 0.5840 - acc: 0.7081 - val_loss: 0.5749 - val_acc: 0.7111\n",
      "Epoch 32/120\n",
      "12/12 [==============================] - 0s 6ms/step - loss: 0.5821 - acc: 0.7081 - val_loss: 0.5729 - val_acc: 0.7111\n",
      "Epoch 33/120\n",
      "12/12 [==============================] - 0s 10ms/step - loss: 0.5811 - acc: 0.7081 - val_loss: 0.5711 - val_acc: 0.7111\n",
      "Epoch 34/120\n",
      "12/12 [==============================] - 0s 8ms/step - loss: 0.5787 - acc: 0.7081 - val_loss: 0.5687 - val_acc: 0.7111\n",
      "Epoch 35/120\n",
      "12/12 [==============================] - 0s 7ms/step - loss: 0.5773 - acc: 0.7081 - val_loss: 0.5666 - val_acc: 0.7111\n",
      "Epoch 36/120\n",
      "12/12 [==============================] - 0s 8ms/step - loss: 0.5754 - acc: 0.7081 - val_loss: 0.5644 - val_acc: 0.7111\n",
      "Epoch 37/120\n",
      "12/12 [==============================] - 0s 6ms/step - loss: 0.5729 - acc: 0.7081 - val_loss: 0.5619 - val_acc: 0.7111\n",
      "Epoch 38/120\n",
      "12/12 [==============================] - 0s 6ms/step - loss: 0.5712 - acc: 0.7081 - val_loss: 0.5591 - val_acc: 0.7111\n",
      "Epoch 39/120\n",
      "12/12 [==============================] - 0s 9ms/step - loss: 0.5682 - acc: 0.7081 - val_loss: 0.5559 - val_acc: 0.7111\n",
      "Epoch 40/120\n",
      "12/12 [==============================] - 0s 8ms/step - loss: 0.5658 - acc: 0.7081 - val_loss: 0.5526 - val_acc: 0.7111\n",
      "Epoch 41/120\n",
      "12/12 [==============================] - 0s 7ms/step - loss: 0.5633 - acc: 0.7081 - val_loss: 0.5496 - val_acc: 0.7111\n",
      "Epoch 42/120\n",
      "12/12 [==============================] - 0s 8ms/step - loss: 0.5608 - acc: 0.7081 - val_loss: 0.5465 - val_acc: 0.7111\n",
      "Epoch 43/120\n",
      "12/12 [==============================] - 0s 8ms/step - loss: 0.5577 - acc: 0.7081 - val_loss: 0.5430 - val_acc: 0.7111\n",
      "Epoch 44/120\n",
      "12/12 [==============================] - 0s 6ms/step - loss: 0.5548 - acc: 0.7081 - val_loss: 0.5392 - val_acc: 0.7111\n",
      "Epoch 45/120\n",
      "12/12 [==============================] - 0s 8ms/step - loss: 0.5522 - acc: 0.7081 - val_loss: 0.5355 - val_acc: 0.7111\n",
      "Epoch 46/120\n",
      "12/12 [==============================] - 0s 8ms/step - loss: 0.5482 - acc: 0.7081 - val_loss: 0.5315 - val_acc: 0.7111\n",
      "Epoch 47/120\n",
      "12/12 [==============================] - 0s 7ms/step - loss: 0.5449 - acc: 0.7081 - val_loss: 0.5278 - val_acc: 0.7111\n",
      "Epoch 48/120\n",
      "12/12 [==============================] - 0s 6ms/step - loss: 0.5430 - acc: 0.7081 - val_loss: 0.5244 - val_acc: 0.7111\n",
      "Epoch 49/120\n",
      "12/12 [==============================] - 0s 6ms/step - loss: 0.5392 - acc: 0.7081 - val_loss: 0.5208 - val_acc: 0.7111\n",
      "Epoch 50/120\n",
      "12/12 [==============================] - 0s 7ms/step - loss: 0.5353 - acc: 0.7081 - val_loss: 0.5159 - val_acc: 0.7111\n",
      "Epoch 51/120\n",
      "12/12 [==============================] - 0s 7ms/step - loss: 0.5324 - acc: 0.7054 - val_loss: 0.5113 - val_acc: 0.7333\n",
      "Epoch 52/120\n",
      "12/12 [==============================] - 0s 7ms/step - loss: 0.5280 - acc: 0.7054 - val_loss: 0.5069 - val_acc: 0.7333\n",
      "Epoch 53/120\n",
      "12/12 [==============================] - 0s 7ms/step - loss: 0.5253 - acc: 0.7054 - val_loss: 0.5030 - val_acc: 0.7333\n",
      "Epoch 54/120\n",
      "12/12 [==============================] - 0s 6ms/step - loss: 0.5204 - acc: 0.7054 - val_loss: 0.4989 - val_acc: 0.7333\n",
      "Epoch 55/120\n",
      "12/12 [==============================] - 0s 6ms/step - loss: 0.5187 - acc: 0.7081 - val_loss: 0.4944 - val_acc: 0.7333\n",
      "Epoch 56/120\n",
      "12/12 [==============================] - 0s 8ms/step - loss: 0.5140 - acc: 0.7189 - val_loss: 0.4913 - val_acc: 0.7333\n",
      "Epoch 57/120\n",
      "12/12 [==============================] - 0s 6ms/step - loss: 0.5116 - acc: 0.7162 - val_loss: 0.4873 - val_acc: 0.7333\n",
      "Epoch 58/120\n",
      "12/12 [==============================] - 0s 8ms/step - loss: 0.5092 - acc: 0.7216 - val_loss: 0.4836 - val_acc: 0.7556\n",
      "Epoch 59/120\n",
      "12/12 [==============================] - 0s 6ms/step - loss: 0.5044 - acc: 0.7432 - val_loss: 0.4794 - val_acc: 0.7556\n",
      "Epoch 60/120\n",
      "12/12 [==============================] - 0s 9ms/step - loss: 0.5015 - acc: 0.7459 - val_loss: 0.4751 - val_acc: 0.7556\n",
      "Epoch 61/120\n",
      "12/12 [==============================] - 0s 8ms/step - loss: 0.4973 - acc: 0.7405 - val_loss: 0.4702 - val_acc: 0.7556\n",
      "Epoch 62/120\n",
      "12/12 [==============================] - 0s 8ms/step - loss: 0.4936 - acc: 0.7568 - val_loss: 0.4673 - val_acc: 0.7556\n",
      "Epoch 63/120\n",
      "12/12 [==============================] - 0s 7ms/step - loss: 0.4910 - acc: 0.7541 - val_loss: 0.4626 - val_acc: 0.7333\n",
      "Epoch 64/120\n",
      "12/12 [==============================] - 0s 7ms/step - loss: 0.4879 - acc: 0.7568 - val_loss: 0.4623 - val_acc: 0.7333\n",
      "Epoch 65/120\n",
      "12/12 [==============================] - 0s 7ms/step - loss: 0.4855 - acc: 0.7514 - val_loss: 0.4573 - val_acc: 0.7333\n",
      "Epoch 66/120\n",
      "12/12 [==============================] - 0s 7ms/step - loss: 0.4827 - acc: 0.7514 - val_loss: 0.4556 - val_acc: 0.7333\n",
      "Epoch 67/120\n",
      "12/12 [==============================] - 0s 7ms/step - loss: 0.4803 - acc: 0.7514 - val_loss: 0.4498 - val_acc: 0.7333\n",
      "Epoch 68/120\n",
      "12/12 [==============================] - 0s 6ms/step - loss: 0.4752 - acc: 0.7595 - val_loss: 0.4522 - val_acc: 0.7556\n",
      "Epoch 69/120\n",
      "12/12 [==============================] - 0s 8ms/step - loss: 0.4745 - acc: 0.7568 - val_loss: 0.4445 - val_acc: 0.7333\n",
      "Epoch 70/120\n",
      "12/12 [==============================] - 0s 6ms/step - loss: 0.4724 - acc: 0.7622 - val_loss: 0.4414 - val_acc: 0.7556\n",
      "Epoch 71/120\n",
      "12/12 [==============================] - 0s 8ms/step - loss: 0.4710 - acc: 0.7622 - val_loss: 0.4399 - val_acc: 0.7556\n",
      "Epoch 72/120\n",
      "12/12 [==============================] - 0s 9ms/step - loss: 0.4671 - acc: 0.7595 - val_loss: 0.4366 - val_acc: 0.7778\n",
      "Epoch 73/120\n",
      "12/12 [==============================] - 0s 6ms/step - loss: 0.4659 - acc: 0.7568 - val_loss: 0.4358 - val_acc: 0.7556\n",
      "Epoch 74/120\n",
      "12/12 [==============================] - 0s 8ms/step - loss: 0.4634 - acc: 0.7622 - val_loss: 0.4321 - val_acc: 0.7778\n",
      "Epoch 75/120\n",
      "12/12 [==============================] - 0s 8ms/step - loss: 0.4611 - acc: 0.7757 - val_loss: 0.4316 - val_acc: 0.7778\n",
      "Epoch 76/120\n",
      "12/12 [==============================] - 0s 8ms/step - loss: 0.4607 - acc: 0.7784 - val_loss: 0.4342 - val_acc: 0.7556\n",
      "Epoch 77/120\n",
      "12/12 [==============================] - 0s 8ms/step - loss: 0.4599 - acc: 0.7649 - val_loss: 0.4303 - val_acc: 0.7778\n",
      "Epoch 78/120\n",
      "12/12 [==============================] - 0s 7ms/step - loss: 0.4581 - acc: 0.7757 - val_loss: 0.4281 - val_acc: 0.7778\n",
      "Epoch 79/120\n",
      "12/12 [==============================] - 0s 10ms/step - loss: 0.4555 - acc: 0.7784 - val_loss: 0.4262 - val_acc: 0.8000\n",
      "Epoch 80/120\n",
      "12/12 [==============================] - 0s 8ms/step - loss: 0.4541 - acc: 0.7784 - val_loss: 0.4250 - val_acc: 0.8000\n",
      "Epoch 81/120\n",
      "12/12 [==============================] - 0s 6ms/step - loss: 0.4529 - acc: 0.7811 - val_loss: 0.4235 - val_acc: 0.8000\n",
      "Epoch 82/120\n",
      "12/12 [==============================] - 0s 8ms/step - loss: 0.4499 - acc: 0.7865 - val_loss: 0.4205 - val_acc: 0.8000\n",
      "Epoch 83/120\n",
      "12/12 [==============================] - 0s 8ms/step - loss: 0.4481 - acc: 0.7865 - val_loss: 0.4284 - val_acc: 0.7778\n",
      "Epoch 84/120\n",
      "12/12 [==============================] - 0s 8ms/step - loss: 0.4497 - acc: 0.7784 - val_loss: 0.4233 - val_acc: 0.8000\n",
      "Epoch 85/120\n",
      "12/12 [==============================] - 0s 8ms/step - loss: 0.4478 - acc: 0.7838 - val_loss: 0.4218 - val_acc: 0.8000\n",
      "Epoch 86/120\n",
      "12/12 [==============================] - 0s 6ms/step - loss: 0.4448 - acc: 0.7784 - val_loss: 0.4181 - val_acc: 0.8000\n",
      "Epoch 87/120\n",
      "12/12 [==============================] - 0s 7ms/step - loss: 0.4424 - acc: 0.7946 - val_loss: 0.4195 - val_acc: 0.8000\n",
      "Epoch 88/120\n",
      "12/12 [==============================] - 0s 9ms/step - loss: 0.4434 - acc: 0.7865 - val_loss: 0.4159 - val_acc: 0.8000\n",
      "Epoch 89/120\n",
      "12/12 [==============================] - 0s 7ms/step - loss: 0.4410 - acc: 0.7946 - val_loss: 0.4186 - val_acc: 0.8000\n",
      "Epoch 90/120\n",
      "12/12 [==============================] - 0s 6ms/step - loss: 0.4390 - acc: 0.7973 - val_loss: 0.4143 - val_acc: 0.8000\n",
      "Epoch 91/120\n",
      "12/12 [==============================] - 0s 8ms/step - loss: 0.4380 - acc: 0.7946 - val_loss: 0.4148 - val_acc: 0.8000\n",
      "Epoch 92/120\n",
      "12/12 [==============================] - 0s 11ms/step - loss: 0.4365 - acc: 0.7892 - val_loss: 0.4112 - val_acc: 0.8222\n",
      "Epoch 93/120\n",
      "12/12 [==============================] - 0s 7ms/step - loss: 0.4345 - acc: 0.7946 - val_loss: 0.4125 - val_acc: 0.8000\n",
      "Epoch 94/120\n",
      "12/12 [==============================] - 0s 8ms/step - loss: 0.4340 - acc: 0.7757 - val_loss: 0.4226 - val_acc: 0.8000\n",
      "Epoch 95/120\n",
      "12/12 [==============================] - 0s 8ms/step - loss: 0.4305 - acc: 0.8054 - val_loss: 0.4103 - val_acc: 0.8222\n",
      "Epoch 96/120\n",
      "12/12 [==============================] - 0s 8ms/step - loss: 0.4299 - acc: 0.8000 - val_loss: 0.4162 - val_acc: 0.8000\n",
      "Epoch 97/120\n",
      "12/12 [==============================] - 0s 7ms/step - loss: 0.4302 - acc: 0.7973 - val_loss: 0.4104 - val_acc: 0.8222\n",
      "Epoch 98/120\n",
      "12/12 [==============================] - 0s 6ms/step - loss: 0.4288 - acc: 0.7892 - val_loss: 0.4092 - val_acc: 0.8222\n",
      "Epoch 99/120\n",
      "12/12 [==============================] - 0s 7ms/step - loss: 0.4252 - acc: 0.8000 - val_loss: 0.4167 - val_acc: 0.8000\n",
      "Epoch 100/120\n",
      "12/12 [==============================] - 0s 7ms/step - loss: 0.4277 - acc: 0.7919 - val_loss: 0.4171 - val_acc: 0.8000\n",
      "Epoch 101/120\n",
      "12/12 [==============================] - 0s 8ms/step - loss: 0.4243 - acc: 0.7946 - val_loss: 0.4100 - val_acc: 0.8222\n",
      "Epoch 102/120\n",
      "12/12 [==============================] - 0s 6ms/step - loss: 0.4227 - acc: 0.8054 - val_loss: 0.4129 - val_acc: 0.8222\n",
      "Epoch 103/120\n",
      "12/12 [==============================] - 0s 8ms/step - loss: 0.4212 - acc: 0.7973 - val_loss: 0.4060 - val_acc: 0.8000\n",
      "Epoch 104/120\n",
      "12/12 [==============================] - 0s 8ms/step - loss: 0.4205 - acc: 0.8027 - val_loss: 0.4072 - val_acc: 0.8000\n",
      "Epoch 105/120\n",
      "12/12 [==============================] - 0s 9ms/step - loss: 0.4193 - acc: 0.8081 - val_loss: 0.4070 - val_acc: 0.8000\n",
      "Epoch 106/120\n",
      "12/12 [==============================] - 0s 8ms/step - loss: 0.4186 - acc: 0.7973 - val_loss: 0.4065 - val_acc: 0.8000\n",
      "Epoch 107/120\n",
      "12/12 [==============================] - 0s 8ms/step - loss: 0.4194 - acc: 0.7919 - val_loss: 0.4062 - val_acc: 0.8000\n",
      "Epoch 108/120\n",
      "12/12 [==============================] - 0s 7ms/step - loss: 0.4146 - acc: 0.7919 - val_loss: 0.4112 - val_acc: 0.8222\n",
      "Epoch 109/120\n",
      "12/12 [==============================] - 0s 8ms/step - loss: 0.4161 - acc: 0.7973 - val_loss: 0.4066 - val_acc: 0.8000\n",
      "Epoch 110/120\n",
      "12/12 [==============================] - 0s 6ms/step - loss: 0.4139 - acc: 0.8054 - val_loss: 0.4063 - val_acc: 0.8000\n",
      "Epoch 111/120\n",
      "12/12 [==============================] - 0s 6ms/step - loss: 0.4102 - acc: 0.8027 - val_loss: 0.4172 - val_acc: 0.8222\n",
      "Epoch 112/120\n",
      "12/12 [==============================] - 0s 6ms/step - loss: 0.4130 - acc: 0.8027 - val_loss: 0.4066 - val_acc: 0.8000\n",
      "Epoch 113/120\n",
      "12/12 [==============================] - 0s 8ms/step - loss: 0.4108 - acc: 0.8054 - val_loss: 0.4066 - val_acc: 0.8000\n",
      "Epoch 114/120\n",
      "12/12 [==============================] - 0s 6ms/step - loss: 0.4066 - acc: 0.8000 - val_loss: 0.4215 - val_acc: 0.8222\n",
      "Epoch 115/120\n",
      "12/12 [==============================] - 0s 7ms/step - loss: 0.4072 - acc: 0.7892 - val_loss: 0.4120 - val_acc: 0.8000\n",
      "Epoch 116/120\n",
      "12/12 [==============================] - 0s 7ms/step - loss: 0.4062 - acc: 0.7973 - val_loss: 0.4124 - val_acc: 0.8000\n",
      "Epoch 117/120\n",
      "12/12 [==============================] - 0s 7ms/step - loss: 0.4070 - acc: 0.7919 - val_loss: 0.4095 - val_acc: 0.8000\n",
      "Epoch 118/120\n",
      "12/12 [==============================] - 0s 6ms/step - loss: 0.4019 - acc: 0.8081 - val_loss: 0.4198 - val_acc: 0.8222\n",
      "Epoch 119/120\n",
      "12/12 [==============================] - 0s 6ms/step - loss: 0.4036 - acc: 0.7946 - val_loss: 0.4169 - val_acc: 0.8000\n",
      "Epoch 120/120\n",
      "12/12 [==============================] - 0s 8ms/step - loss: 0.4002 - acc: 0.8135 - val_loss: 0.4153 - val_acc: 0.8000\n",
      "2/2 [==============================] - 0s 0s/step - loss: 0.4370 - acc: 0.7917\n",
      "[0.4370405375957489, 0.7916666865348816]\n"
     ]
    },
    {
     "data": {
      "image/png": "[encoded data removed]",
      "text/plain": [
       "<Figure size 640x480 with 1 Axes>"
      ]
     },
     "metadata": {},
     "output_type": "display_data"
    },
    {
     "data": {
      "image/png": "[encoded data removed]",
      "text/plain": [
       "<Figure size 640x480 with 1 Axes>"
      ]
     },
     "metadata": {},
     "output_type": "display_data"
    }
   ],
   "source": [
    "from models.fit import fit\n",
    "from models.models import get_model1\n",
    "from utils.text_feature import count_features\n",
    "\n",
    "epochs = 120\n",
    "model = get_model1(count_features(fs))\n",
    "model.summary()\n",
    "fit(model, data, epochs)"
   ]
  },
  {
   "cell_type": "code",
   "execution_count": 5,
   "id": "1ae56c4f-b6c2-4f15-9a8b-44a3d61019d8",
   "metadata": {
    "tags": []
   },
   "outputs": [],
   "source": [
    "from models.data import *\n",
    "\n",
    "data.save('data2')"
   ]
  },
  {
   "cell_type": "code",
   "execution_count": 6,
   "id": "4e3490ad-0442-4c53-ae4d-4016594a1279",
   "metadata": {
    "tags": []
   },
   "outputs": [
    {
     "name": "stdout",
     "output_type": "stream",
     "text": [
      "3/3 [==============================] - 0s 5ms/step - loss: 0.4265 - acc: 0.7957\n"
     ]
    },
    {
     "data": {
      "text/plain": [
       "[0.4265146255493164, 0.7956989407539368]"
      ]
     },
     "execution_count": 6,
     "metadata": {},
     "output_type": "execute_result"
    }
   ],
   "source": [
    "model.save(root + \"models\\\\saved_models\\\\2per(1820) acc0.791 data2.keras\")\n",
    "\n",
    "model.evaluate(data.x_val+data.x_test, data.y_val+data.y_test)"
   ]
  },
  {
   "cell_type": "code",
   "execution_count": 7,
   "id": "d189a0b2-b031-445e-b4fd-31d810047eb4",
   "metadata": {
    "tags": []
   },
   "outputs": [
    {
     "name": "stdout",
     "output_type": "stream",
     "text": [
      "3/3 [==============================] - 0s 3ms/step - loss: 0.4265 - acc: 0.7957\n",
      "3/3 [==============================] - 0s 2ms/step\n",
      "threshold 0.0: acc = 0.7096774193548387, precision = 0.7096774193548387, recall = 1.0, f1 = 0.8301886792452831, fpr = 1.0\n",
      "threshold 0.05: acc = 0.7096774193548387, precision = 0.7096774193548387, recall = 1.0, f1 = 0.8301886792452831, fpr = 1.0\n",
      "threshold 0.1: acc = 0.7096774193548387, precision = 0.7096774193548387, recall = 1.0, f1 = 0.8301886792452831, fpr = 1.0\n",
      "threshold 0.15: acc = 0.7204301075268817, precision = 0.717391304347826, recall = 1.0, f1 = 0.8354430379746834, fpr = 0.9629629629629629\n",
      "threshold 0.2: acc = 0.7204301075268817, precision = 0.7222222222222222, recall = 0.9848484848484849, f1 = 0.8333333333333333, fpr = 0.9259259259259259\n",
      "threshold 0.25: acc = 0.7526881720430108, precision = 0.7471264367816092, recall = 0.9848484848484849, f1 = 0.8496732026143791, fpr = 0.8148148148148148\n",
      "threshold 0.3: acc = 0.7849462365591398, precision = 0.7804878048780488, recall = 0.9696969696969697, f1 = 0.8648648648648648, fpr = 0.6666666666666666\n",
      "threshold 0.35: acc = 0.7956989247311828, precision = 0.7974683544303798, recall = 0.9545454545454546, f1 = 0.8689655172413794, fpr = 0.5925925925925926\n",
      "threshold 0.4: acc = 0.8064516129032258, precision = 0.8076923076923077, recall = 0.9545454545454546, f1 = 0.875, fpr = 0.5555555555555556\n",
      "threshold 0.45: acc = 0.7956989247311828, precision = 0.821917808219178, recall = 0.9090909090909091, f1 = 0.8633093525179857, fpr = 0.48148148148148145\n",
      "threshold 0.5: acc = 0.7956989247311828, precision = 0.8309859154929577, recall = 0.8939393939393939, f1 = 0.8613138686131386, fpr = 0.4444444444444444\n",
      "threshold 0.55: acc = 0.7956989247311828, precision = 0.8309859154929577, recall = 0.8939393939393939, f1 = 0.8613138686131386, fpr = 0.4444444444444444\n",
      "threshold 0.6: acc = 0.8172043010752689, precision = 0.8656716417910447, recall = 0.8787878787878788, f1 = 0.8721804511278195, fpr = 0.3333333333333333\n",
      "threshold 0.65: acc = 0.8064516129032258, precision = 0.875, recall = 0.8484848484848485, f1 = 0.8615384615384615, fpr = 0.2962962962962963\n",
      "threshold 0.7: acc = 0.8064516129032258, precision = 0.8870967741935484, recall = 0.8333333333333334, f1 = 0.859375, fpr = 0.25925925925925924\n",
      "threshold 0.75: acc = 0.8064516129032258, precision = 0.9, recall = 0.8181818181818182, f1 = 0.8571428571428572, fpr = 0.2222222222222222\n",
      "threshold 0.8: acc = 0.8064516129032258, precision = 0.9285714285714286, recall = 0.7878787878787878, f1 = 0.8524590163934426, fpr = 0.14814814814814814\n",
      "threshold 0.85: acc = 0.7419354838709677, precision = 0.9375, recall = 0.6818181818181818, f1 = 0.7894736842105263, fpr = 0.1111111111111111\n",
      "threshold 0.9: acc = 0.6559139784946236, precision = 0.9473684210526315, recall = 0.5454545454545454, f1 = 0.6923076923076923, fpr = 0.07407407407407407\n",
      "threshold 0.95: acc = 0.5483870967741935, precision = 0.9615384615384616, recall = 0.3787878787878788, f1 = 0.5434782608695652, fpr = 0.037037037037037035\n"
     ]
    },
    {
     "data": {
      "image/png": "[encoded data removed]",
      "text/plain": [
       "<Figure size 640x480 with 1 Axes>"
      ]
     },
     "metadata": {},
     "output_type": "display_data"
    },
    {
     "data": {
      "image/png": "[encoded data removed]",
      "text/plain": [
       "<Figure size 640x480 with 1 Axes>"
      ]
     },
     "metadata": {},
     "output_type": "display_data"
    }
   ],
   "source": [
    "from keras import models\n",
    "from models.data import *\n",
    "from models.fit import show_metrics\n",
    "\n",
    "#data = load_data('data1')\n",
    "#loaded_model = models.load_model(root + \"models\\\\saved_models\\\\2per(1824) acc0.758 data1.keras\")\n",
    "loaded_model = model\n",
    "loaded_model.evaluate(data.x_val+data.x_test, data.y_val+data.y_test)\n",
    "predicts = loaded_model.predict(data.x_val+data.x_test)\n",
    "show_metrics(predicts, data.y_val+data.y_test)"
   ]
  },
  {
   "cell_type": "code",
   "execution_count": 8,
   "id": "ea3b98fe-5988-4a65-a687-a01189d39051",
   "metadata": {
    "tags": []
   },
   "outputs": [
    {
     "name": "stdout",
     "output_type": "stream",
     "text": [
      "2/2 [==============================] - 0s 14ms/step - loss: 0.5978 - acc: 0.7581\n",
      "2/2 [==============================] - 0s 12ms/step\n",
      "threshold 0.0: acc = 0.4838709677419355, precision = 0.4838709677419355, recall = 1.0, f1 = 0.6521739130434783, fpr = 1.0\n",
      "threshold 0.05: acc = 0.4838709677419355, precision = 0.4838709677419355, recall = 1.0, f1 = 0.6521739130434783, fpr = 1.0\n",
      "threshold 0.1: acc = 0.4838709677419355, precision = 0.4838709677419355, recall = 1.0, f1 = 0.6521739130434783, fpr = 1.0\n",
      "threshold 0.15: acc = 0.4838709677419355, precision = 0.4838709677419355, recall = 1.0, f1 = 0.6521739130434783, fpr = 1.0\n",
      "threshold 0.2: acc = 0.4838709677419355, precision = 0.4838709677419355, recall = 1.0, f1 = 0.6521739130434783, fpr = 1.0\n",
      "threshold 0.25: acc = 0.4838709677419355, precision = 0.4838709677419355, recall = 1.0, f1 = 0.6521739130434783, fpr = 1.0\n",
      "threshold 0.3: acc = 0.5, precision = 0.4918032786885246, recall = 1.0, f1 = 0.6593406593406593, fpr = 0.96875\n",
      "threshold 0.35: acc = 0.5161290322580645, precision = 0.5, recall = 0.9666666666666667, f1 = 0.6590909090909091, fpr = 0.90625\n",
      "threshold 0.4: acc = 0.6612903225806451, precision = 0.5957446808510638, recall = 0.9333333333333333, f1 = 0.7272727272727273, fpr = 0.59375\n",
      "threshold 0.45: acc = 0.7419354838709677, precision = 0.6944444444444444, recall = 0.8333333333333334, f1 = 0.7575757575757577, fpr = 0.34375\n",
      "threshold 0.5: acc = 0.7580645161290323, precision = 0.7777777777777778, recall = 0.7, f1 = 0.7368421052631577, fpr = 0.1875\n",
      "threshold 0.55: acc = 0.7096774193548387, precision = 0.8, recall = 0.5333333333333333, f1 = 0.64, fpr = 0.125\n",
      "threshold 0.6: acc = 0.6290322580645161, precision = 0.8888888888888888, recall = 0.26666666666666666, f1 = 0.41025641025641024, fpr = 0.03125\n",
      "threshold 0.65: acc = 0.5645161290322581, precision = 1.0, recall = 0.1, f1 = 0.18181818181818182, fpr = 0.0\n",
      "threshold 0.7: acc = 0.532258064516129, precision = 1.0, recall = 0.03333333333333333, f1 = 0.06451612903225806, fpr = 0.0\n",
      "threshold 0.75: acc = 0.532258064516129, precision = 1.0, recall = 0.03333333333333333, f1 = 0.06451612903225806, fpr = 0.0\n"
     ]
    },
    {
     "data": {
      "image/png": "[encoded data removed]",
      "text/plain": [
       "<Figure size 640x480 with 1 Axes>"
      ]
     },
     "metadata": {},
     "output_type": "display_data"
    },
    {
     "data": {
      "image/png": "[encoded data removed]",
      "text/plain": [
       "<Figure size 640x480 with 1 Axes>"
      ]
     },
     "metadata": {},
     "output_type": "display_data"
    }
   ],
   "source": [
    "data = load_data('data1')\n",
    "loaded_model = models.load_model(root + \"models\\\\saved_models\\\\2per(1824) acc0.758 data1.keras\")\n",
    "\n",
    "loaded_model.evaluate(data.x_val+data.x_test, data.y_val+data.y_test)\n",
    "predicts = loaded_model.predict(data.x_val+data.x_test)\n",
    "show_metrics(predicts, data.y_val+data.y_test)"
   ]
  },
  {
   "cell_type": "code",
   "execution_count": 11,
   "id": "138461d8-fa7a-476c-bb73-9396f1bbdd7f",
   "metadata": {
    "tags": []
   },
   "outputs": [
    {
     "name": "stdout",
     "output_type": "stream",
     "text": [
      "15/15 [==============================] - 0s 1ms/step\n"
     ]
    },
    {
     "name": "stderr",
     "output_type": "stream",
     "text": [
      "Using 463 background data samples could cause slower run times. Consider using shap.sample(data, K) or shap.kmeans(data, K) to summarize the background as K samples.\n",
      "  0%|                                                                                          | 0/463 [00:00<?, ?it/s]"
     ]
    },
    {
     "name": "stdout",
     "output_type": "stream",
     "text": [
      "1/1 [==============================] - 0s 31ms/step\n",
      "30269/30269 [==============================] - 29s 950us/step\n"
     ]
    },
    {
     "name": "stderr",
     "output_type": "stream",
     "text": [
      "  0%|▏                                                                               | 1/463 [00:49<6:22:16, 49.65s/it]"
     ]
    },
    {
     "name": "stdout",
     "output_type": "stream",
     "text": [
      "1/1 [==============================] - 0s 31ms/step\n",
      "30269/30269 [==============================] - 27s 880us/step\n"
     ]
    },
    {
     "name": "stderr",
     "output_type": "stream",
     "text": [
      "  0%|▎                                                                               | 2/463 [01:31<5:48:28, 45.36s/it]"
     ]
    },
    {
     "name": "stdout",
     "output_type": "stream",
     "text": [
      "1/1 [==============================] - 0s 31ms/step\n",
      "30269/30269 [==============================] - 27s 887us/step\n"
     ]
    },
    {
     "name": "stderr",
     "output_type": "stream",
     "text": [
      "  1%|▌                                                                               | 3/463 [02:14<5:38:28, 44.15s/it]"
     ]
    },
    {
     "name": "stdout",
     "output_type": "stream",
     "text": [
      "1/1 [==============================] - 0s 31ms/step\n",
      "30269/30269 [==============================] - 27s 881us/step\n"
     ]
    },
    {
     "name": "stderr",
     "output_type": "stream",
     "text": [
      "  1%|▋                                                                               | 4/463 [02:57<5:32:17, 43.44s/it]"
     ]
    },
    {
     "name": "stdout",
     "output_type": "stream",
     "text": [
      "1/1 [==============================] - 0s 16ms/step\n",
      "30269/30269 [==============================] - 27s 888us/step\n"
     ]
    },
    {
     "name": "stderr",
     "output_type": "stream",
     "text": [
      "  1%|▊                                                                               | 5/463 [03:39<5:29:28, 43.16s/it]"
     ]
    },
    {
     "name": "stdout",
     "output_type": "stream",
     "text": [
      "1/1 [==============================] - 0s 16ms/step\n",
      "30269/30269 [==============================] - 27s 882us/step\n"
     ]
    },
    {
     "name": "stderr",
     "output_type": "stream",
     "text": [
      "  1%|█                                                                               | 6/463 [04:22<5:28:18, 43.10s/it]"
     ]
    },
    {
     "name": "stdout",
     "output_type": "stream",
     "text": [
      "1/1 [==============================] - 0s 16ms/step\n",
      "30269/30269 [==============================] - 28s 918us/step\n"
     ]
    },
    {
     "name": "stderr",
     "output_type": "stream",
     "text": [
      "  2%|█▏                                                                              | 7/463 [05:06<5:28:59, 43.29s/it]"
     ]
    },
    {
     "name": "stdout",
     "output_type": "stream",
     "text": [
      "1/1 [==============================] - 0s 16ms/step\n",
      "30269/30269 [==============================] - 27s 877us/step\n"
     ]
    },
    {
     "name": "stderr",
     "output_type": "stream",
     "text": [
      "  2%|█▍                                                                              | 8/463 [05:48<5:25:31, 42.93s/it]"
     ]
    },
    {
     "name": "stdout",
     "output_type": "stream",
     "text": [
      "1/1 [==============================] - 0s 31ms/step\n",
      "30269/30269 [==============================] - 27s 878us/step\n"
     ]
    },
    {
     "name": "stderr",
     "output_type": "stream",
     "text": [
      "  2%|█▌                                                                              | 9/463 [06:31<5:23:44, 42.79s/it]"
     ]
    },
    {
     "name": "stdout",
     "output_type": "stream",
     "text": [
      "1/1 [==============================] - 0s 31ms/step\n",
      "30269/30269 [==============================] - 27s 879us/step\n"
     ]
    },
    {
     "name": "stderr",
     "output_type": "stream",
     "text": [
      "  2%|█▋                                                                             | 10/463 [07:13<5:21:52, 42.63s/it]"
     ]
    },
    {
     "name": "stdout",
     "output_type": "stream",
     "text": [
      "1/1 [==============================] - 0s 16ms/step\n",
      "30269/30269 [==============================] - 26s 873us/step\n"
     ]
    },
    {
     "name": "stderr",
     "output_type": "stream",
     "text": [
      "  2%|█▉                                                                             | 11/463 [07:55<5:20:07, 42.49s/it]"
     ]
    },
    {
     "name": "stdout",
     "output_type": "stream",
     "text": [
      "1/1 [==============================] - 0s 31ms/step\n",
      "30269/30269 [==============================] - 27s 879us/step\n"
     ]
    },
    {
     "name": "stderr",
     "output_type": "stream",
     "text": [
      "  3%|██                                                                             | 12/463 [08:38<5:19:31, 42.51s/it]"
     ]
    },
    {
     "name": "stdout",
     "output_type": "stream",
     "text": [
      "1/1 [==============================] - 0s 31ms/step\n",
      "30269/30269 [==============================] - 27s 884us/step\n"
     ]
    },
    {
     "name": "stderr",
     "output_type": "stream",
     "text": [
      "  3%|██▏                                                                            | 13/463 [09:20<5:18:42, 42.49s/it]"
     ]
    },
    {
     "name": "stdout",
     "output_type": "stream",
     "text": [
      "1/1 [==============================] - 0s 16ms/step\n",
      "30269/30269 [==============================] - 27s 887us/step\n"
     ]
    },
    {
     "name": "stderr",
     "output_type": "stream",
     "text": [
      "  3%|██▍                                                                            | 14/463 [10:03<5:18:06, 42.51s/it]"
     ]
    },
    {
     "name": "stdout",
     "output_type": "stream",
     "text": [
      "1/1 [==============================] - 0s 35ms/step\n",
      "30269/30269 [==============================] - 27s 877us/step\n"
     ]
    },
    {
     "name": "stderr",
     "output_type": "stream",
     "text": [
      "  3%|██▌                                                                            | 15/463 [10:45<5:16:56, 42.45s/it]"
     ]
    },
    {
     "name": "stdout",
     "output_type": "stream",
     "text": [
      "1/1 [==============================] - 0s 16ms/step\n",
      "30269/30269 [==============================] - 27s 887us/step\n"
     ]
    },
    {
     "name": "stderr",
     "output_type": "stream",
     "text": [
      "  3%|██▋                                                                            | 16/463 [11:28<5:16:49, 42.53s/it]"
     ]
    },
    {
     "name": "stdout",
     "output_type": "stream",
     "text": [
      "1/1 [==============================] - 0s 31ms/step\n",
      "30269/30269 [==============================] - 27s 886us/step\n"
     ]
    },
    {
     "name": "stderr",
     "output_type": "stream",
     "text": [
      "  4%|██▉                                                                            | 17/463 [12:10<5:16:32, 42.58s/it]"
     ]
    },
    {
     "name": "stdout",
     "output_type": "stream",
     "text": [
      "1/1 [==============================] - 0s 31ms/step\n",
      "30269/30269 [==============================] - 27s 893us/step\n"
     ]
    },
    {
     "name": "stderr",
     "output_type": "stream",
     "text": [
      "  4%|███                                                                            | 18/463 [12:54<5:17:36, 42.82s/it]"
     ]
    },
    {
     "name": "stdout",
     "output_type": "stream",
     "text": [
      "1/1 [==============================] - 0s 17ms/step\n",
      "30269/30269 [==============================] - 31s 1ms/step\n"
     ]
    },
    {
     "name": "stderr",
     "output_type": "stream",
     "text": [
      "  4%|███▏                                                                           | 19/463 [13:43<5:31:42, 44.83s/it]"
     ]
    },
    {
     "name": "stdout",
     "output_type": "stream",
     "text": [
      "1/1 [==============================] - 0s 27ms/step\n",
      "30269/30269 [==============================] - 29s 971us/step\n"
     ]
    },
    {
     "name": "stderr",
     "output_type": "stream",
     "text": [
      "  4%|███▍                                                                           | 20/463 [14:29<5:32:30, 45.04s/it]"
     ]
    },
    {
     "name": "stdout",
     "output_type": "stream",
     "text": [
      "1/1 [==============================] - 0s 16ms/step\n",
      "30269/30269 [==============================] - 35s 1ms/step\n"
     ]
    },
    {
     "name": "stderr",
     "output_type": "stream",
     "text": [
      "  5%|███▌                                                                           | 21/463 [15:22<5:49:12, 47.40s/it]"
     ]
    },
    {
     "name": "stdout",
     "output_type": "stream",
     "text": [
      "1/1 [==============================] - 0s 31ms/step\n",
      "30269/30269 [==============================] - 35s 1ms/step\n"
     ]
    },
    {
     "name": "stderr",
     "output_type": "stream",
     "text": [
      "  5%|███▊                                                                           | 22/463 [16:13<5:57:35, 48.65s/it]"
     ]
    },
    {
     "name": "stdout",
     "output_type": "stream",
     "text": [
      "1/1 [==============================] - 0s 16ms/step\n",
      "30269/30269 [==============================] - 31s 1ms/step\n"
     ]
    },
    {
     "name": "stderr",
     "output_type": "stream",
     "text": [
      "  5%|███▉                                                                           | 23/463 [17:01<5:54:36, 48.35s/it]"
     ]
    },
    {
     "name": "stdout",
     "output_type": "stream",
     "text": [
      "1/1 [==============================] - 0s 23ms/step\n",
      "30269/30269 [==============================] - 31s 1ms/step\n"
     ]
    },
    {
     "name": "stderr",
     "output_type": "stream",
     "text": [
      "  5%|████                                                                           | 24/463 [17:48<5:51:29, 48.04s/it]"
     ]
    },
    {
     "name": "stdout",
     "output_type": "stream",
     "text": [
      "1/1 [==============================] - 0s 31ms/step\n",
      "30269/30269 [==============================] - 28s 932us/step\n"
     ]
    },
    {
     "name": "stderr",
     "output_type": "stream",
     "text": [
      "  5%|████▎                                                                          | 25/463 [18:33<5:42:56, 46.98s/it]"
     ]
    },
    {
     "name": "stdout",
     "output_type": "stream",
     "text": [
      "1/1 [==============================] - 0s 33ms/step\n",
      "30269/30269 [==============================] - 31s 1ms/step\n"
     ]
    },
    {
     "name": "stderr",
     "output_type": "stream",
     "text": [
      "  6%|████▍                                                                          | 26/463 [19:19<5:40:48, 46.79s/it]"
     ]
    },
    {
     "name": "stdout",
     "output_type": "stream",
     "text": [
      "1/1 [==============================] - 0s 23ms/step\n",
      "30269/30269 [==============================] - 30s 986us/step\n"
     ]
    },
    {
     "name": "stderr",
     "output_type": "stream",
     "text": [
      "  6%|████▌                                                                          | 27/463 [20:05<5:37:43, 46.48s/it]"
     ]
    },
    {
     "name": "stdout",
     "output_type": "stream",
     "text": [
      "1/1 [==============================] - 0s 8ms/step\n",
      "30269/30269 [==============================] - 36s 1ms/step\n"
     ]
    },
    {
     "name": "stderr",
     "output_type": "stream",
     "text": [
      "  6%|████▊                                                                          | 28/463 [20:57<5:49:32, 48.21s/it]"
     ]
    },
    {
     "name": "stdout",
     "output_type": "stream",
     "text": [
      "1/1 [==============================] - 0s 24ms/step\n",
      "30269/30269 [==============================] - 31s 1ms/step\n"
     ]
    },
    {
     "name": "stderr",
     "output_type": "stream",
     "text": [
      "  6%|████▉                                                                          | 29/463 [21:44<5:46:03, 47.84s/it]"
     ]
    },
    {
     "name": "stdout",
     "output_type": "stream",
     "text": [
      "1/1 [==============================] - 0s 22ms/step\n",
      "30269/30269 [==============================] - 33s 1ms/step\n"
     ]
    },
    {
     "name": "stderr",
     "output_type": "stream",
     "text": [
      "  6%|█████                                                                          | 30/463 [22:34<5:50:34, 48.58s/it]"
     ]
    },
    {
     "name": "stdout",
     "output_type": "stream",
     "text": [
      "1/1 [==============================] - 0s 24ms/step\n",
      "30269/30269 [==============================] - 31s 1ms/step\n"
     ]
    },
    {
     "name": "stderr",
     "output_type": "stream",
     "text": [
      "  7%|█████▎                                                                         | 31/463 [23:21<5:45:49, 48.03s/it]"
     ]
    },
    {
     "name": "stdout",
     "output_type": "stream",
     "text": [
      "1/1 [==============================] - 0s 16ms/step\n",
      "30269/30269 [==============================] - 28s 918us/step\n"
     ]
    },
    {
     "name": "stderr",
     "output_type": "stream",
     "text": [
      "  7%|█████▍                                                                         | 32/463 [24:05<5:35:28, 46.70s/it]"
     ]
    },
    {
     "name": "stdout",
     "output_type": "stream",
     "text": [
      "1/1 [==============================] - 0s 16ms/step\n",
      "30269/30269 [==============================] - 28s 918us/step\n"
     ]
    },
    {
     "name": "stderr",
     "output_type": "stream",
     "text": [
      "  7%|█████▋                                                                         | 33/463 [24:48<5:27:24, 45.68s/it]"
     ]
    },
    {
     "name": "stdout",
     "output_type": "stream",
     "text": [
      "1/1 [==============================] - 0s 16ms/step\n",
      "30269/30269 [==============================] - 37s 1ms/step\n"
     ]
    },
    {
     "name": "stderr",
     "output_type": "stream",
     "text": [
      "  7%|█████▊                                                                         | 34/463 [25:48<5:57:46, 50.04s/it]"
     ]
    },
    {
     "name": "stdout",
     "output_type": "stream",
     "text": [
      "1/1 [==============================] - 0s 33ms/step\n",
      "30269/30269 [==============================] - 28s 919us/step\n"
     ]
    },
    {
     "name": "stderr",
     "output_type": "stream",
     "text": [
      "  8%|█████▉                                                                         | 35/463 [26:32<5:42:48, 48.06s/it]"
     ]
    },
    {
     "name": "stdout",
     "output_type": "stream",
     "text": [
      "1/1 [==============================] - 0s 31ms/step\n",
      "30269/30269 [==============================] - 27s 905us/step\n"
     ]
    },
    {
     "name": "stderr",
     "output_type": "stream",
     "text": [
      "  8%|██████▏                                                                        | 36/463 [27:15<5:32:12, 46.68s/it]"
     ]
    },
    {
     "name": "stdout",
     "output_type": "stream",
     "text": [
      "1/1 [==============================] - 0s 31ms/step\n",
      "30269/30269 [==============================] - 28s 916us/step\n"
     ]
    },
    {
     "name": "stderr",
     "output_type": "stream",
     "text": [
      "  8%|██████▎                                                                        | 37/463 [27:58<5:24:04, 45.65s/it]"
     ]
    },
    {
     "name": "stdout",
     "output_type": "stream",
     "text": [
      "1/1 [==============================] - 0s 13ms/step\n",
      "30269/30269 [==============================] - 27s 897us/step\n"
     ]
    },
    {
     "name": "stderr",
     "output_type": "stream",
     "text": [
      "  8%|██████▍                                                                        | 38/463 [28:41<5:17:05, 44.77s/it]"
     ]
    },
    {
     "name": "stdout",
     "output_type": "stream",
     "text": [
      "1/1 [==============================] - 0s 31ms/step\n",
      "30269/30269 [==============================] - 27s 898us/step\n"
     ]
    },
    {
     "name": "stderr",
     "output_type": "stream",
     "text": [
      "  8%|██████▋                                                                        | 39/463 [29:24<5:12:03, 44.16s/it]"
     ]
    },
    {
     "name": "stdout",
     "output_type": "stream",
     "text": [
      "1/1 [==============================] - 0s 31ms/step\n",
      "30269/30269 [==============================] - 27s 888us/step\n"
     ]
    },
    {
     "name": "stderr",
     "output_type": "stream",
     "text": [
      "  9%|██████▊                                                                        | 40/463 [30:06<5:07:28, 43.61s/it]"
     ]
    },
    {
     "name": "stdout",
     "output_type": "stream",
     "text": [
      "1/1 [==============================] - 0s 31ms/step\n",
      "30269/30269 [==============================] - 27s 895us/step\n"
     ]
    },
    {
     "name": "stderr",
     "output_type": "stream",
     "text": [
      "  9%|██████▉                                                                        | 41/463 [30:49<5:05:14, 43.40s/it]"
     ]
    },
    {
     "name": "stdout",
     "output_type": "stream",
     "text": [
      "1/1 [==============================] - 0s 16ms/step\n",
      "30269/30269 [==============================] - 27s 892us/step\n"
     ]
    },
    {
     "name": "stderr",
     "output_type": "stream",
     "text": [
      "  9%|███████▏                                                                       | 42/463 [31:31<5:02:30, 43.11s/it]"
     ]
    },
    {
     "name": "stdout",
     "output_type": "stream",
     "text": [
      "1/1 [==============================] - 0s 16ms/step\n",
      "30269/30269 [==============================] - 27s 893us/step\n"
     ]
    },
    {
     "name": "stderr",
     "output_type": "stream",
     "text": [
      "  9%|███████▎                                                                       | 43/463 [32:14<5:01:03, 43.01s/it]"
     ]
    },
    {
     "name": "stdout",
     "output_type": "stream",
     "text": [
      "1/1 [==============================] - 0s 11ms/step\n",
      "30269/30269 [==============================] - 27s 898us/step\n"
     ]
    },
    {
     "name": "stderr",
     "output_type": "stream",
     "text": [
      " 10%|███████▌                                                                       | 44/463 [32:57<4:59:37, 42.91s/it]"
     ]
    },
    {
     "name": "stdout",
     "output_type": "stream",
     "text": [
      "1/1 [==============================] - 0s 16ms/step\n",
      "30269/30269 [==============================] - 27s 895us/step\n"
     ]
    },
    {
     "name": "stderr",
     "output_type": "stream",
     "text": [
      " 10%|███████▋                                                                       | 45/463 [33:39<4:58:10, 42.80s/it]"
     ]
    },
    {
     "name": "stdout",
     "output_type": "stream",
     "text": [
      "1/1 [==============================] - 0s 31ms/step\n",
      "30269/30269 [==============================] - 27s 901us/step\n"
     ]
    },
    {
     "name": "stderr",
     "output_type": "stream",
     "text": [
      " 10%|███████▊                                                                       | 46/463 [34:23<4:58:26, 42.94s/it]"
     ]
    },
    {
     "name": "stdout",
     "output_type": "stream",
     "text": [
      "1/1 [==============================] - 0s 31ms/step\n",
      "30269/30269 [==============================] - 27s 893us/step\n"
     ]
    },
    {
     "name": "stderr",
     "output_type": "stream",
     "text": [
      " 10%|████████                                                                       | 47/463 [35:05<4:57:07, 42.85s/it]"
     ]
    },
    {
     "name": "stdout",
     "output_type": "stream",
     "text": [
      "1/1 [==============================] - 0s 16ms/step\n",
      "30269/30269 [==============================] - 27s 894us/step\n"
     ]
    },
    {
     "name": "stderr",
     "output_type": "stream",
     "text": [
      " 10%|████████▏                                                                      | 48/463 [35:48<4:56:18, 42.84s/it]"
     ]
    },
    {
     "name": "stdout",
     "output_type": "stream",
     "text": [
      "1/1 [==============================] - 0s 16ms/step\n",
      "30269/30269 [==============================] - 27s 899us/step\n"
     ]
    },
    {
     "name": "stderr",
     "output_type": "stream",
     "text": [
      " 11%|████████▎                                                                      | 49/463 [36:31<4:55:31, 42.83s/it]"
     ]
    },
    {
     "name": "stdout",
     "output_type": "stream",
     "text": [
      "1/1 [==============================] - 0s 31ms/step\n",
      "30269/30269 [==============================] - 27s 894us/step\n"
     ]
    },
    {
     "name": "stderr",
     "output_type": "stream",
     "text": [
      " 11%|████████▌                                                                      | 50/463 [37:14<4:55:07, 42.87s/it]"
     ]
    },
    {
     "name": "stdout",
     "output_type": "stream",
     "text": [
      "1/1 [==============================] - 0s 16ms/step\n",
      "30269/30269 [==============================] - 27s 892us/step\n"
     ]
    },
    {
     "name": "stderr",
     "output_type": "stream",
     "text": [
      " 11%|████████▋                                                                      | 51/463 [37:56<4:53:35, 42.76s/it]"
     ]
    },
    {
     "name": "stdout",
     "output_type": "stream",
     "text": [
      "1/1 [==============================] - 0s 16ms/step\n",
      "30269/30269 [==============================] - 27s 894us/step\n"
     ]
    },
    {
     "name": "stderr",
     "output_type": "stream",
     "text": [
      " 11%|████████▊                                                                      | 52/463 [38:39<4:52:41, 42.73s/it]"
     ]
    },
    {
     "name": "stdout",
     "output_type": "stream",
     "text": [
      "1/1 [==============================] - 0s 16ms/step\n",
      "30269/30269 [==============================] - 27s 900us/step\n"
     ]
    },
    {
     "name": "stderr",
     "output_type": "stream",
     "text": [
      " 11%|█████████                                                                      | 53/463 [39:22<4:52:16, 42.77s/it]"
     ]
    },
    {
     "name": "stdout",
     "output_type": "stream",
     "text": [
      "1/1 [==============================] - 0s 31ms/step\n",
      "30269/30269 [==============================] - 27s 896us/step\n"
     ]
    },
    {
     "name": "stderr",
     "output_type": "stream",
     "text": [
      " 12%|█████████▏                                                                     | 54/463 [40:05<4:51:12, 42.72s/it]"
     ]
    },
    {
     "name": "stdout",
     "output_type": "stream",
     "text": [
      "1/1 [==============================] - 0s 31ms/step\n",
      "30269/30269 [==============================] - 27s 898us/step\n"
     ]
    },
    {
     "name": "stderr",
     "output_type": "stream",
     "text": [
      " 12%|█████████▍                                                                     | 55/463 [40:47<4:50:38, 42.74s/it]"
     ]
    },
    {
     "name": "stdout",
     "output_type": "stream",
     "text": [
      "1/1 [==============================] - 0s 31ms/step\n",
      "30269/30269 [==============================] - 27s 902us/step\n"
     ]
    },
    {
     "name": "stderr",
     "output_type": "stream",
     "text": [
      " 12%|█████████▌                                                                     | 56/463 [41:30<4:49:58, 42.75s/it]"
     ]
    },
    {
     "name": "stdout",
     "output_type": "stream",
     "text": [
      "1/1 [==============================] - 0s 16ms/step\n",
      "30269/30269 [==============================] - 27s 897us/step\n"
     ]
    },
    {
     "name": "stderr",
     "output_type": "stream",
     "text": [
      " 12%|█████████▋                                                                     | 57/463 [42:13<4:49:45, 42.82s/it]"
     ]
    },
    {
     "name": "stdout",
     "output_type": "stream",
     "text": [
      "1/1 [==============================] - 0s 16ms/step\n",
      "30269/30269 [==============================] - 28s 909us/step\n"
     ]
    },
    {
     "name": "stderr",
     "output_type": "stream",
     "text": [
      " 13%|█████████▉                                                                     | 58/463 [42:56<4:49:25, 42.88s/it]"
     ]
    },
    {
     "name": "stdout",
     "output_type": "stream",
     "text": [
      "1/1 [==============================] - 0s 16ms/step\n",
      "30269/30269 [==============================] - 27s 904us/step\n"
     ]
    },
    {
     "name": "stderr",
     "output_type": "stream",
     "text": [
      " 13%|██████████                                                                     | 59/463 [43:39<4:49:01, 42.92s/it]"
     ]
    },
    {
     "name": "stdout",
     "output_type": "stream",
     "text": [
      "1/1 [==============================] - 0s 31ms/step\n",
      "30269/30269 [==============================] - 27s 904us/step\n"
     ]
    },
    {
     "name": "stderr",
     "output_type": "stream",
     "text": [
      " 13%|██████████▏                                                                    | 60/463 [44:22<4:48:09, 42.90s/it]"
     ]
    },
    {
     "name": "stdout",
     "output_type": "stream",
     "text": [
      "1/1 [==============================] - 0s 31ms/step\n",
      "30269/30269 [==============================] - 27s 900us/step\n"
     ]
    },
    {
     "name": "stderr",
     "output_type": "stream",
     "text": [
      " 13%|██████████▍                                                                    | 61/463 [45:05<4:47:22, 42.89s/it]"
     ]
    },
    {
     "name": "stdout",
     "output_type": "stream",
     "text": [
      "1/1 [==============================] - 0s 16ms/step\n",
      "30269/30269 [==============================] - 28s 911us/step\n"
     ]
    },
    {
     "name": "stderr",
     "output_type": "stream",
     "text": [
      " 13%|██████████▌                                                                    | 62/463 [45:48<4:47:09, 42.97s/it]"
     ]
    },
    {
     "name": "stdout",
     "output_type": "stream",
     "text": [
      "1/1 [==============================] - 0s 31ms/step\n",
      "30269/30269 [==============================] - 27s 898us/step\n"
     ]
    },
    {
     "name": "stderr",
     "output_type": "stream",
     "text": [
      " 14%|██████████▋                                                                    | 63/463 [46:31<4:45:54, 42.89s/it]"
     ]
    },
    {
     "name": "stdout",
     "output_type": "stream",
     "text": [
      "1/1 [==============================] - 0s 16ms/step\n",
      "30269/30269 [==============================] - 29s 947us/step\n"
     ]
    },
    {
     "name": "stderr",
     "output_type": "stream",
     "text": [
      " 14%|██████████▉                                                                    | 64/463 [47:15<4:47:43, 43.27s/it]"
     ]
    },
    {
     "name": "stdout",
     "output_type": "stream",
     "text": [
      "1/1 [==============================] - 0s 16ms/step\n",
      "30269/30269 [==============================] - 27s 901us/step\n"
     ]
    },
    {
     "name": "stderr",
     "output_type": "stream",
     "text": [
      " 14%|███████████                                                                    | 65/463 [47:58<4:45:59, 43.11s/it]"
     ]
    },
    {
     "name": "stdout",
     "output_type": "stream",
     "text": [
      "1/1 [==============================] - 0s 31ms/step\n",
      "30269/30269 [==============================] - 28s 909us/step\n"
     ]
    },
    {
     "name": "stderr",
     "output_type": "stream",
     "text": [
      " 14%|███████████▎                                                                   | 66/463 [48:41<4:45:06, 43.09s/it]"
     ]
    },
    {
     "name": "stdout",
     "output_type": "stream",
     "text": [
      "1/1 [==============================] - 0s 16ms/step\n",
      "30269/30269 [==============================] - 28s 908us/step\n"
     ]
    },
    {
     "name": "stderr",
     "output_type": "stream",
     "text": [
      " 14%|███████████▍                                                                   | 67/463 [49:23<4:43:55, 43.02s/it]"
     ]
    },
    {
     "name": "stdout",
     "output_type": "stream",
     "text": [
      "1/1 [==============================] - 0s 31ms/step\n",
      "30269/30269 [==============================] - 27s 903us/step\n"
     ]
    },
    {
     "name": "stderr",
     "output_type": "stream",
     "text": [
      " 15%|███████████▌                                                                   | 68/463 [50:06<4:43:11, 43.02s/it]"
     ]
    },
    {
     "name": "stdout",
     "output_type": "stream",
     "text": [
      "1/1 [==============================] - 0s 33ms/step\n",
      "30269/30269 [==============================] - 28s 910us/step\n"
     ]
    },
    {
     "name": "stderr",
     "output_type": "stream",
     "text": [
      " 15%|███████████▊                                                                   | 69/463 [50:50<4:42:31, 43.02s/it]"
     ]
    },
    {
     "name": "stdout",
     "output_type": "stream",
     "text": [
      "1/1 [==============================] - 0s 16ms/step\n",
      "30269/30269 [==============================] - 27s 899us/step\n"
     ]
    },
    {
     "name": "stderr",
     "output_type": "stream",
     "text": [
      " 15%|███████████▉                                                                   | 70/463 [51:32<4:41:41, 43.01s/it]"
     ]
    },
    {
     "name": "stdout",
     "output_type": "stream",
     "text": [
      "1/1 [==============================] - 0s 16ms/step\n",
      "30269/30269 [==============================] - 28s 908us/step\n"
     ]
    },
    {
     "name": "stderr",
     "output_type": "stream",
     "text": [
      " 15%|████████████                                                                   | 71/463 [52:16<4:42:22, 43.22s/it]"
     ]
    },
    {
     "name": "stdout",
     "output_type": "stream",
     "text": [
      "1/1 [==============================] - 0s 16ms/step\n",
      "30269/30269 [==============================] - 27s 906us/step\n"
     ]
    },
    {
     "name": "stderr",
     "output_type": "stream",
     "text": [
      " 16%|████████████▎                                                                  | 72/463 [52:59<4:41:13, 43.15s/it]"
     ]
    },
    {
     "name": "stdout",
     "output_type": "stream",
     "text": [
      "1/1 [==============================] - 0s 31ms/step\n",
      "30269/30269 [==============================] - 28s 925us/step\n"
     ]
    },
    {
     "name": "stderr",
     "output_type": "stream",
     "text": [
      " 16%|████████████▍                                                                  | 73/463 [53:43<4:41:38, 43.33s/it]"
     ]
    },
    {
     "name": "stdout",
     "output_type": "stream",
     "text": [
      "1/1 [==============================] - 0s 16ms/step\n",
      "30269/30269 [==============================] - 28s 914us/step\n"
     ]
    },
    {
     "name": "stderr",
     "output_type": "stream",
     "text": [
      " 16%|████████████▋                                                                  | 74/463 [54:26<4:40:33, 43.27s/it]"
     ]
    },
    {
     "name": "stdout",
     "output_type": "stream",
     "text": [
      "1/1 [==============================] - 0s 16ms/step\n",
      "30269/30269 [==============================] - 28s 913us/step\n"
     ]
    },
    {
     "name": "stderr",
     "output_type": "stream",
     "text": [
      " 16%|████████████▊                                                                  | 75/463 [55:09<4:39:45, 43.26s/it]"
     ]
    },
    {
     "name": "stdout",
     "output_type": "stream",
     "text": [
      "1/1 [==============================] - 0s 16ms/step\n",
      "30269/30269 [==============================] - 27s 902us/step\n"
     ]
    },
    {
     "name": "stderr",
     "output_type": "stream",
     "text": [
      " 16%|████████████▉                                                                  | 76/463 [55:52<4:38:22, 43.16s/it]"
     ]
    },
    {
     "name": "stdout",
     "output_type": "stream",
     "text": [
      "1/1 [==============================] - 0s 16ms/step\n",
      "30269/30269 [==============================] - 28s 908us/step\n"
     ]
    },
    {
     "name": "stderr",
     "output_type": "stream",
     "text": [
      " 17%|█████████████▏                                                                 | 77/463 [56:35<4:37:43, 43.17s/it]"
     ]
    },
    {
     "name": "stdout",
     "output_type": "stream",
     "text": [
      "1/1 [==============================] - 0s 16ms/step\n",
      "30269/30269 [==============================] - 28s 909us/step\n"
     ]
    },
    {
     "name": "stderr",
     "output_type": "stream",
     "text": [
      " 17%|█████████████▎                                                                 | 78/463 [57:18<4:36:47, 43.14s/it]"
     ]
    },
    {
     "name": "stdout",
     "output_type": "stream",
     "text": [
      "1/1 [==============================] - 0s 31ms/step\n",
      "30269/30269 [==============================] - 28s 919us/step\n"
     ]
    },
    {
     "name": "stderr",
     "output_type": "stream",
     "text": [
      " 17%|█████████████▍                                                                 | 79/463 [58:02<4:36:18, 43.17s/it]"
     ]
    },
    {
     "name": "stdout",
     "output_type": "stream",
     "text": [
      "1/1 [==============================] - 0s 31ms/step\n",
      "30269/30269 [==============================] - 28s 914us/step\n"
     ]
    },
    {
     "name": "stderr",
     "output_type": "stream",
     "text": [
      " 17%|█████████████▋                                                                 | 80/463 [58:45<4:35:48, 43.21s/it]"
     ]
    },
    {
     "name": "stdout",
     "output_type": "stream",
     "text": [
      "1/1 [==============================] - 0s 16ms/step\n",
      "30269/30269 [==============================] - 27s 901us/step\n"
     ]
    },
    {
     "name": "stderr",
     "output_type": "stream",
     "text": [
      " 17%|█████████████▊                                                                 | 81/463 [59:28<4:34:07, 43.06s/it]"
     ]
    },
    {
     "name": "stdout",
     "output_type": "stream",
     "text": [
      "1/1 [==============================] - 0s 20ms/step\n",
      "30269/30269 [==============================] - 28s 911us/step\n"
     ]
    },
    {
     "name": "stderr",
     "output_type": "stream",
     "text": [
      " 18%|█████████████▋                                                               | 82/463 [1:00:11<4:33:45, 43.11s/it]"
     ]
    },
    {
     "name": "stdout",
     "output_type": "stream",
     "text": [
      "1/1 [==============================] - 0s 16ms/step\n",
      "30269/30269 [==============================] - 27s 905us/step\n"
     ]
    },
    {
     "name": "stderr",
     "output_type": "stream",
     "text": [
      " 18%|█████████████▊                                                               | 83/463 [1:00:54<4:32:32, 43.03s/it]"
     ]
    },
    {
     "name": "stdout",
     "output_type": "stream",
     "text": [
      "1/1 [==============================] - 0s 16ms/step\n",
      "30269/30269 [==============================] - 28s 914us/step\n"
     ]
    },
    {
     "name": "stderr",
     "output_type": "stream",
     "text": [
      " 18%|█████████████▉                                                               | 84/463 [1:01:37<4:32:10, 43.09s/it]"
     ]
    },
    {
     "name": "stdout",
     "output_type": "stream",
     "text": [
      "1/1 [==============================] - 0s 22ms/step\n",
      "30269/30269 [==============================] - 28s 911us/step\n"
     ]
    },
    {
     "name": "stderr",
     "output_type": "stream",
     "text": [
      " 18%|██████████████▏                                                              | 85/463 [1:02:20<4:31:35, 43.11s/it]"
     ]
    },
    {
     "name": "stdout",
     "output_type": "stream",
     "text": [
      "1/1 [==============================] - 0s 14ms/step\n",
      "30269/30269 [==============================] - 27s 905us/step\n"
     ]
    },
    {
     "name": "stderr",
     "output_type": "stream",
     "text": [
      " 19%|██████████████▎                                                              | 86/463 [1:03:03<4:30:49, 43.10s/it]"
     ]
    },
    {
     "name": "stdout",
     "output_type": "stream",
     "text": [
      "1/1 [==============================] - 0s 7ms/step\n",
      "30269/30269 [==============================] - 28s 907us/step\n"
     ]
    },
    {
     "name": "stderr",
     "output_type": "stream",
     "text": [
      " 19%|██████████████▍                                                              | 87/463 [1:03:46<4:29:57, 43.08s/it]"
     ]
    },
    {
     "name": "stdout",
     "output_type": "stream",
     "text": [
      "1/1 [==============================] - 0s 16ms/step\n",
      "30269/30269 [==============================] - 28s 915us/step\n"
     ]
    },
    {
     "name": "stderr",
     "output_type": "stream",
     "text": [
      " 19%|██████████████▋                                                              | 88/463 [1:04:30<4:29:51, 43.18s/it]"
     ]
    },
    {
     "name": "stdout",
     "output_type": "stream",
     "text": [
      "1/1 [==============================] - 0s 16ms/step\n",
      "30269/30269 [==============================] - 28s 913us/step\n"
     ]
    },
    {
     "name": "stderr",
     "output_type": "stream",
     "text": [
      " 19%|██████████████▊                                                              | 89/463 [1:05:13<4:29:22, 43.22s/it]"
     ]
    },
    {
     "name": "stdout",
     "output_type": "stream",
     "text": [
      "1/1 [==============================] - 0s 31ms/step\n",
      "30269/30269 [==============================] - 27s 903us/step\n"
     ]
    },
    {
     "name": "stderr",
     "output_type": "stream",
     "text": [
      " 19%|██████████████▉                                                              | 90/463 [1:05:56<4:28:08, 43.13s/it]"
     ]
    },
    {
     "name": "stdout",
     "output_type": "stream",
     "text": [
      "1/1 [==============================] - 0s 31ms/step\n",
      "30269/30269 [==============================] - 28s 914us/step\n"
     ]
    },
    {
     "name": "stderr",
     "output_type": "stream",
     "text": [
      " 20%|███████████████▏                                                             | 91/463 [1:06:39<4:27:36, 43.16s/it]"
     ]
    },
    {
     "name": "stdout",
     "output_type": "stream",
     "text": [
      "1/1 [==============================] - 0s 16ms/step\n",
      "30269/30269 [==============================] - 28s 910us/step\n"
     ]
    },
    {
     "name": "stderr",
     "output_type": "stream",
     "text": [
      " 20%|███████████████▎                                                             | 92/463 [1:07:22<4:26:44, 43.14s/it]"
     ]
    },
    {
     "name": "stdout",
     "output_type": "stream",
     "text": [
      "1/1 [==============================] - 0s 31ms/step\n",
      "30269/30269 [==============================] - 27s 904us/step\n"
     ]
    },
    {
     "name": "stderr",
     "output_type": "stream",
     "text": [
      " 20%|███████████████▍                                                             | 93/463 [1:08:05<4:25:57, 43.13s/it]"
     ]
    },
    {
     "name": "stdout",
     "output_type": "stream",
     "text": [
      "1/1 [==============================] - 0s 16ms/step\n",
      "30269/30269 [==============================] - 27s 906us/step\n"
     ]
    },
    {
     "name": "stderr",
     "output_type": "stream",
     "text": [
      " 20%|███████████████▋                                                             | 94/463 [1:08:48<4:24:47, 43.06s/it]"
     ]
    },
    {
     "name": "stdout",
     "output_type": "stream",
     "text": [
      "1/1 [==============================] - 0s 16ms/step\n",
      "30269/30269 [==============================] - 28s 917us/step\n"
     ]
    },
    {
     "name": "stderr",
     "output_type": "stream",
     "text": [
      " 21%|███████████████▊                                                             | 95/463 [1:09:32<4:24:59, 43.20s/it]"
     ]
    },
    {
     "name": "stdout",
     "output_type": "stream",
     "text": [
      "1/1 [==============================] - 0s 22ms/step\n",
      "30269/30269 [==============================] - 28s 912us/step\n"
     ]
    },
    {
     "name": "stderr",
     "output_type": "stream",
     "text": [
      " 21%|███████████████▉                                                             | 96/463 [1:10:15<4:24:05, 43.17s/it]"
     ]
    },
    {
     "name": "stdout",
     "output_type": "stream",
     "text": [
      "1/1 [==============================] - 0s 31ms/step\n",
      "30269/30269 [==============================] - 28s 912us/step\n"
     ]
    },
    {
     "name": "stderr",
     "output_type": "stream",
     "text": [
      " 21%|████████████████▏                                                            | 97/463 [1:10:58<4:23:16, 43.16s/it]"
     ]
    },
    {
     "name": "stdout",
     "output_type": "stream",
     "text": [
      "1/1 [==============================] - 0s 34ms/step\n",
      "30269/30269 [==============================] - 28s 913us/step\n"
     ]
    },
    {
     "name": "stderr",
     "output_type": "stream",
     "text": [
      " 21%|████████████████▎                                                            | 98/463 [1:11:41<4:22:36, 43.17s/it]"
     ]
    },
    {
     "name": "stdout",
     "output_type": "stream",
     "text": [
      "1/1 [==============================] - 0s 16ms/step\n",
      "30269/30269 [==============================] - 28s 917us/step\n"
     ]
    },
    {
     "name": "stderr",
     "output_type": "stream",
     "text": [
      " 21%|████████████████▍                                                            | 99/463 [1:12:24<4:22:00, 43.19s/it]"
     ]
    },
    {
     "name": "stdout",
     "output_type": "stream",
     "text": [
      "1/1 [==============================] - 0s 16ms/step\n",
      "30269/30269 [==============================] - 28s 929us/step\n"
     ]
    },
    {
     "name": "stderr",
     "output_type": "stream",
     "text": [
      " 22%|████████████████▍                                                           | 100/463 [1:13:08<4:22:10, 43.34s/it]"
     ]
    },
    {
     "name": "stdout",
     "output_type": "stream",
     "text": [
      "1/1 [==============================] - 0s 31ms/step\n",
      "30269/30269 [==============================] - 28s 915us/step\n"
     ]
    },
    {
     "name": "stderr",
     "output_type": "stream",
     "text": [
      " 22%|████████████████▌                                                           | 101/463 [1:13:51<4:21:20, 43.32s/it]"
     ]
    },
    {
     "name": "stdout",
     "output_type": "stream",
     "text": [
      "1/1 [==============================] - 0s 31ms/step\n",
      "30269/30269 [==============================] - 28s 917us/step\n"
     ]
    },
    {
     "name": "stderr",
     "output_type": "stream",
     "text": [
      " 22%|████████████████▋                                                           | 102/463 [1:14:35<4:20:47, 43.35s/it]"
     ]
    },
    {
     "name": "stdout",
     "output_type": "stream",
     "text": [
      "1/1 [==============================] - 0s 31ms/step\n",
      "30269/30269 [==============================] - 28s 910us/step\n"
     ]
    },
    {
     "name": "stderr",
     "output_type": "stream",
     "text": [
      " 22%|████████████████▉                                                           | 103/463 [1:15:18<4:19:42, 43.29s/it]"
     ]
    },
    {
     "name": "stdout",
     "output_type": "stream",
     "text": [
      "1/1 [==============================] - 0s 32ms/step\n",
      "30269/30269 [==============================] - 28s 914us/step\n"
     ]
    },
    {
     "name": "stderr",
     "output_type": "stream",
     "text": [
      " 22%|█████████████████                                                           | 104/463 [1:16:01<4:19:11, 43.32s/it]"
     ]
    },
    {
     "name": "stdout",
     "output_type": "stream",
     "text": [
      "1/1 [==============================] - 0s 19ms/step\n",
      "30269/30269 [==============================] - 28s 908us/step\n"
     ]
    },
    {
     "name": "stderr",
     "output_type": "stream",
     "text": [
      " 23%|█████████████████▏                                                          | 105/463 [1:16:44<4:17:43, 43.19s/it]"
     ]
    },
    {
     "name": "stdout",
     "output_type": "stream",
     "text": [
      "1/1 [==============================] - 0s 16ms/step\n",
      "30269/30269 [==============================] - 28s 908us/step\n"
     ]
    },
    {
     "name": "stderr",
     "output_type": "stream",
     "text": [
      " 23%|█████████████████▍                                                          | 106/463 [1:17:27<4:17:03, 43.20s/it]"
     ]
    },
    {
     "name": "stdout",
     "output_type": "stream",
     "text": [
      "1/1 [==============================] - 0s 31ms/step\n",
      "30269/30269 [==============================] - 28s 918us/step\n"
     ]
    },
    {
     "name": "stderr",
     "output_type": "stream",
     "text": [
      " 23%|█████████████████▌                                                          | 107/463 [1:18:11<4:16:33, 43.24s/it]"
     ]
    },
    {
     "name": "stdout",
     "output_type": "stream",
     "text": [
      "1/1 [==============================] - 0s 16ms/step\n",
      "30269/30269 [==============================] - 28s 909us/step\n"
     ]
    },
    {
     "name": "stderr",
     "output_type": "stream",
     "text": [
      " 23%|█████████████████▋                                                          | 108/463 [1:18:54<4:15:38, 43.21s/it]"
     ]
    },
    {
     "name": "stdout",
     "output_type": "stream",
     "text": [
      "1/1 [==============================] - 0s 31ms/step\n",
      "30269/30269 [==============================] - 28s 929us/step\n"
     ]
    },
    {
     "name": "stderr",
     "output_type": "stream",
     "text": [
      " 24%|█████████████████▉                                                          | 109/463 [1:19:38<4:15:36, 43.32s/it]"
     ]
    },
    {
     "name": "stdout",
     "output_type": "stream",
     "text": [
      "1/1 [==============================] - 0s 31ms/step\n",
      "30269/30269 [==============================] - 28s 914us/step\n"
     ]
    },
    {
     "name": "stderr",
     "output_type": "stream",
     "text": [
      " 24%|██████████████████                                                          | 110/463 [1:20:21<4:14:29, 43.26s/it]"
     ]
    },
    {
     "name": "stdout",
     "output_type": "stream",
     "text": [
      "1/1 [==============================] - 0s 31ms/step\n",
      "30269/30269 [==============================] - 28s 911us/step\n"
     ]
    },
    {
     "name": "stderr",
     "output_type": "stream",
     "text": [
      " 24%|██████████████████▏                                                         | 111/463 [1:21:04<4:13:19, 43.18s/it]"
     ]
    },
    {
     "name": "stdout",
     "output_type": "stream",
     "text": [
      "1/1 [==============================] - 0s 16ms/step\n",
      "30269/30269 [==============================] - 28s 913us/step\n"
     ]
    },
    {
     "name": "stderr",
     "output_type": "stream",
     "text": [
      " 24%|██████████████████▍                                                         | 112/463 [1:21:47<4:12:26, 43.15s/it]"
     ]
    },
    {
     "name": "stdout",
     "output_type": "stream",
     "text": [
      "1/1 [==============================] - 0s 16ms/step\n",
      "30269/30269 [==============================] - 28s 921us/step\n"
     ]
    },
    {
     "name": "stderr",
     "output_type": "stream",
     "text": [
      " 24%|██████████████████▌                                                         | 113/463 [1:22:30<4:12:17, 43.25s/it]"
     ]
    },
    {
     "name": "stdout",
     "output_type": "stream",
     "text": [
      "1/1 [==============================] - 0s 31ms/step\n",
      "30269/30269 [==============================] - 28s 913us/step\n"
     ]
    },
    {
     "name": "stderr",
     "output_type": "stream",
     "text": [
      " 25%|██████████████████▏                                                       | 114/463 [1:55:10<59:56:16, 618.27s/it]"
     ]
    },
    {
     "name": "stdout",
     "output_type": "stream",
     "text": [
      "1/1 [==============================] - 0s 167ms/step\n",
      "30269/30269 [==============================] - 35s 1ms/step\n"
     ]
    },
    {
     "name": "stderr",
     "output_type": "stream",
     "text": [
      " 25%|██████████████████▍                                                       | 115/463 [1:56:02<43:21:09, 448.48s/it]"
     ]
    },
    {
     "name": "stdout",
     "output_type": "stream",
     "text": [
      "1/1 [==============================] - 0s 31ms/step\n",
      "30269/30269 [==============================] - 31s 1ms/step\n"
     ]
    },
    {
     "name": "stderr",
     "output_type": "stream",
     "text": [
      " 25%|██████████████████▌                                                       | 116/463 [1:56:50<31:37:10, 328.04s/it]"
     ]
    },
    {
     "name": "stdout",
     "output_type": "stream",
     "text": [
      "1/1 [==============================] - 0s 31ms/step\n",
      "30269/30269 [==============================] - 32s 1ms/step\n"
     ]
    },
    {
     "name": "stderr",
     "output_type": "stream",
     "text": [
      " 25%|██████████████████▋                                                       | 117/463 [1:57:38<23:27:36, 244.09s/it]"
     ]
    },
    {
     "name": "stdout",
     "output_type": "stream",
     "text": [
      "1/1 [==============================] - 0s 31ms/step\n",
      "30269/30269 [==============================] - 31s 1ms/step\n"
     ]
    },
    {
     "name": "stderr",
     "output_type": "stream",
     "text": [
      " 25%|██████████████████▊                                                       | 118/463 [1:58:25<17:43:09, 184.90s/it]"
     ]
    },
    {
     "name": "stdout",
     "output_type": "stream",
     "text": [
      "1/1 [==============================] - 0s 31ms/step\n",
      "30269/30269 [==============================] - 28s 930us/step\n"
     ]
    },
    {
     "name": "stderr",
     "output_type": "stream",
     "text": [
      " 26%|███████████████████                                                       | 119/463 [1:59:08<13:37:17, 142.55s/it]"
     ]
    },
    {
     "name": "stdout",
     "output_type": "stream",
     "text": [
      "1/1 [==============================] - 0s 31ms/step\n",
      "30269/30269 [==============================] - 31s 1ms/step\n"
     ]
    },
    {
     "name": "stderr",
     "output_type": "stream",
     "text": [
      " 26%|███████████████████▏                                                      | 120/463 [1:59:56<10:51:31, 113.97s/it]"
     ]
    },
    {
     "name": "stdout",
     "output_type": "stream",
     "text": [
      "1/1 [==============================] - 0s 31ms/step\n",
      "30269/30269 [==============================] - 31s 1ms/step\n"
     ]
    },
    {
     "name": "stderr",
     "output_type": "stream",
     "text": [
      " 26%|███████████████████▊                                                        | 121/463 [2:00:43<8:55:53, 94.02s/it]"
     ]
    },
    {
     "name": "stdout",
     "output_type": "stream",
     "text": [
      "1/1 [==============================] - 0s 36ms/step\n",
      "30269/30269 [==============================] - 30s 982us/step\n"
     ]
    },
    {
     "name": "stderr",
     "output_type": "stream",
     "text": [
      " 26%|████████████████████                                                        | 122/463 [2:01:29<7:32:39, 79.65s/it]"
     ]
    },
    {
     "name": "stdout",
     "output_type": "stream",
     "text": [
      "1/1 [==============================] - 0s 16ms/step\n",
      "30269/30269 [==============================] - 29s 970us/step\n"
     ]
    },
    {
     "name": "stderr",
     "output_type": "stream",
     "text": [
      " 27%|████████████████████▏                                                       | 123/463 [2:02:15<6:34:01, 69.53s/it]"
     ]
    },
    {
     "name": "stdout",
     "output_type": "stream",
     "text": [
      "1/1 [==============================] - 0s 17ms/step\n",
      "30269/30269 [==============================] - 31s 1ms/step\n"
     ]
    },
    {
     "name": "stderr",
     "output_type": "stream",
     "text": [
      " 27%|████████████████████▎                                                       | 124/463 [2:03:03<5:55:50, 62.98s/it]"
     ]
    },
    {
     "name": "stdout",
     "output_type": "stream",
     "text": [
      "1/1 [==============================] - 0s 18ms/step\n",
      "30269/30269 [==============================] - 30s 986us/step\n"
     ]
    },
    {
     "name": "stderr",
     "output_type": "stream",
     "text": [
      " 27%|████████████████████▌                                                       | 125/463 [2:03:49<5:25:46, 57.83s/it]"
     ]
    },
    {
     "name": "stdout",
     "output_type": "stream",
     "text": [
      "1/1 [==============================] - 0s 16ms/step\n",
      "30269/30269 [==============================] - 32s 1ms/step\n"
     ]
    },
    {
     "name": "stderr",
     "output_type": "stream",
     "text": [
      " 27%|████████████████████▋                                                       | 126/463 [2:04:39<5:12:08, 55.57s/it]"
     ]
    },
    {
     "name": "stdout",
     "output_type": "stream",
     "text": [
      "1/1 [==============================] - 0s 18ms/step\n",
      "30269/30269 [==============================] - 35s 1ms/step\n"
     ]
    },
    {
     "name": "stderr",
     "output_type": "stream",
     "text": [
      " 27%|████████████████████▊                                                       | 127/463 [2:05:32<5:07:15, 54.87s/it]"
     ]
    },
    {
     "name": "stdout",
     "output_type": "stream",
     "text": [
      "1/1 [==============================] - 0s 25ms/step\n",
      "30269/30269 [==============================] - 35s 1ms/step\n"
     ]
    },
    {
     "name": "stderr",
     "output_type": "stream",
     "text": [
      " 28%|█████████████████████                                                       | 128/463 [2:06:26<5:04:45, 54.58s/it]"
     ]
    },
    {
     "name": "stdout",
     "output_type": "stream",
     "text": [
      "1/1 [==============================] - 0s 21ms/step\n",
      "30269/30269 [==============================] - 31s 1ms/step\n"
     ]
    },
    {
     "name": "stderr",
     "output_type": "stream",
     "text": [
      " 28%|█████████████████████▏                                                      | 129/463 [2:07:13<4:50:53, 52.26s/it]"
     ]
    },
    {
     "name": "stdout",
     "output_type": "stream",
     "text": [
      "1/1 [==============================] - 0s 22ms/step\n",
      "30269/30269 [==============================] - 31s 1ms/step\n"
     ]
    },
    {
     "name": "stderr",
     "output_type": "stream",
     "text": [
      " 28%|█████████████████████▎                                                      | 130/463 [2:08:01<4:42:34, 50.92s/it]"
     ]
    },
    {
     "name": "stdout",
     "output_type": "stream",
     "text": [
      "1/1 [==============================] - 0s 21ms/step\n",
      "30269/30269 [==============================] - 30s 990us/step\n"
     ]
    },
    {
     "name": "stderr",
     "output_type": "stream",
     "text": [
      " 28%|█████████████████████▌                                                      | 131/463 [2:08:46<4:33:21, 49.40s/it]"
     ]
    },
    {
     "name": "stdout",
     "output_type": "stream",
     "text": [
      "1/1 [==============================] - 0s 21ms/step\n",
      "30269/30269 [==============================] - 32s 1ms/step\n"
     ]
    },
    {
     "name": "stderr",
     "output_type": "stream",
     "text": [
      " 29%|█████████████████████▋                                                      | 132/463 [2:09:34<4:29:55, 48.93s/it]"
     ]
    },
    {
     "name": "stdout",
     "output_type": "stream",
     "text": [
      "1/1 [==============================] - 0s 24ms/step\n",
      "30269/30269 [==============================] - 32s 1ms/step\n"
     ]
    },
    {
     "name": "stderr",
     "output_type": "stream",
     "text": [
      " 29%|█████████████████████▊                                                      | 133/463 [2:10:23<4:28:26, 48.81s/it]"
     ]
    },
    {
     "name": "stdout",
     "output_type": "stream",
     "text": [
      "1/1 [==============================] - 0s 21ms/step\n",
      "30269/30269 [==============================] - 33s 1ms/step\n"
     ]
    },
    {
     "name": "stderr",
     "output_type": "stream",
     "text": [
      " 29%|█████████████████████▉                                                      | 134/463 [2:11:12<4:28:48, 49.02s/it]"
     ]
    },
    {
     "name": "stdout",
     "output_type": "stream",
     "text": [
      "1/1 [==============================] - 0s 23ms/step\n",
      "30269/30269 [==============================] - 31s 1ms/step\n"
     ]
    },
    {
     "name": "stderr",
     "output_type": "stream",
     "text": [
      " 29%|██████████████████████▏                                                     | 135/463 [2:12:00<4:25:18, 48.53s/it]"
     ]
    },
    {
     "name": "stdout",
     "output_type": "stream",
     "text": [
      "1/1 [==============================] - 0s 23ms/step\n",
      "30269/30269 [==============================] - 31s 1ms/step\n"
     ]
    },
    {
     "name": "stderr",
     "output_type": "stream",
     "text": [
      " 29%|██████████████████████▎                                                     | 136/463 [2:12:49<4:25:28, 48.71s/it]"
     ]
    },
    {
     "name": "stdout",
     "output_type": "stream",
     "text": [
      "1/1 [==============================] - 0s 31ms/step\n",
      "30269/30269 [==============================] - 32s 1ms/step\n"
     ]
    },
    {
     "name": "stderr",
     "output_type": "stream",
     "text": [
      " 30%|██████████████████████▍                                                     | 137/463 [2:13:37<4:23:41, 48.53s/it]"
     ]
    },
    {
     "name": "stdout",
     "output_type": "stream",
     "text": [
      "1/1 [==============================] - 0s 16ms/step\n",
      "30269/30269 [==============================] - 34s 1ms/step\n"
     ]
    },
    {
     "name": "stderr",
     "output_type": "stream",
     "text": [
      " 30%|██████████████████████▋                                                     | 138/463 [2:14:31<4:31:57, 50.21s/it]"
     ]
    },
    {
     "name": "stdout",
     "output_type": "stream",
     "text": [
      "1/1 [==============================] - 0s 22ms/step\n",
      "30269/30269 [==============================] - 32s 1ms/step\n"
     ]
    },
    {
     "name": "stderr",
     "output_type": "stream",
     "text": [
      " 30%|██████████████████████▊                                                     | 139/463 [2:15:19<4:27:18, 49.50s/it]"
     ]
    },
    {
     "name": "stdout",
     "output_type": "stream",
     "text": [
      "1/1 [==============================] - 0s 31ms/step\n",
      "30269/30269 [==============================] - 33s 1ms/step\n"
     ]
    },
    {
     "name": "stderr",
     "output_type": "stream",
     "text": [
      " 30%|██████████████████████▉                                                     | 140/463 [2:16:09<4:27:25, 49.68s/it]"
     ]
    },
    {
     "name": "stdout",
     "output_type": "stream",
     "text": [
      "1/1 [==============================] - 0s 22ms/step\n",
      "30269/30269 [==============================] - 31s 1ms/step\n"
     ]
    },
    {
     "name": "stderr",
     "output_type": "stream",
     "text": [
      " 30%|███████████████████████▏                                                    | 141/463 [2:16:56<4:22:22, 48.89s/it]"
     ]
    },
    {
     "name": "stdout",
     "output_type": "stream",
     "text": [
      "1/1 [==============================] - 0s 20ms/step\n",
      "30269/30269 [==============================] - 33s 1ms/step\n"
     ]
    },
    {
     "name": "stderr",
     "output_type": "stream",
     "text": [
      " 31%|███████████████████████▎                                                    | 142/463 [2:17:45<4:21:36, 48.90s/it]"
     ]
    },
    {
     "name": "stdout",
     "output_type": "stream",
     "text": [
      "1/1 [==============================] - 0s 13ms/step\n",
      "30269/30269 [==============================] - 30s 992us/step\n"
     ]
    },
    {
     "name": "stderr",
     "output_type": "stream",
     "text": [
      " 31%|███████████████████████▍                                                    | 143/463 [2:18:32<4:17:13, 48.23s/it]"
     ]
    },
    {
     "name": "stdout",
     "output_type": "stream",
     "text": [
      "1/1 [==============================] - 0s 31ms/step\n",
      "30269/30269 [==============================] - 35s 1ms/step\n"
     ]
    },
    {
     "name": "stderr",
     "output_type": "stream",
     "text": [
      " 31%|███████████████████████▋                                                    | 144/463 [2:19:23<4:20:34, 49.01s/it]"
     ]
    },
    {
     "name": "stdout",
     "output_type": "stream",
     "text": [
      "1/1 [==============================] - 0s 25ms/step\n",
      "30269/30269 [==============================] - 34s 1ms/step\n"
     ]
    },
    {
     "name": "stderr",
     "output_type": "stream",
     "text": [
      " 31%|███████████████████████▊                                                    | 145/463 [2:20:13<4:22:33, 49.54s/it]"
     ]
    },
    {
     "name": "stdout",
     "output_type": "stream",
     "text": [
      "1/1 [==============================] - 0s 24ms/step\n",
      "30269/30269 [==============================] - 32s 1ms/step\n"
     ]
    },
    {
     "name": "stderr",
     "output_type": "stream",
     "text": [
      " 32%|███████████████████████▉                                                    | 146/463 [2:21:01<4:19:06, 49.04s/it]"
     ]
    },
    {
     "name": "stdout",
     "output_type": "stream",
     "text": [
      "1/1 [==============================] - 0s 23ms/step\n",
      "30269/30269 [==============================] - 32s 1ms/step\n"
     ]
    },
    {
     "name": "stderr",
     "output_type": "stream",
     "text": [
      " 32%|████████████████████████▏                                                   | 147/463 [2:21:50<4:17:10, 48.83s/it]"
     ]
    },
    {
     "name": "stdout",
     "output_type": "stream",
     "text": [
      "1/1 [==============================] - 0s 21ms/step\n",
      "30269/30269 [==============================] - 32s 1ms/step\n"
     ]
    },
    {
     "name": "stderr",
     "output_type": "stream",
     "text": [
      " 32%|████████████████████████▎                                                   | 148/463 [2:22:37<4:14:31, 48.48s/it]"
     ]
    },
    {
     "name": "stdout",
     "output_type": "stream",
     "text": [
      "1/1 [==============================] - 0s 23ms/step\n",
      "30269/30269 [==============================] - 32s 1ms/step\n"
     ]
    },
    {
     "name": "stderr",
     "output_type": "stream",
     "text": [
      " 32%|████████████████████████▍                                                   | 149/463 [2:23:25<4:12:39, 48.28s/it]"
     ]
    },
    {
     "name": "stdout",
     "output_type": "stream",
     "text": [
      "1/1 [==============================] - 0s 25ms/step\n",
      "30269/30269 [==============================] - 32s 1ms/step\n"
     ]
    },
    {
     "name": "stderr",
     "output_type": "stream",
     "text": [
      " 32%|████████████████████████▌                                                   | 150/463 [2:24:13<4:10:43, 48.06s/it]"
     ]
    },
    {
     "name": "stdout",
     "output_type": "stream",
     "text": [
      "1/1 [==============================] - 0s 27ms/step\n",
      "30269/30269 [==============================] - 32s 1ms/step\n"
     ]
    },
    {
     "name": "stderr",
     "output_type": "stream",
     "text": [
      " 33%|████████████████████████▊                                                   | 151/463 [2:25:00<4:09:01, 47.89s/it]"
     ]
    },
    {
     "name": "stdout",
     "output_type": "stream",
     "text": [
      "1/1 [==============================] - 0s 25ms/step\n",
      "30269/30269 [==============================] - 39s 1ms/step\n"
     ]
    },
    {
     "name": "stderr",
     "output_type": "stream",
     "text": [
      " 33%|████████████████████████▉                                                   | 152/463 [2:25:57<4:22:38, 50.67s/it]"
     ]
    },
    {
     "name": "stdout",
     "output_type": "stream",
     "text": [
      "1/1 [==============================] - 0s 31ms/step\n",
      "30269/30269 [==============================] - 38s 1ms/step\n"
     ]
    },
    {
     "name": "stderr",
     "output_type": "stream",
     "text": [
      " 33%|█████████████████████████                                                   | 153/463 [2:26:54<4:32:00, 52.65s/it]"
     ]
    },
    {
     "name": "stdout",
     "output_type": "stream",
     "text": [
      "1/1 [==============================] - 0s 33ms/step\n",
      "30269/30269 [==============================] - 34s 1ms/step\n"
     ]
    },
    {
     "name": "stderr",
     "output_type": "stream",
     "text": [
      " 33%|█████████████████████████▎                                                  | 154/463 [2:27:45<4:27:14, 51.89s/it]"
     ]
    },
    {
     "name": "stdout",
     "output_type": "stream",
     "text": [
      "1/1 [==============================] - 0s 32ms/step\n",
      "30269/30269 [==============================] - 28s 940us/step\n"
     ]
    },
    {
     "name": "stderr",
     "output_type": "stream",
     "text": [
      " 33%|█████████████████████████▍                                                  | 155/463 [2:28:28<4:13:55, 49.47s/it]"
     ]
    },
    {
     "name": "stdout",
     "output_type": "stream",
     "text": [
      "1/1 [==============================] - 0s 16ms/step\n",
      "30269/30269 [==============================] - 30s 980us/step\n"
     ]
    },
    {
     "name": "stderr",
     "output_type": "stream",
     "text": [
      " 34%|█████████████████████████▌                                                  | 156/463 [2:29:14<4:06:54, 48.26s/it]"
     ]
    },
    {
     "name": "stdout",
     "output_type": "stream",
     "text": [
      "1/1 [==============================] - 0s 16ms/step\n",
      "30269/30269 [==============================] - 31s 1ms/step\n"
     ]
    },
    {
     "name": "stderr",
     "output_type": "stream",
     "text": [
      " 34%|█████████████████████████▊                                                  | 157/463 [2:30:00<4:03:34, 47.76s/it]"
     ]
    },
    {
     "name": "stdout",
     "output_type": "stream",
     "text": [
      "1/1 [==============================] - 0s 16ms/step\n",
      "30269/30269 [==============================] - 29s 942us/step\n"
     ]
    },
    {
     "name": "stderr",
     "output_type": "stream",
     "text": [
      " 34%|█████████████████████████▉                                                  | 158/463 [2:30:45<3:58:04, 46.84s/it]"
     ]
    },
    {
     "name": "stdout",
     "output_type": "stream",
     "text": [
      "1/1 [==============================] - 0s 31ms/step\n",
      "30269/30269 [==============================] - 29s 957us/step\n"
     ]
    },
    {
     "name": "stderr",
     "output_type": "stream",
     "text": [
      " 34%|██████████████████████████                                                  | 159/463 [2:31:30<3:54:10, 46.22s/it]"
     ]
    },
    {
     "name": "stdout",
     "output_type": "stream",
     "text": [
      "1/1 [==============================] - 0s 31ms/step\n",
      "30269/30269 [==============================] - 28s 939us/step\n"
     ]
    },
    {
     "name": "stderr",
     "output_type": "stream",
     "text": [
      " 35%|██████████████████████████▎                                                 | 160/463 [2:32:17<3:54:14, 46.38s/it]"
     ]
    },
    {
     "name": "stdout",
     "output_type": "stream",
     "text": [
      "1/1 [==============================] - 0s 9ms/step\n",
      "30269/30269 [==============================] - 33s 1ms/step\n"
     ]
    },
    {
     "name": "stderr",
     "output_type": "stream",
     "text": [
      " 35%|██████████████████████████▍                                                 | 161/463 [2:33:08<4:00:32, 47.79s/it]"
     ]
    },
    {
     "name": "stdout",
     "output_type": "stream",
     "text": [
      "1/1 [==============================] - 0s 22ms/step\n",
      "30269/30269 [==============================] - 38s 1ms/step\n"
     ]
    },
    {
     "name": "stderr",
     "output_type": "stream",
     "text": [
      " 35%|██████████████████████████▌                                                 | 162/463 [2:34:01<4:08:14, 49.48s/it]"
     ]
    },
    {
     "name": "stdout",
     "output_type": "stream",
     "text": [
      "1/1 [==============================] - 0s 31ms/step\n",
      "30269/30269 [==============================] - 29s 940us/step\n"
     ]
    },
    {
     "name": "stderr",
     "output_type": "stream",
     "text": [
      " 35%|██████████████████████████▊                                                 | 163/463 [2:34:46<4:00:02, 48.01s/it]"
     ]
    },
    {
     "name": "stdout",
     "output_type": "stream",
     "text": [
      "1/1 [==============================] - 0s 31ms/step\n",
      "30269/30269 [==============================] - 32s 1ms/step\n"
     ]
    },
    {
     "name": "stderr",
     "output_type": "stream",
     "text": [
      " 35%|██████████████████████████▉                                                 | 164/463 [2:35:34<3:59:14, 48.01s/it]"
     ]
    },
    {
     "name": "stdout",
     "output_type": "stream",
     "text": [
      "1/1 [==============================] - 0s 31ms/step\n",
      "30269/30269 [==============================] - 29s 943us/step\n"
     ]
    },
    {
     "name": "stderr",
     "output_type": "stream",
     "text": [
      " 36%|███████████████████████████                                                 | 165/463 [2:36:18<3:53:31, 47.02s/it]"
     ]
    },
    {
     "name": "stdout",
     "output_type": "stream",
     "text": [
      "1/1 [==============================] - 0s 22ms/step\n",
      "30269/30269 [==============================] - 29s 958us/step\n"
     ]
    },
    {
     "name": "stderr",
     "output_type": "stream",
     "text": [
      " 36%|███████████████████████████▏                                                | 166/463 [2:37:03<3:49:48, 46.43s/it]"
     ]
    },
    {
     "name": "stdout",
     "output_type": "stream",
     "text": [
      "1/1 [==============================] - 0s 16ms/step\n",
      "30269/30269 [==============================] - 29s 946us/step\n"
     ]
    },
    {
     "name": "stderr",
     "output_type": "stream",
     "text": [
      " 36%|███████████████████████████▍                                                | 167/463 [2:37:49<3:47:01, 46.02s/it]"
     ]
    },
    {
     "name": "stdout",
     "output_type": "stream",
     "text": [
      "1/1 [==============================] - 0s 16ms/step\n",
      "30269/30269 [==============================] - 28s 938us/step\n"
     ]
    },
    {
     "name": "stderr",
     "output_type": "stream",
     "text": [
      " 36%|███████████████████████████▌                                                | 168/463 [2:38:33<3:43:56, 45.55s/it]"
     ]
    },
    {
     "name": "stdout",
     "output_type": "stream",
     "text": [
      "1/1 [==============================] - 0s 16ms/step\n",
      "30269/30269 [==============================] - 30s 1000us/step\n"
     ]
    },
    {
     "name": "stderr",
     "output_type": "stream",
     "text": [
      " 37%|███████████████████████████▋                                                | 169/463 [2:39:19<3:44:28, 45.81s/it]"
     ]
    },
    {
     "name": "stdout",
     "output_type": "stream",
     "text": [
      "1/1 [==============================] - 0s 16ms/step\n",
      "30269/30269 [==============================] - 29s 956us/step\n"
     ]
    },
    {
     "name": "stderr",
     "output_type": "stream",
     "text": [
      " 37%|███████████████████████████▉                                                | 170/463 [2:40:04<3:42:10, 45.50s/it]"
     ]
    },
    {
     "name": "stdout",
     "output_type": "stream",
     "text": [
      "1/1 [==============================] - 0s 16ms/step\n",
      "30269/30269 [==============================] - 29s 956us/step\n"
     ]
    },
    {
     "name": "stderr",
     "output_type": "stream",
     "text": [
      " 37%|████████████████████████████                                                | 171/463 [2:40:49<3:40:37, 45.33s/it]"
     ]
    },
    {
     "name": "stdout",
     "output_type": "stream",
     "text": [
      "1/1 [==============================] - 0s 16ms/step\n",
      "30269/30269 [==============================] - 29s 969us/step\n"
     ]
    },
    {
     "name": "stderr",
     "output_type": "stream",
     "text": [
      " 37%|████████████████████████████▏                                               | 172/463 [2:41:35<3:40:37, 45.49s/it]"
     ]
    },
    {
     "name": "stdout",
     "output_type": "stream",
     "text": [
      "1/1 [==============================] - 0s 31ms/step\n",
      "30269/30269 [==============================] - 29s 969us/step\n"
     ]
    },
    {
     "name": "stderr",
     "output_type": "stream",
     "text": [
      " 37%|████████████████████████████▍                                               | 173/463 [2:42:20<3:39:43, 45.46s/it]"
     ]
    },
    {
     "name": "stdout",
     "output_type": "stream",
     "text": [
      "1/1 [==============================] - 0s 16ms/step\n",
      "30269/30269 [==============================] - 29s 972us/step\n"
     ]
    },
    {
     "name": "stderr",
     "output_type": "stream",
     "text": [
      " 38%|████████████████████████████▌                                               | 174/463 [2:43:06<3:39:42, 45.61s/it]"
     ]
    },
    {
     "name": "stdout",
     "output_type": "stream",
     "text": [
      "1/1 [==============================] - 0s 31ms/step\n",
      "30269/30269 [==============================] - 30s 974us/step\n"
     ]
    },
    {
     "name": "stderr",
     "output_type": "stream",
     "text": [
      " 38%|████████████████████████████▋                                               | 175/463 [2:43:52<3:39:12, 45.67s/it]"
     ]
    },
    {
     "name": "stdout",
     "output_type": "stream",
     "text": [
      "1/1 [==============================] - 0s 31ms/step\n",
      "30269/30269 [==============================] - 30s 977us/step\n"
     ]
    },
    {
     "name": "stderr",
     "output_type": "stream",
     "text": [
      " 38%|████████████████████████████▉                                               | 176/463 [2:44:38<3:39:04, 45.80s/it]"
     ]
    },
    {
     "name": "stdout",
     "output_type": "stream",
     "text": [
      "1/1 [==============================] - 0s 31ms/step\n",
      "30269/30269 [==============================] - 29s 953us/step\n"
     ]
    },
    {
     "name": "stderr",
     "output_type": "stream",
     "text": [
      " 38%|█████████████████████████████                                               | 177/463 [2:45:23<3:36:18, 45.38s/it]"
     ]
    },
    {
     "name": "stdout",
     "output_type": "stream",
     "text": [
      "1/1 [==============================] - 0s 31ms/step\n",
      "30269/30269 [==============================] - 28s 927us/step\n"
     ]
    },
    {
     "name": "stderr",
     "output_type": "stream",
     "text": [
      " 38%|█████████████████████████████▏                                              | 178/463 [2:46:06<3:33:08, 44.87s/it]"
     ]
    },
    {
     "name": "stdout",
     "output_type": "stream",
     "text": [
      "1/1 [==============================] - 0s 16ms/step\n",
      "30269/30269 [==============================] - 28s 926us/step\n"
     ]
    },
    {
     "name": "stderr",
     "output_type": "stream",
     "text": [
      " 39%|█████████████████████████████▍                                              | 179/463 [2:46:50<3:30:21, 44.44s/it]"
     ]
    },
    {
     "name": "stdout",
     "output_type": "stream",
     "text": [
      "1/1 [==============================] - 0s 16ms/step\n",
      "30269/30269 [==============================] - 28s 923us/step\n"
     ]
    },
    {
     "name": "stderr",
     "output_type": "stream",
     "text": [
      " 39%|█████████████████████████████▌                                              | 180/463 [2:47:33<3:28:09, 44.13s/it]"
     ]
    },
    {
     "name": "stdout",
     "output_type": "stream",
     "text": [
      "1/1 [==============================] - 0s 31ms/step\n",
      "30269/30269 [==============================] - 28s 924us/step\n"
     ]
    },
    {
     "name": "stderr",
     "output_type": "stream",
     "text": [
      " 39%|█████████████████████████████▋                                              | 181/463 [2:48:17<3:26:39, 43.97s/it]"
     ]
    },
    {
     "name": "stdout",
     "output_type": "stream",
     "text": [
      "1/1 [==============================] - 0s 18ms/step\n",
      "30269/30269 [==============================] - 28s 926us/step\n"
     ]
    },
    {
     "name": "stderr",
     "output_type": "stream",
     "text": [
      " 39%|█████████████████████████████▊                                              | 182/463 [2:49:00<3:25:10, 43.81s/it]"
     ]
    },
    {
     "name": "stdout",
     "output_type": "stream",
     "text": [
      "1/1 [==============================] - 0s 31ms/step\n",
      "30269/30269 [==============================] - 28s 919us/step\n"
     ]
    },
    {
     "name": "stderr",
     "output_type": "stream",
     "text": [
      " 40%|██████████████████████████████                                              | 183/463 [2:49:44<3:23:55, 43.70s/it]"
     ]
    },
    {
     "name": "stdout",
     "output_type": "stream",
     "text": [
      "1/1 [==============================] - 0s 31ms/step\n",
      "30269/30269 [==============================] - 28s 928us/step\n"
     ]
    },
    {
     "name": "stderr",
     "output_type": "stream",
     "text": [
      " 40%|██████████████████████████████▏                                             | 184/463 [2:50:27<3:23:01, 43.66s/it]"
     ]
    },
    {
     "name": "stdout",
     "output_type": "stream",
     "text": [
      "1/1 [==============================] - 0s 30ms/step\n",
      "30269/30269 [==============================] - 28s 920us/step\n"
     ]
    },
    {
     "name": "stderr",
     "output_type": "stream",
     "text": [
      " 40%|██████████████████████████████▎                                             | 185/463 [2:51:11<3:22:03, 43.61s/it]"
     ]
    },
    {
     "name": "stdout",
     "output_type": "stream",
     "text": [
      "1/1 [==============================] - 0s 13ms/step\n",
      "30269/30269 [==============================] - 28s 920us/step\n"
     ]
    },
    {
     "name": "stderr",
     "output_type": "stream",
     "text": [
      " 40%|██████████████████████████████▌                                             | 186/463 [2:51:54<3:20:53, 43.52s/it]"
     ]
    },
    {
     "name": "stdout",
     "output_type": "stream",
     "text": [
      "1/1 [==============================] - 0s 31ms/step\n",
      "30269/30269 [==============================] - 28s 920us/step\n"
     ]
    },
    {
     "name": "stderr",
     "output_type": "stream",
     "text": [
      " 40%|██████████████████████████████▋                                             | 187/463 [2:52:37<3:20:07, 43.51s/it]"
     ]
    },
    {
     "name": "stdout",
     "output_type": "stream",
     "text": [
      "1/1 [==============================] - 0s 31ms/step\n",
      "30269/30269 [==============================] - 29s 940us/step\n"
     ]
    },
    {
     "name": "stderr",
     "output_type": "stream",
     "text": [
      " 41%|██████████████████████████████▊                                             | 188/463 [2:53:22<3:20:05, 43.66s/it]"
     ]
    },
    {
     "name": "stdout",
     "output_type": "stream",
     "text": [
      "1/1 [==============================] - 0s 31ms/step\n",
      "30269/30269 [==============================] - 28s 920us/step\n"
     ]
    },
    {
     "name": "stderr",
     "output_type": "stream",
     "text": [
      " 41%|███████████████████████████████                                             | 189/463 [2:54:05<3:18:54, 43.56s/it]"
     ]
    },
    {
     "name": "stdout",
     "output_type": "stream",
     "text": [
      "1/1 [==============================] - 0s 31ms/step\n",
      "30269/30269 [==============================] - 28s 932us/step\n"
     ]
    },
    {
     "name": "stderr",
     "output_type": "stream",
     "text": [
      " 41%|███████████████████████████████▏                                            | 190/463 [2:54:48<3:18:18, 43.58s/it]"
     ]
    },
    {
     "name": "stdout",
     "output_type": "stream",
     "text": [
      "1/1 [==============================] - 0s 16ms/step\n",
      "30269/30269 [==============================] - 28s 925us/step\n"
     ]
    },
    {
     "name": "stderr",
     "output_type": "stream",
     "text": [
      " 41%|███████████████████████████████▎                                            | 191/463 [2:55:32<3:17:25, 43.55s/it]"
     ]
    },
    {
     "name": "stdout",
     "output_type": "stream",
     "text": [
      "1/1 [==============================] - 0s 16ms/step\n",
      "30269/30269 [==============================] - 28s 919us/step\n"
     ]
    },
    {
     "name": "stderr",
     "output_type": "stream",
     "text": [
      " 41%|███████████████████████████████▌                                            | 192/463 [2:56:16<3:16:53, 43.59s/it]"
     ]
    },
    {
     "name": "stdout",
     "output_type": "stream",
     "text": [
      "1/1 [==============================] - 0s 31ms/step\n",
      "30269/30269 [==============================] - 28s 930us/step\n"
     ]
    },
    {
     "name": "stderr",
     "output_type": "stream",
     "text": [
      " 42%|███████████████████████████████▋                                            | 193/463 [2:56:59<3:16:02, 43.57s/it]"
     ]
    },
    {
     "name": "stdout",
     "output_type": "stream",
     "text": [
      "1/1 [==============================] - 0s 26ms/step\n",
      "30269/30269 [==============================] - 28s 927us/step\n"
     ]
    },
    {
     "name": "stderr",
     "output_type": "stream",
     "text": [
      " 42%|███████████████████████████████▊                                            | 194/463 [2:57:43<3:15:34, 43.62s/it]"
     ]
    },
    {
     "name": "stdout",
     "output_type": "stream",
     "text": [
      "1/1 [==============================] - 0s 31ms/step\n",
      "30269/30269 [==============================] - 28s 918us/step\n"
     ]
    },
    {
     "name": "stderr",
     "output_type": "stream",
     "text": [
      " 42%|████████████████████████████████                                            | 195/463 [2:58:26<3:14:19, 43.50s/it]"
     ]
    },
    {
     "name": "stdout",
     "output_type": "stream",
     "text": [
      "1/1 [==============================] - 0s 16ms/step\n",
      "30269/30269 [==============================] - 28s 932us/step\n"
     ]
    },
    {
     "name": "stderr",
     "output_type": "stream",
     "text": [
      " 42%|████████████████████████████████▏                                           | 196/463 [2:59:10<3:13:51, 43.56s/it]"
     ]
    },
    {
     "name": "stdout",
     "output_type": "stream",
     "text": [
      "1/1 [==============================] - 0s 31ms/step\n",
      "30269/30269 [==============================] - 28s 935us/step\n"
     ]
    },
    {
     "name": "stderr",
     "output_type": "stream",
     "text": [
      " 43%|████████████████████████████████▎                                           | 197/463 [2:59:54<3:13:24, 43.63s/it]"
     ]
    },
    {
     "name": "stdout",
     "output_type": "stream",
     "text": [
      "1/1 [==============================] - 0s 16ms/step\n",
      "30269/30269 [==============================] - 28s 924us/step\n"
     ]
    },
    {
     "name": "stderr",
     "output_type": "stream",
     "text": [
      " 43%|████████████████████████████████▌                                           | 198/463 [3:00:37<3:12:27, 43.57s/it]"
     ]
    },
    {
     "name": "stdout",
     "output_type": "stream",
     "text": [
      "1/1 [==============================] - 0s 33ms/step\n",
      "30269/30269 [==============================] - 28s 927us/step\n"
     ]
    },
    {
     "name": "stderr",
     "output_type": "stream",
     "text": [
      " 43%|████████████████████████████████▋                                           | 199/463 [3:01:21<3:11:36, 43.55s/it]"
     ]
    },
    {
     "name": "stdout",
     "output_type": "stream",
     "text": [
      "1/1 [==============================] - 0s 31ms/step\n",
      "30269/30269 [==============================] - 28s 927us/step\n"
     ]
    },
    {
     "name": "stderr",
     "output_type": "stream",
     "text": [
      " 43%|████████████████████████████████▊                                           | 200/463 [3:02:04<3:10:48, 43.53s/it]"
     ]
    },
    {
     "name": "stdout",
     "output_type": "stream",
     "text": [
      "1/1 [==============================] - 0s 31ms/step\n",
      "30269/30269 [==============================] - 28s 930us/step\n"
     ]
    },
    {
     "name": "stderr",
     "output_type": "stream",
     "text": [
      " 43%|████████████████████████████████▉                                           | 201/463 [3:02:48<3:10:23, 43.60s/it]"
     ]
    },
    {
     "name": "stdout",
     "output_type": "stream",
     "text": [
      "1/1 [==============================] - 0s 16ms/step\n",
      "30269/30269 [==============================] - 28s 935us/step\n"
     ]
    },
    {
     "name": "stderr",
     "output_type": "stream",
     "text": [
      " 44%|█████████████████████████████████▏                                          | 202/463 [3:03:32<3:09:51, 43.64s/it]"
     ]
    },
    {
     "name": "stdout",
     "output_type": "stream",
     "text": [
      "1/1 [==============================] - 0s 31ms/step\n",
      "30269/30269 [==============================] - 28s 927us/step\n"
     ]
    },
    {
     "name": "stderr",
     "output_type": "stream",
     "text": [
      " 44%|█████████████████████████████████▎                                          | 203/463 [3:04:15<3:09:19, 43.69s/it]"
     ]
    },
    {
     "name": "stdout",
     "output_type": "stream",
     "text": [
      "1/1 [==============================] - 0s 31ms/step\n",
      "30269/30269 [==============================] - 28s 924us/step\n"
     ]
    },
    {
     "name": "stderr",
     "output_type": "stream",
     "text": [
      " 44%|█████████████████████████████████▍                                          | 204/463 [3:04:59<3:08:09, 43.59s/it]"
     ]
    },
    {
     "name": "stdout",
     "output_type": "stream",
     "text": [
      "1/1 [==============================] - 0s 31ms/step\n",
      "30269/30269 [==============================] - 28s 934us/step\n"
     ]
    },
    {
     "name": "stderr",
     "output_type": "stream",
     "text": [
      " 44%|█████████████████████████████████▋                                          | 205/463 [3:05:43<3:07:54, 43.70s/it]"
     ]
    },
    {
     "name": "stdout",
     "output_type": "stream",
     "text": [
      "1/1 [==============================] - 0s 16ms/step\n",
      "30269/30269 [==============================] - 28s 929us/step\n"
     ]
    },
    {
     "name": "stderr",
     "output_type": "stream",
     "text": [
      " 44%|█████████████████████████████████▊                                          | 206/463 [3:06:27<3:08:12, 43.94s/it]"
     ]
    },
    {
     "name": "stdout",
     "output_type": "stream",
     "text": [
      "1/1 [==============================] - 0s 16ms/step\n",
      "30269/30269 [==============================] - 28s 914us/step\n"
     ]
    },
    {
     "name": "stderr",
     "output_type": "stream",
     "text": [
      " 45%|█████████████████████████████████▉                                          | 207/463 [3:07:10<3:06:33, 43.72s/it]"
     ]
    },
    {
     "name": "stdout",
     "output_type": "stream",
     "text": [
      "1/1 [==============================] - 0s 16ms/step\n",
      "30269/30269 [==============================] - 28s 935us/step\n"
     ]
    },
    {
     "name": "stderr",
     "output_type": "stream",
     "text": [
      " 45%|██████████████████████████████████▏                                         | 208/463 [3:07:55<3:06:22, 43.85s/it]"
     ]
    },
    {
     "name": "stdout",
     "output_type": "stream",
     "text": [
      "1/1 [==============================] - 0s 16ms/step\n",
      "30269/30269 [==============================] - 28s 917us/step\n"
     ]
    },
    {
     "name": "stderr",
     "output_type": "stream",
     "text": [
      " 45%|██████████████████████████████████▎                                         | 209/463 [3:08:38<3:04:58, 43.69s/it]"
     ]
    },
    {
     "name": "stdout",
     "output_type": "stream",
     "text": [
      "1/1 [==============================] - 0s 31ms/step\n",
      "30269/30269 [==============================] - 29s 949us/step\n"
     ]
    },
    {
     "name": "stderr",
     "output_type": "stream",
     "text": [
      " 45%|██████████████████████████████████▍                                         | 210/463 [3:09:22<3:05:03, 43.89s/it]"
     ]
    },
    {
     "name": "stdout",
     "output_type": "stream",
     "text": [
      "1/1 [==============================] - 0s 31ms/step\n",
      "30269/30269 [==============================] - 28s 928us/step\n"
     ]
    },
    {
     "name": "stderr",
     "output_type": "stream",
     "text": [
      " 46%|██████████████████████████████████▋                                         | 211/463 [3:10:06<3:03:45, 43.75s/it]"
     ]
    },
    {
     "name": "stdout",
     "output_type": "stream",
     "text": [
      "1/1 [==============================] - 0s 16ms/step\n",
      "30269/30269 [==============================] - 28s 924us/step\n"
     ]
    },
    {
     "name": "stderr",
     "output_type": "stream",
     "text": [
      " 46%|██████████████████████████████████▊                                         | 212/463 [3:10:49<3:02:52, 43.71s/it]"
     ]
    },
    {
     "name": "stdout",
     "output_type": "stream",
     "text": [
      "1/1 [==============================] - 0s 31ms/step\n",
      "30269/30269 [==============================] - 28s 932us/step\n"
     ]
    },
    {
     "name": "stderr",
     "output_type": "stream",
     "text": [
      " 46%|██████████████████████████████████▉                                         | 213/463 [3:11:33<3:02:06, 43.71s/it]"
     ]
    },
    {
     "name": "stdout",
     "output_type": "stream",
     "text": [
      "1/1 [==============================] - 0s 16ms/step\n",
      "30269/30269 [==============================] - 28s 928us/step\n"
     ]
    },
    {
     "name": "stderr",
     "output_type": "stream",
     "text": [
      " 46%|███████████████████████████████████▏                                        | 214/463 [3:12:17<3:01:13, 43.67s/it]"
     ]
    },
    {
     "name": "stdout",
     "output_type": "stream",
     "text": [
      "1/1 [==============================] - 0s 24ms/step\n",
      "30269/30269 [==============================] - 28s 937us/step\n"
     ]
    },
    {
     "name": "stderr",
     "output_type": "stream",
     "text": [
      " 46%|███████████████████████████████████▎                                        | 215/463 [3:13:00<3:00:38, 43.70s/it]"
     ]
    },
    {
     "name": "stdout",
     "output_type": "stream",
     "text": [
      "1/1 [==============================] - 0s 15ms/step\n",
      "30269/30269 [==============================] - 29s 948us/step\n"
     ]
    },
    {
     "name": "stderr",
     "output_type": "stream",
     "text": [
      " 47%|███████████████████████████████████▍                                        | 216/463 [3:13:44<3:00:22, 43.81s/it]"
     ]
    },
    {
     "name": "stdout",
     "output_type": "stream",
     "text": [
      "1/1 [==============================] - 0s 16ms/step\n",
      "30269/30269 [==============================] - 28s 937us/step\n"
     ]
    },
    {
     "name": "stderr",
     "output_type": "stream",
     "text": [
      " 47%|███████████████████████████████████▌                                        | 217/463 [3:14:28<2:59:32, 43.79s/it]"
     ]
    },
    {
     "name": "stdout",
     "output_type": "stream",
     "text": [
      "1/1 [==============================] - 0s 31ms/step\n",
      "30269/30269 [==============================] - 28s 935us/step\n"
     ]
    },
    {
     "name": "stderr",
     "output_type": "stream",
     "text": [
      " 47%|███████████████████████████████████▊                                        | 218/463 [3:15:12<2:59:02, 43.85s/it]"
     ]
    },
    {
     "name": "stdout",
     "output_type": "stream",
     "text": [
      "1/1 [==============================] - 0s 21ms/step\n",
      "30269/30269 [==============================] - 29s 961us/step\n"
     ]
    },
    {
     "name": "stderr",
     "output_type": "stream",
     "text": [
      " 47%|███████████████████████████████████▉                                        | 219/463 [3:15:57<2:59:19, 44.10s/it]"
     ]
    },
    {
     "name": "stdout",
     "output_type": "stream",
     "text": [
      "1/1 [==============================] - 0s 16ms/step\n",
      "30269/30269 [==============================] - 29s 948us/step\n"
     ]
    },
    {
     "name": "stderr",
     "output_type": "stream",
     "text": [
      " 48%|████████████████████████████████████                                        | 220/463 [3:16:41<2:58:40, 44.12s/it]"
     ]
    },
    {
     "name": "stdout",
     "output_type": "stream",
     "text": [
      "1/1 [==============================] - 0s 31ms/step\n",
      "30269/30269 [==============================] - 29s 941us/step\n"
     ]
    },
    {
     "name": "stderr",
     "output_type": "stream",
     "text": [
      " 48%|████████████████████████████████████▎                                       | 221/463 [3:17:25<2:58:02, 44.14s/it]"
     ]
    },
    {
     "name": "stdout",
     "output_type": "stream",
     "text": [
      "1/1 [==============================] - 0s 31ms/step\n",
      "30269/30269 [==============================] - 29s 951us/step\n"
     ]
    },
    {
     "name": "stderr",
     "output_type": "stream",
     "text": [
      " 48%|████████████████████████████████████▍                                       | 222/463 [3:18:09<2:57:20, 44.15s/it]"
     ]
    },
    {
     "name": "stdout",
     "output_type": "stream",
     "text": [
      "1/1 [==============================] - 0s 31ms/step\n",
      "30269/30269 [==============================] - 29s 944us/step\n"
     ]
    },
    {
     "name": "stderr",
     "output_type": "stream",
     "text": [
      " 48%|████████████████████████████████████▌                                       | 223/463 [3:18:53<2:56:31, 44.13s/it]"
     ]
    },
    {
     "name": "stdout",
     "output_type": "stream",
     "text": [
      "1/1 [==============================] - 0s 16ms/step\n",
      "30269/30269 [==============================] - 30s 983us/step\n"
     ]
    },
    {
     "name": "stderr",
     "output_type": "stream",
     "text": [
      " 48%|████████████████████████████████████▊                                       | 224/463 [3:19:38<2:56:56, 44.42s/it]"
     ]
    },
    {
     "name": "stdout",
     "output_type": "stream",
     "text": [
      "1/1 [==============================] - 0s 16ms/step\n",
      "30269/30269 [==============================] - 29s 952us/step\n"
     ]
    },
    {
     "name": "stderr",
     "output_type": "stream",
     "text": [
      " 49%|████████████████████████████████████▉                                       | 225/463 [3:20:23<2:56:00, 44.37s/it]"
     ]
    },
    {
     "name": "stdout",
     "output_type": "stream",
     "text": [
      "1/1 [==============================] - 0s 13ms/step\n",
      "30269/30269 [==============================] - 30s 989us/step\n"
     ]
    },
    {
     "name": "stderr",
     "output_type": "stream",
     "text": [
      " 49%|█████████████████████████████████████                                       | 226/463 [3:21:08<2:56:26, 44.67s/it]"
     ]
    },
    {
     "name": "stdout",
     "output_type": "stream",
     "text": [
      "1/1 [==============================] - 0s 23ms/step\n",
      "30269/30269 [==============================] - 29s 960us/step\n"
     ]
    },
    {
     "name": "stderr",
     "output_type": "stream",
     "text": [
      " 49%|█████████████████████████████████████▎                                      | 227/463 [3:21:53<2:56:09, 44.79s/it]"
     ]
    },
    {
     "name": "stdout",
     "output_type": "stream",
     "text": [
      "1/1 [==============================] - 0s 31ms/step\n",
      "30269/30269 [==============================] - 32s 1ms/step\n"
     ]
    },
    {
     "name": "stderr",
     "output_type": "stream",
     "text": [
      " 49%|█████████████████████████████████████▍                                      | 228/463 [3:22:41<2:58:49, 45.66s/it]"
     ]
    },
    {
     "name": "stdout",
     "output_type": "stream",
     "text": [
      "1/1 [==============================] - 0s 16ms/step\n",
      "30269/30269 [==============================] - 32s 1ms/step\n"
     ]
    },
    {
     "name": "stderr",
     "output_type": "stream",
     "text": [
      " 49%|█████████████████████████████████████▌                                      | 229/463 [3:23:28<2:59:58, 46.15s/it]"
     ]
    },
    {
     "name": "stdout",
     "output_type": "stream",
     "text": [
      "1/1 [==============================] - 0s 31ms/step\n",
      "30269/30269 [==============================] - 32s 1ms/step\n"
     ]
    },
    {
     "name": "stderr",
     "output_type": "stream",
     "text": [
      " 50%|█████████████████████████████████████▊                                      | 230/463 [3:24:16<3:00:49, 46.57s/it]"
     ]
    },
    {
     "name": "stdout",
     "output_type": "stream",
     "text": [
      "1/1 [==============================] - 0s 31ms/step\n",
      "30269/30269 [==============================] - 32s 1ms/step\n"
     ]
    },
    {
     "name": "stderr",
     "output_type": "stream",
     "text": [
      " 50%|█████████████████████████████████████▉                                      | 231/463 [3:25:03<3:00:56, 46.79s/it]"
     ]
    },
    {
     "name": "stdout",
     "output_type": "stream",
     "text": [
      "1/1 [==============================] - 0s 20ms/step\n",
      "30269/30269 [==============================] - 33s 1ms/step\n"
     ]
    },
    {
     "name": "stderr",
     "output_type": "stream",
     "text": [
      " 50%|██████████████████████████████████████                                      | 232/463 [3:25:52<3:02:35, 47.43s/it]"
     ]
    },
    {
     "name": "stdout",
     "output_type": "stream",
     "text": [
      "1/1 [==============================] - 0s 22ms/step\n",
      "30269/30269 [==============================] - 33s 1ms/step\n"
     ]
    },
    {
     "name": "stderr",
     "output_type": "stream",
     "text": [
      " 50%|██████████████████████████████████████▏                                     | 233/463 [3:26:41<3:03:23, 47.84s/it]"
     ]
    },
    {
     "name": "stdout",
     "output_type": "stream",
     "text": [
      "1/1 [==============================] - 0s 22ms/step\n",
      "30269/30269 [==============================] - 33s 1ms/step\n"
     ]
    },
    {
     "name": "stderr",
     "output_type": "stream",
     "text": [
      " 51%|██████████████████████████████████████▍                                     | 234/463 [3:27:29<3:03:31, 48.09s/it]"
     ]
    },
    {
     "name": "stdout",
     "output_type": "stream",
     "text": [
      "1/1 [==============================] - 0s 23ms/step\n",
      "30269/30269 [==============================] - 33s 1ms/step\n"
     ]
    },
    {
     "name": "stderr",
     "output_type": "stream",
     "text": [
      " 51%|██████████████████████████████████████▌                                     | 235/463 [3:28:18<3:03:49, 48.37s/it]"
     ]
    },
    {
     "name": "stdout",
     "output_type": "stream",
     "text": [
      "1/1 [==============================] - 0s 24ms/step\n",
      "30269/30269 [==============================] - 32s 1ms/step\n"
     ]
    },
    {
     "name": "stderr",
     "output_type": "stream",
     "text": [
      " 51%|██████████████████████████████████████▋                                     | 236/463 [3:29:07<3:02:48, 48.32s/it]"
     ]
    },
    {
     "name": "stdout",
     "output_type": "stream",
     "text": [
      "1/1 [==============================] - 0s 28ms/step\n",
      "30269/30269 [==============================] - 33s 1ms/step\n"
     ]
    },
    {
     "name": "stderr",
     "output_type": "stream",
     "text": [
      " 51%|██████████████████████████████████████▉                                     | 237/463 [3:29:56<3:03:27, 48.71s/it]"
     ]
    },
    {
     "name": "stdout",
     "output_type": "stream",
     "text": [
      "1/1 [==============================] - 0s 23ms/step\n",
      "30269/30269 [==============================] - 30s 977us/step\n"
     ]
    },
    {
     "name": "stderr",
     "output_type": "stream",
     "text": [
      " 51%|███████████████████████████████████████                                     | 238/463 [3:30:41<2:58:33, 47.61s/it]"
     ]
    },
    {
     "name": "stdout",
     "output_type": "stream",
     "text": [
      "1/1 [==============================] - 0s 32ms/step\n",
      "30269/30269 [==============================] - 29s 958us/step\n"
     ]
    },
    {
     "name": "stderr",
     "output_type": "stream",
     "text": [
      " 52%|███████████████████████████████████████▏                                    | 239/463 [3:31:26<2:54:28, 46.73s/it]"
     ]
    },
    {
     "name": "stdout",
     "output_type": "stream",
     "text": [
      "1/1 [==============================] - 0s 31ms/step\n",
      "30269/30269 [==============================] - 29s 961us/step\n"
     ]
    },
    {
     "name": "stderr",
     "output_type": "stream",
     "text": [
      " 52%|███████████████████████████████████████▍                                    | 240/463 [3:32:11<2:51:36, 46.17s/it]"
     ]
    },
    {
     "name": "stdout",
     "output_type": "stream",
     "text": [
      "1/1 [==============================] - 0s 31ms/step\n",
      "30269/30269 [==============================] - 29s 971us/step\n"
     ]
    },
    {
     "name": "stderr",
     "output_type": "stream",
     "text": [
      " 52%|███████████████████████████████████████▌                                    | 241/463 [3:32:56<2:49:49, 45.90s/it]"
     ]
    },
    {
     "name": "stdout",
     "output_type": "stream",
     "text": [
      "1/1 [==============================] - 0s 47ms/step\n",
      "30269/30269 [==============================] - 29s 946us/step\n"
     ]
    },
    {
     "name": "stderr",
     "output_type": "stream",
     "text": [
      " 52%|███████████████████████████████████████▋                                    | 242/463 [3:33:40<2:47:19, 45.43s/it]"
     ]
    },
    {
     "name": "stdout",
     "output_type": "stream",
     "text": [
      "1/1 [==============================] - 0s 31ms/step\n",
      "30269/30269 [==============================] - 29s 945us/step\n"
     ]
    },
    {
     "name": "stderr",
     "output_type": "stream",
     "text": [
      " 52%|███████████████████████████████████████▉                                    | 243/463 [3:34:25<2:45:09, 45.04s/it]"
     ]
    },
    {
     "name": "stdout",
     "output_type": "stream",
     "text": [
      "1/1 [==============================] - 0s 31ms/step\n",
      "30269/30269 [==============================] - 29s 945us/step\n"
     ]
    },
    {
     "name": "stderr",
     "output_type": "stream",
     "text": [
      " 53%|████████████████████████████████████████                                    | 244/463 [3:35:09<2:43:24, 44.77s/it]"
     ]
    },
    {
     "name": "stdout",
     "output_type": "stream",
     "text": [
      "1/1 [==============================] - 0s 16ms/step\n",
      "30269/30269 [==============================] - 29s 958us/step\n"
     ]
    },
    {
     "name": "stderr",
     "output_type": "stream",
     "text": [
      " 53%|████████████████████████████████████████▏                                   | 245/463 [3:35:53<2:42:21, 44.68s/it]"
     ]
    },
    {
     "name": "stdout",
     "output_type": "stream",
     "text": [
      "1/1 [==============================] - 0s 16ms/step\n",
      "30269/30269 [==============================] - 29s 951us/step\n"
     ]
    },
    {
     "name": "stderr",
     "output_type": "stream",
     "text": [
      " 53%|████████████████████████████████████████▍                                   | 246/463 [3:36:38<2:41:16, 44.59s/it]"
     ]
    },
    {
     "name": "stdout",
     "output_type": "stream",
     "text": [
      "1/1 [==============================] - 0s 31ms/step\n",
      "30269/30269 [==============================] - 29s 965us/step\n"
     ]
    },
    {
     "name": "stderr",
     "output_type": "stream",
     "text": [
      " 53%|████████████████████████████████████████▌                                   | 247/463 [3:37:22<2:40:40, 44.63s/it]"
     ]
    },
    {
     "name": "stdout",
     "output_type": "stream",
     "text": [
      "1/1 [==============================] - 0s 16ms/step\n",
      "30269/30269 [==============================] - 29s 953us/step\n"
     ]
    },
    {
     "name": "stderr",
     "output_type": "stream",
     "text": [
      " 54%|████████████████████████████████████████▋                                   | 248/463 [3:38:07<2:39:51, 44.61s/it]"
     ]
    },
    {
     "name": "stdout",
     "output_type": "stream",
     "text": [
      "1/1 [==============================] - 0s 31ms/step\n",
      "30269/30269 [==============================] - 6180s 204ms/step\n"
     ]
    },
    {
     "name": "stderr",
     "output_type": "stream",
     "text": [
      " 54%|██████████████████████████████████████▋                                 | 249/463 [5:21:26<112:24:18, 1890.93s/it]"
     ]
    },
    {
     "name": "stdout",
     "output_type": "stream",
     "text": [
      "1/1 [==============================] - 0s 35ms/step\n",
      "30269/30269 [==============================] - 35s 1ms/step\n"
     ]
    },
    {
     "name": "stderr",
     "output_type": "stream",
     "text": [
      " 54%|███████████████████████████████████████▍                                 | 250/463 [5:22:17<79:13:56, 1339.14s/it]"
     ]
    },
    {
     "name": "stdout",
     "output_type": "stream",
     "text": [
      "1/1 [==============================] - 0s 16ms/step\n",
      "30269/30269 [==============================] - 34s 1ms/step\n"
     ]
    },
    {
     "name": "stderr",
     "output_type": "stream",
     "text": [
      " 54%|████████████████████████████████████████                                  | 251/463 [5:23:07<56:04:39, 952.26s/it]"
     ]
    },
    {
     "name": "stdout",
     "output_type": "stream",
     "text": [
      "1/1 [==============================] - 0s 16ms/step\n",
      "30269/30269 [==============================] - 33s 1ms/step\n"
     ]
    },
    {
     "name": "stderr",
     "output_type": "stream",
     "text": [
      " 54%|████████████████████████████████████████▎                                 | 252/463 [5:23:56<39:55:26, 681.17s/it]"
     ]
    },
    {
     "name": "stdout",
     "output_type": "stream",
     "text": [
      "1/1 [==============================] - 0s 16ms/step\n",
      "30269/30269 [==============================] - 32s 1ms/step\n"
     ]
    },
    {
     "name": "stderr",
     "output_type": "stream",
     "text": [
      " 55%|████████████████████████████████████████▍                                 | 253/463 [5:24:43<28:38:55, 491.12s/it]"
     ]
    },
    {
     "name": "stdout",
     "output_type": "stream",
     "text": [
      "1/1 [==============================] - 0s 31ms/step\n",
      "30269/30269 [==============================] - 32s 1ms/step\n"
     ]
    },
    {
     "name": "stderr",
     "output_type": "stream",
     "text": [
      " 55%|████████████████████████████████████████▌                                 | 254/463 [5:25:31<20:46:58, 357.98s/it]"
     ]
    },
    {
     "name": "stdout",
     "output_type": "stream",
     "text": [
      "1/1 [==============================] - 0s 16ms/step\n",
      "30269/30269 [==============================] - 34s 1ms/step\n"
     ]
    },
    {
     "name": "stderr",
     "output_type": "stream",
     "text": [
      " 55%|████████████████████████████████████████▊                                 | 255/463 [5:26:20<15:20:11, 265.44s/it]"
     ]
    },
    {
     "name": "stdout",
     "output_type": "stream",
     "text": [
      "1/1 [==============================] - 0s 16ms/step\n",
      "30269/30269 [==============================] - 32s 1ms/step\n"
     ]
    },
    {
     "name": "stderr",
     "output_type": "stream",
     "text": [
      " 55%|████████████████████████████████████████▉                                 | 256/463 [5:27:08<11:30:28, 200.14s/it]"
     ]
    },
    {
     "name": "stdout",
     "output_type": "stream",
     "text": [
      "1/1 [==============================] - 0s 31ms/step\n",
      "30269/30269 [==============================] - 32s 1ms/step\n"
     ]
    },
    {
     "name": "stderr",
     "output_type": "stream",
     "text": [
      " 56%|█████████████████████████████████████████▋                                 | 257/463 [5:27:56<8:50:29, 154.51s/it]"
     ]
    },
    {
     "name": "stdout",
     "output_type": "stream",
     "text": [
      "1/1 [==============================] - 0s 16ms/step\n",
      "30269/30269 [==============================] - 32s 1ms/step\n"
     ]
    },
    {
     "name": "stderr",
     "output_type": "stream",
     "text": [
      " 56%|█████████████████████████████████████████▊                                 | 258/463 [5:28:44<6:58:47, 122.58s/it]"
     ]
    },
    {
     "name": "stdout",
     "output_type": "stream",
     "text": [
      "1/1 [==============================] - 0s 31ms/step\n",
      "30269/30269 [==============================] - 31s 1ms/step\n"
     ]
    },
    {
     "name": "stderr",
     "output_type": "stream",
     "text": [
      " 56%|██████████████████████████████████████████▌                                 | 259/463 [5:29:30<5:39:06, 99.74s/it]"
     ]
    },
    {
     "name": "stdout",
     "output_type": "stream",
     "text": [
      "1/1 [==============================] - 0s 20ms/step\n",
      "30269/30269 [==============================] - 31s 1ms/step\n"
     ]
    },
    {
     "name": "stderr",
     "output_type": "stream",
     "text": [
      " 56%|██████████████████████████████████████████▋                                 | 260/463 [5:30:17<4:43:42, 83.85s/it]"
     ]
    },
    {
     "name": "stdout",
     "output_type": "stream",
     "text": [
      "1/1 [==============================] - 0s 16ms/step\n",
      "30269/30269 [==============================] - 31s 1ms/step\n"
     ]
    },
    {
     "name": "stderr",
     "output_type": "stream",
     "text": [
      " 56%|██████████████████████████████████████████▊                                 | 261/463 [5:31:04<4:04:38, 72.66s/it]"
     ]
    },
    {
     "name": "stdout",
     "output_type": "stream",
     "text": [
      "1/1 [==============================] - 0s 23ms/step\n",
      "30269/30269 [==============================] - 32s 1ms/step\n"
     ]
    },
    {
     "name": "stderr",
     "output_type": "stream",
     "text": [
      " 57%|███████████████████████████████████████████                                 | 262/463 [5:31:51<3:37:48, 65.02s/it]"
     ]
    },
    {
     "name": "stdout",
     "output_type": "stream",
     "text": [
      "1/1 [==============================] - 0s 16ms/step\n",
      "30269/30269 [==============================] - 31s 1ms/step\n"
     ]
    },
    {
     "name": "stderr",
     "output_type": "stream",
     "text": [
      " 57%|███████████████████████████████████████████▏                                | 263/463 [5:32:37<3:18:12, 59.46s/it]"
     ]
    },
    {
     "name": "stdout",
     "output_type": "stream",
     "text": [
      "1/1 [==============================] - 0s 31ms/step\n",
      "30269/30269 [==============================] - 31s 1ms/step\n"
     ]
    },
    {
     "name": "stderr",
     "output_type": "stream",
     "text": [
      " 57%|███████████████████████████████████████████▎                                | 264/463 [5:33:24<3:04:17, 55.56s/it]"
     ]
    },
    {
     "name": "stdout",
     "output_type": "stream",
     "text": [
      "1/1 [==============================] - 0s 16ms/step\n",
      "30269/30269 [==============================] - 31s 1ms/step\n"
     ]
    },
    {
     "name": "stderr",
     "output_type": "stream",
     "text": [
      " 57%|███████████████████████████████████████████▍                                | 265/463 [5:34:10<2:54:20, 52.83s/it]"
     ]
    },
    {
     "name": "stdout",
     "output_type": "stream",
     "text": [
      "1/1 [==============================] - 0s 31ms/step\n",
      "30269/30269 [==============================] - 32s 1ms/step\n"
     ]
    },
    {
     "name": "stderr",
     "output_type": "stream",
     "text": [
      " 57%|███████████████████████████████████████████▋                                | 266/463 [5:34:57<2:47:43, 51.08s/it]"
     ]
    },
    {
     "name": "stdout",
     "output_type": "stream",
     "text": [
      "1/1 [==============================] - 0s 16ms/step\n",
      "30269/30269 [==============================] - 31s 1ms/step\n"
     ]
    },
    {
     "name": "stderr",
     "output_type": "stream",
     "text": [
      " 58%|███████████████████████████████████████████▊                                | 267/463 [5:35:44<2:42:19, 49.69s/it]"
     ]
    },
    {
     "name": "stdout",
     "output_type": "stream",
     "text": [
      "1/1 [==============================] - 0s 16ms/step\n",
      "30269/30269 [==============================] - 31s 1ms/step\n"
     ]
    },
    {
     "name": "stderr",
     "output_type": "stream",
     "text": [
      " 58%|███████████████████████████████████████████▉                                | 268/463 [5:36:31<2:38:38, 48.81s/it]"
     ]
    },
    {
     "name": "stdout",
     "output_type": "stream",
     "text": [
      "1/1 [==============================] - 0s 16ms/step\n",
      "30269/30269 [==============================] - 33s 1ms/step\n"
     ]
    },
    {
     "name": "stderr",
     "output_type": "stream",
     "text": [
      " 58%|████████████████████████████████████████████▏                               | 269/463 [5:37:19<2:37:36, 48.75s/it]"
     ]
    },
    {
     "name": "stdout",
     "output_type": "stream",
     "text": [
      "1/1 [==============================] - 0s 31ms/step\n",
      "30269/30269 [==============================] - 31s 1ms/step\n"
     ]
    },
    {
     "name": "stderr",
     "output_type": "stream",
     "text": [
      " 58%|████████████████████████████████████████████▎                               | 270/463 [5:38:06<2:35:15, 48.26s/it]"
     ]
    },
    {
     "name": "stdout",
     "output_type": "stream",
     "text": [
      "1/1 [==============================] - 0s 16ms/step\n",
      "30269/30269 [==============================] - 32s 1ms/step\n"
     ]
    },
    {
     "name": "stderr",
     "output_type": "stream",
     "text": [
      " 59%|████████████████████████████████████████████▍                               | 271/463 [5:38:54<2:33:55, 48.10s/it]"
     ]
    },
    {
     "name": "stdout",
     "output_type": "stream",
     "text": [
      "1/1 [==============================] - 0s 31ms/step\n",
      "30269/30269 [==============================] - 33s 1ms/step\n"
     ]
    },
    {
     "name": "stderr",
     "output_type": "stream",
     "text": [
      " 59%|████████████████████████████████████████████▋                               | 272/463 [5:39:42<2:33:04, 48.09s/it]"
     ]
    },
    {
     "name": "stdout",
     "output_type": "stream",
     "text": [
      "1/1 [==============================] - 0s 31ms/step\n",
      "30269/30269 [==============================] - 31s 1ms/step\n"
     ]
    },
    {
     "name": "stderr",
     "output_type": "stream",
     "text": [
      " 59%|████████████████████████████████████████████▊                               | 273/463 [5:40:29<2:31:35, 47.87s/it]"
     ]
    },
    {
     "name": "stdout",
     "output_type": "stream",
     "text": [
      "1/1 [==============================] - 0s 16ms/step\n",
      "30269/30269 [==============================] - 31s 1ms/step\n"
     ]
    },
    {
     "name": "stderr",
     "output_type": "stream",
     "text": [
      " 59%|████████████████████████████████████████████▉                               | 274/463 [5:41:17<2:30:02, 47.63s/it]"
     ]
    },
    {
     "name": "stdout",
     "output_type": "stream",
     "text": [
      "1/1 [==============================] - 0s 16ms/step\n",
      "30269/30269 [==============================] - 31s 1ms/step\n"
     ]
    },
    {
     "name": "stderr",
     "output_type": "stream",
     "text": [
      " 59%|█████████████████████████████████████████████▏                              | 275/463 [5:42:04<2:28:47, 47.49s/it]"
     ]
    },
    {
     "name": "stdout",
     "output_type": "stream",
     "text": [
      "1/1 [==============================] - 0s 31ms/step\n",
      "30269/30269 [==============================] - 31s 1ms/step\n"
     ]
    },
    {
     "name": "stderr",
     "output_type": "stream",
     "text": [
      " 60%|█████████████████████████████████████████████▎                              | 276/463 [5:42:50<2:26:55, 47.14s/it]"
     ]
    },
    {
     "name": "stdout",
     "output_type": "stream",
     "text": [
      "1/1 [==============================] - 0s 16ms/step\n",
      "30269/30269 [==============================] - 31s 1ms/step\n"
     ]
    },
    {
     "name": "stderr",
     "output_type": "stream",
     "text": [
      " 60%|█████████████████████████████████████████████▍                              | 277/463 [5:43:36<2:25:26, 46.92s/it]"
     ]
    },
    {
     "name": "stdout",
     "output_type": "stream",
     "text": [
      "1/1 [==============================] - 0s 31ms/step\n",
      "30269/30269 [==============================] - 31s 1ms/step\n"
     ]
    },
    {
     "name": "stderr",
     "output_type": "stream",
     "text": [
      " 60%|█████████████████████████████████████████████▋                              | 278/463 [5:44:23<2:24:27, 46.85s/it]"
     ]
    },
    {
     "name": "stdout",
     "output_type": "stream",
     "text": [
      "1/1 [==============================] - 0s 16ms/step\n",
      "30269/30269 [==============================] - 36s 1ms/step\n"
     ]
    },
    {
     "name": "stderr",
     "output_type": "stream",
     "text": [
      " 60%|█████████████████████████████████████████████▊                              | 279/463 [5:45:15<2:27:55, 48.24s/it]"
     ]
    },
    {
     "name": "stdout",
     "output_type": "stream",
     "text": [
      "1/1 [==============================] - 0s 31ms/step\n",
      "30269/30269 [==============================] - 32s 1ms/step\n"
     ]
    },
    {
     "name": "stderr",
     "output_type": "stream",
     "text": [
      " 60%|█████████████████████████████████████████████▉                              | 280/463 [5:46:02<2:26:26, 48.01s/it]"
     ]
    },
    {
     "name": "stdout",
     "output_type": "stream",
     "text": [
      "1/1 [==============================] - 0s 32ms/step\n",
      "30269/30269 [==============================] - 31s 1ms/step\n"
     ]
    },
    {
     "name": "stderr",
     "output_type": "stream",
     "text": [
      " 61%|██████████████████████████████████████████████▏                             | 281/463 [5:46:49<2:24:20, 47.59s/it]"
     ]
    },
    {
     "name": "stdout",
     "output_type": "stream",
     "text": [
      "1/1 [==============================] - 0s 16ms/step\n",
      "30269/30269 [==============================] - 31s 1ms/step\n"
     ]
    },
    {
     "name": "stderr",
     "output_type": "stream",
     "text": [
      " 61%|██████████████████████████████████████████████▎                             | 282/463 [5:47:36<2:23:10, 47.46s/it]"
     ]
    },
    {
     "name": "stdout",
     "output_type": "stream",
     "text": [
      "1/1 [==============================] - 0s 16ms/step\n",
      "30269/30269 [==============================] - 31s 1ms/step\n"
     ]
    },
    {
     "name": "stderr",
     "output_type": "stream",
     "text": [
      " 61%|██████████████████████████████████████████████▍                             | 283/463 [5:48:23<2:21:46, 47.26s/it]"
     ]
    },
    {
     "name": "stdout",
     "output_type": "stream",
     "text": [
      "1/1 [==============================] - 0s 31ms/step\n",
      "30269/30269 [==============================] - 31s 1ms/step\n"
     ]
    },
    {
     "name": "stderr",
     "output_type": "stream",
     "text": [
      " 61%|██████████████████████████████████████████████▌                             | 284/463 [5:49:10<2:21:23, 47.40s/it]"
     ]
    },
    {
     "name": "stdout",
     "output_type": "stream",
     "text": [
      "1/1 [==============================] - 0s 16ms/step\n",
      "30269/30269 [==============================] - 32s 1ms/step\n"
     ]
    },
    {
     "name": "stderr",
     "output_type": "stream",
     "text": [
      " 62%|██████████████████████████████████████████████▊                             | 285/463 [5:49:58<2:20:35, 47.39s/it]"
     ]
    },
    {
     "name": "stdout",
     "output_type": "stream",
     "text": [
      "1/1 [==============================] - 0s 16ms/step\n",
      "30269/30269 [==============================] - 31s 1ms/step\n"
     ]
    },
    {
     "name": "stderr",
     "output_type": "stream",
     "text": [
      " 62%|██████████████████████████████████████████████▉                             | 286/463 [5:50:44<2:19:09, 47.17s/it]"
     ]
    },
    {
     "name": "stdout",
     "output_type": "stream",
     "text": [
      "1/1 [==============================] - 0s 16ms/step\n",
      "30269/30269 [==============================] - 32s 1ms/step\n"
     ]
    },
    {
     "name": "stderr",
     "output_type": "stream",
     "text": [
      " 62%|███████████████████████████████████████████████                             | 287/463 [5:51:32<2:18:19, 47.16s/it]"
     ]
    },
    {
     "name": "stdout",
     "output_type": "stream",
     "text": [
      "1/1 [==============================] - 0s 31ms/step\n",
      "30269/30269 [==============================] - 30s 996us/step\n"
     ]
    },
    {
     "name": "stderr",
     "output_type": "stream",
     "text": [
      " 62%|███████████████████████████████████████████████▎                            | 288/463 [5:52:17<2:16:12, 46.70s/it]"
     ]
    },
    {
     "name": "stdout",
     "output_type": "stream",
     "text": [
      "1/1 [==============================] - 0s 31ms/step\n",
      "30269/30269 [==============================] - 29s 960us/step\n"
     ]
    },
    {
     "name": "stderr",
     "output_type": "stream",
     "text": [
      " 62%|███████████████████████████████████████████████▍                            | 289/463 [5:53:02<2:13:35, 46.06s/it]"
     ]
    },
    {
     "name": "stdout",
     "output_type": "stream",
     "text": [
      "1/1 [==============================] - 0s 16ms/step\n",
      "30269/30269 [==============================] - 29s 963us/step\n"
     ]
    },
    {
     "name": "stderr",
     "output_type": "stream",
     "text": [
      " 63%|███████████████████████████████████████████████▌                            | 290/463 [5:53:46<2:11:25, 45.58s/it]"
     ]
    },
    {
     "name": "stdout",
     "output_type": "stream",
     "text": [
      "1/1 [==============================] - 0s 16ms/step\n",
      "30269/30269 [==============================] - 29s 962us/step\n"
     ]
    },
    {
     "name": "stderr",
     "output_type": "stream",
     "text": [
      " 63%|███████████████████████████████████████████████▊                            | 291/463 [5:54:31<2:09:36, 45.21s/it]"
     ]
    },
    {
     "name": "stdout",
     "output_type": "stream",
     "text": [
      "1/1 [==============================] - 0s 15ms/step\n",
      "30269/30269 [==============================] - 29s 966us/step\n"
     ]
    },
    {
     "name": "stderr",
     "output_type": "stream",
     "text": [
      " 63%|███████████████████████████████████████████████▉                            | 292/463 [5:55:15<2:08:23, 45.05s/it]"
     ]
    },
    {
     "name": "stdout",
     "output_type": "stream",
     "text": [
      "1/1 [==============================] - 0s 31ms/step\n",
      "30269/30269 [==============================] - 29s 958us/step\n"
     ]
    },
    {
     "name": "stderr",
     "output_type": "stream",
     "text": [
      " 63%|████████████████████████████████████████████████                            | 293/463 [5:56:00<2:07:12, 44.90s/it]"
     ]
    },
    {
     "name": "stdout",
     "output_type": "stream",
     "text": [
      "1/1 [==============================] - 0s 16ms/step\n",
      "30269/30269 [==============================] - 29s 961us/step\n"
     ]
    },
    {
     "name": "stderr",
     "output_type": "stream",
     "text": [
      " 63%|████████████████████████████████████████████████▎                           | 294/463 [5:56:44<2:06:01, 44.74s/it]"
     ]
    },
    {
     "name": "stdout",
     "output_type": "stream",
     "text": [
      "1/1 [==============================] - 0s 16ms/step\n",
      "30269/30269 [==============================] - 29s 948us/step\n"
     ]
    },
    {
     "name": "stderr",
     "output_type": "stream",
     "text": [
      " 64%|████████████████████████████████████████████████▍                           | 295/463 [5:57:28<2:04:44, 44.55s/it]"
     ]
    },
    {
     "name": "stdout",
     "output_type": "stream",
     "text": [
      "1/1 [==============================] - 0s 31ms/step\n",
      "30269/30269 [==============================] - 29s 961us/step\n"
     ]
    },
    {
     "name": "stderr",
     "output_type": "stream",
     "text": [
      " 64%|████████████████████████████████████████████████▌                           | 296/463 [5:58:13<2:04:03, 44.57s/it]"
     ]
    },
    {
     "name": "stdout",
     "output_type": "stream",
     "text": [
      "1/1 [==============================] - 0s 31ms/step\n",
      "30269/30269 [==============================] - 32s 1ms/step\n"
     ]
    },
    {
     "name": "stderr",
     "output_type": "stream",
     "text": [
      " 64%|████████████████████████████████████████████████▊                           | 297/463 [5:59:00<2:05:26, 45.34s/it]"
     ]
    },
    {
     "name": "stdout",
     "output_type": "stream",
     "text": [
      "1/1 [==============================] - 0s 16ms/step\n",
      "30269/30269 [==============================] - 33s 1ms/step\n"
     ]
    },
    {
     "name": "stderr",
     "output_type": "stream",
     "text": [
      " 64%|████████████████████████████████████████████████▉                           | 298/463 [5:59:49<2:07:31, 46.37s/it]"
     ]
    },
    {
     "name": "stdout",
     "output_type": "stream",
     "text": [
      "1/1 [==============================] - 0s 31ms/step\n",
      "30269/30269 [==============================] - 30s 991us/step\n"
     ]
    },
    {
     "name": "stderr",
     "output_type": "stream",
     "text": [
      " 65%|█████████████████████████████████████████████████                           | 299/463 [6:00:34<2:06:07, 46.14s/it]"
     ]
    },
    {
     "name": "stdout",
     "output_type": "stream",
     "text": [
      "1/1 [==============================] - 0s 16ms/step\n",
      "30269/30269 [==============================] - 29s 972us/step\n"
     ]
    },
    {
     "name": "stderr",
     "output_type": "stream",
     "text": [
      " 65%|█████████████████████████████████████████████████▏                          | 300/463 [6:01:20<2:04:37, 45.88s/it]"
     ]
    },
    {
     "name": "stdout",
     "output_type": "stream",
     "text": [
      "1/1 [==============================] - 0s 31ms/step\n",
      "30269/30269 [==============================] - 32s 1ms/step\n"
     ]
    },
    {
     "name": "stderr",
     "output_type": "stream",
     "text": [
      " 65%|█████████████████████████████████████████████████▍                          | 301/463 [6:02:08<2:05:44, 46.57s/it]"
     ]
    },
    {
     "name": "stdout",
     "output_type": "stream",
     "text": [
      "1/1 [==============================] - 0s 17ms/step\n",
      "30269/30269 [==============================] - 31s 1ms/step\n"
     ]
    },
    {
     "name": "stderr",
     "output_type": "stream",
     "text": [
      " 65%|█████████████████████████████████████████████████▌                          | 302/463 [6:02:54<2:04:57, 46.57s/it]"
     ]
    },
    {
     "name": "stdout",
     "output_type": "stream",
     "text": [
      "1/1 [==============================] - 0s 16ms/step\n",
      "30269/30269 [==============================] - 31s 1ms/step\n"
     ]
    },
    {
     "name": "stderr",
     "output_type": "stream",
     "text": [
      " 65%|█████████████████████████████████████████████████▋                          | 303/463 [6:03:41<2:04:09, 46.56s/it]"
     ]
    },
    {
     "name": "stdout",
     "output_type": "stream",
     "text": [
      "1/1 [==============================] - 0s 31ms/step\n",
      "30269/30269 [==============================] - 30s 987us/step\n"
     ]
    },
    {
     "name": "stderr",
     "output_type": "stream",
     "text": [
      " 66%|█████████████████████████████████████████████████▉                          | 304/463 [6:04:26<2:02:26, 46.21s/it]"
     ]
    },
    {
     "name": "stdout",
     "output_type": "stream",
     "text": [
      "1/1 [==============================] - 0s 31ms/step\n",
      "30269/30269 [==============================] - 31s 1ms/step\n"
     ]
    },
    {
     "name": "stderr",
     "output_type": "stream",
     "text": [
      " 66%|██████████████████████████████████████████████████                          | 305/463 [6:05:13<2:02:15, 46.43s/it]"
     ]
    },
    {
     "name": "stdout",
     "output_type": "stream",
     "text": [
      "1/1 [==============================] - 0s 16ms/step\n",
      "30269/30269 [==============================] - 29s 957us/step\n"
     ]
    },
    {
     "name": "stderr",
     "output_type": "stream",
     "text": [
      " 66%|██████████████████████████████████████████████████▏                         | 306/463 [6:05:58<2:00:00, 45.86s/it]"
     ]
    },
    {
     "name": "stdout",
     "output_type": "stream",
     "text": [
      "1/1 [==============================] - 0s 15ms/step\n",
      "30269/30269 [==============================] - 29s 966us/step\n"
     ]
    },
    {
     "name": "stderr",
     "output_type": "stream",
     "text": [
      " 66%|██████████████████████████████████████████████████▍                         | 307/463 [6:06:42<1:58:13, 45.47s/it]"
     ]
    },
    {
     "name": "stdout",
     "output_type": "stream",
     "text": [
      "1/1 [==============================] - 0s 16ms/step\n",
      "30269/30269 [==============================] - 28s 936us/step\n"
     ]
    },
    {
     "name": "stderr",
     "output_type": "stream",
     "text": [
      " 67%|██████████████████████████████████████████████████▌                         | 308/463 [6:07:26<1:56:05, 44.94s/it]"
     ]
    },
    {
     "name": "stdout",
     "output_type": "stream",
     "text": [
      "1/1 [==============================] - 0s 16ms/step\n",
      "30269/30269 [==============================] - 31s 1ms/step\n"
     ]
    },
    {
     "name": "stderr",
     "output_type": "stream",
     "text": [
      " 67%|██████████████████████████████████████████████████▋                         | 309/463 [6:08:12<1:56:24, 45.35s/it]"
     ]
    },
    {
     "name": "stdout",
     "output_type": "stream",
     "text": [
      "1/1 [==============================] - 0s 32ms/step\n",
      "30269/30269 [==============================] - 31s 1ms/step\n"
     ]
    },
    {
     "name": "stderr",
     "output_type": "stream",
     "text": [
      " 67%|██████████████████████████████████████████████████▉                         | 310/463 [6:08:58<1:55:55, 45.46s/it]"
     ]
    },
    {
     "name": "stdout",
     "output_type": "stream",
     "text": [
      "1/1 [==============================] - 0s 31ms/step\n",
      "30269/30269 [==============================] - 36s 1ms/step\n"
     ]
    },
    {
     "name": "stderr",
     "output_type": "stream",
     "text": [
      " 67%|███████████████████████████████████████████████████                         | 311/463 [6:09:51<2:00:31, 47.57s/it]"
     ]
    },
    {
     "name": "stdout",
     "output_type": "stream",
     "text": [
      "1/1 [==============================] - 0s 17ms/step\n",
      "30269/30269 [==============================] - 35s 1ms/step\n"
     ]
    },
    {
     "name": "stderr",
     "output_type": "stream",
     "text": [
      " 67%|███████████████████████████████████████████████████▏                        | 312/463 [6:10:41<2:02:10, 48.55s/it]"
     ]
    },
    {
     "name": "stdout",
     "output_type": "stream",
     "text": [
      "1/1 [==============================] - 0s 22ms/step\n",
      "30269/30269 [==============================] - 31s 1ms/step\n"
     ]
    },
    {
     "name": "stderr",
     "output_type": "stream",
     "text": [
      " 68%|███████████████████████████████████████████████████▍                        | 313/463 [6:11:28<2:00:08, 48.06s/it]"
     ]
    },
    {
     "name": "stdout",
     "output_type": "stream",
     "text": [
      "1/1 [==============================] - 0s 24ms/step\n",
      "30269/30269 [==============================] - 30s 1ms/step\n"
     ]
    },
    {
     "name": "stderr",
     "output_type": "stream",
     "text": [
      " 68%|███████████████████████████████████████████████████▌                        | 314/463 [6:12:15<1:58:12, 47.60s/it]"
     ]
    },
    {
     "name": "stdout",
     "output_type": "stream",
     "text": [
      "1/1 [==============================] - 0s 22ms/step\n",
      "30269/30269 [==============================] - 31s 1ms/step\n"
     ]
    },
    {
     "name": "stderr",
     "output_type": "stream",
     "text": [
      " 68%|███████████████████████████████████████████████████▋                        | 315/463 [6:13:01<1:56:25, 47.20s/it]"
     ]
    },
    {
     "name": "stdout",
     "output_type": "stream",
     "text": [
      "1/1 [==============================] - 0s 22ms/step\n",
      "30269/30269 [==============================] - 34s 1ms/step\n"
     ]
    },
    {
     "name": "stderr",
     "output_type": "stream",
     "text": [
      " 68%|███████████████████████████████████████████████████▊                        | 316/463 [6:13:51<1:57:56, 48.14s/it]"
     ]
    },
    {
     "name": "stdout",
     "output_type": "stream",
     "text": [
      "1/1 [==============================] - 0s 26ms/step\n",
      "30269/30269 [==============================] - 35s 1ms/step\n"
     ]
    },
    {
     "name": "stderr",
     "output_type": "stream",
     "text": [
      " 68%|████████████████████████████████████████████████████                        | 317/463 [6:14:42<1:58:45, 48.81s/it]"
     ]
    },
    {
     "name": "stdout",
     "output_type": "stream",
     "text": [
      "1/1 [==============================] - 0s 31ms/step\n",
      "30269/30269 [==============================] - 29s 952us/step\n"
     ]
    },
    {
     "name": "stderr",
     "output_type": "stream",
     "text": [
      " 69%|████████████████████████████████████████████████████▏                       | 318/463 [6:15:26<1:54:49, 47.52s/it]"
     ]
    },
    {
     "name": "stdout",
     "output_type": "stream",
     "text": [
      "1/1 [==============================] - 0s 47ms/step\n",
      "30269/30269 [==============================] - 29s 955us/step\n"
     ]
    },
    {
     "name": "stderr",
     "output_type": "stream",
     "text": [
      " 69%|████████████████████████████████████████████████████▎                       | 319/463 [6:16:11<1:51:56, 46.64s/it]"
     ]
    },
    {
     "name": "stdout",
     "output_type": "stream",
     "text": [
      "1/1 [==============================] - 0s 16ms/step\n",
      "30269/30269 [==============================] - 29s 953us/step\n"
     ]
    },
    {
     "name": "stderr",
     "output_type": "stream",
     "text": [
      " 69%|████████████████████████████████████████████████████▌                       | 320/463 [6:16:56<1:49:42, 46.03s/it]"
     ]
    },
    {
     "name": "stdout",
     "output_type": "stream",
     "text": [
      "1/1 [==============================] - 0s 20ms/step\n",
      "30269/30269 [==============================] - 29s 954us/step\n"
     ]
    },
    {
     "name": "stderr",
     "output_type": "stream",
     "text": [
      " 69%|████████████████████████████████████████████████████▋                       | 321/463 [6:17:40<1:47:50, 45.57s/it]"
     ]
    },
    {
     "name": "stdout",
     "output_type": "stream",
     "text": [
      "1/1 [==============================] - 0s 16ms/step\n",
      "30269/30269 [==============================] - 29s 965us/step\n"
     ]
    },
    {
     "name": "stderr",
     "output_type": "stream",
     "text": [
      " 70%|████████████████████████████████████████████████████▊                       | 322/463 [6:18:25<1:46:45, 45.43s/it]"
     ]
    },
    {
     "name": "stdout",
     "output_type": "stream",
     "text": [
      "1/1 [==============================] - 0s 31ms/step\n",
      "30269/30269 [==============================] - 30s 999us/step\n"
     ]
    },
    {
     "name": "stderr",
     "output_type": "stream",
     "text": [
      " 70%|█████████████████████████████████████████████████████                       | 323/463 [6:19:11<1:46:13, 45.52s/it]"
     ]
    },
    {
     "name": "stdout",
     "output_type": "stream",
     "text": [
      "1/1 [==============================] - 0s 31ms/step\n",
      "30269/30269 [==============================] - 29s 967us/step\n"
     ]
    },
    {
     "name": "stderr",
     "output_type": "stream",
     "text": [
      " 70%|█████████████████████████████████████████████████████▏                      | 324/463 [6:19:56<1:45:00, 45.33s/it]"
     ]
    },
    {
     "name": "stdout",
     "output_type": "stream",
     "text": [
      "1/1 [==============================] - 0s 18ms/step\n",
      "30269/30269 [==============================] - 29s 954us/step\n"
     ]
    },
    {
     "name": "stderr",
     "output_type": "stream",
     "text": [
      " 70%|█████████████████████████████████████████████████████▎                      | 325/463 [6:20:40<1:43:40, 45.08s/it]"
     ]
    },
    {
     "name": "stdout",
     "output_type": "stream",
     "text": [
      "1/1 [==============================] - 0s 26ms/step\n",
      "30269/30269 [==============================] - 29s 964us/step\n"
     ]
    },
    {
     "name": "stderr",
     "output_type": "stream",
     "text": [
      " 70%|█████████████████████████████████████████████████████▌                      | 326/463 [6:21:25<1:42:59, 45.11s/it]"
     ]
    },
    {
     "name": "stdout",
     "output_type": "stream",
     "text": [
      "1/1 [==============================] - 0s 16ms/step\n",
      "30269/30269 [==============================] - 34s 1ms/step\n"
     ]
    },
    {
     "name": "stderr",
     "output_type": "stream",
     "text": [
      " 71%|█████████████████████████████████████████████████████▋                      | 327/463 [6:22:15<1:45:26, 46.52s/it]"
     ]
    },
    {
     "name": "stdout",
     "output_type": "stream",
     "text": [
      "1/1 [==============================] - 0s 31ms/step\n",
      "30269/30269 [==============================] - 30s 985us/step\n"
     ]
    },
    {
     "name": "stderr",
     "output_type": "stream",
     "text": [
      " 71%|█████████████████████████████████████████████████████▊                      | 328/463 [6:23:00<1:43:44, 46.11s/it]"
     ]
    },
    {
     "name": "stdout",
     "output_type": "stream",
     "text": [
      "1/1 [==============================] - 0s 16ms/step\n",
      "30269/30269 [==============================] - 30s 996us/step\n"
     ]
    },
    {
     "name": "stderr",
     "output_type": "stream",
     "text": [
      " 71%|██████████████████████████████████████████████████████                      | 329/463 [6:23:46<1:42:36, 45.95s/it]"
     ]
    },
    {
     "name": "stdout",
     "output_type": "stream",
     "text": [
      "1/1 [==============================] - 0s 16ms/step\n",
      "30269/30269 [==============================] - 29s 969us/step\n"
     ]
    },
    {
     "name": "stderr",
     "output_type": "stream",
     "text": [
      " 71%|██████████████████████████████████████████████████████▏                     | 330/463 [6:24:31<1:40:55, 45.53s/it]"
     ]
    },
    {
     "name": "stdout",
     "output_type": "stream",
     "text": [
      "1/1 [==============================] - 0s 32ms/step\n",
      "30269/30269 [==============================] - 29s 972us/step\n"
     ]
    },
    {
     "name": "stderr",
     "output_type": "stream",
     "text": [
      " 71%|██████████████████████████████████████████████████████▎                     | 331/463 [6:25:15<1:39:34, 45.26s/it]"
     ]
    },
    {
     "name": "stdout",
     "output_type": "stream",
     "text": [
      "1/1 [==============================] - 0s 31ms/step\n",
      "30269/30269 [==============================] - 30s 993us/step\n"
     ]
    },
    {
     "name": "stderr",
     "output_type": "stream",
     "text": [
      " 72%|██████████████████████████████████████████████████████▍                     | 332/463 [6:26:01<1:38:53, 45.30s/it]"
     ]
    },
    {
     "name": "stdout",
     "output_type": "stream",
     "text": [
      "1/1 [==============================] - 0s 31ms/step\n",
      "30269/30269 [==============================] - 30s 983us/step\n"
     ]
    },
    {
     "name": "stderr",
     "output_type": "stream",
     "text": [
      " 72%|██████████████████████████████████████████████████████▋                     | 333/463 [6:26:46<1:37:56, 45.20s/it]"
     ]
    },
    {
     "name": "stdout",
     "output_type": "stream",
     "text": [
      "1/1 [==============================] - 0s 16ms/step\n",
      "30269/30269 [==============================] - 30s 977us/step\n"
     ]
    },
    {
     "name": "stderr",
     "output_type": "stream",
     "text": [
      " 72%|██████████████████████████████████████████████████████▊                     | 334/463 [6:27:30<1:36:57, 45.10s/it]"
     ]
    },
    {
     "name": "stdout",
     "output_type": "stream",
     "text": [
      "1/1 [==============================] - 0s 31ms/step\n",
      "30269/30269 [==============================] - 29s 965us/step\n"
     ]
    },
    {
     "name": "stderr",
     "output_type": "stream",
     "text": [
      " 72%|██████████████████████████████████████████████████████▉                     | 335/463 [6:28:15<1:35:53, 44.95s/it]"
     ]
    },
    {
     "name": "stdout",
     "output_type": "stream",
     "text": [
      "1/1 [==============================] - 0s 31ms/step\n",
      "30269/30269 [==============================] - 30s 978us/step\n"
     ]
    },
    {
     "name": "stderr",
     "output_type": "stream",
     "text": [
      " 73%|███████████████████████████████████████████████████████▏                    | 336/463 [6:29:00<1:35:07, 44.94s/it]"
     ]
    },
    {
     "name": "stdout",
     "output_type": "stream",
     "text": [
      "1/1 [==============================] - 0s 16ms/step\n",
      "30269/30269 [==============================] - 29s 971us/step\n"
     ]
    },
    {
     "name": "stderr",
     "output_type": "stream",
     "text": [
      " 73%|███████████████████████████████████████████████████████▎                    | 337/463 [6:29:45<1:34:12, 44.86s/it]"
     ]
    },
    {
     "name": "stdout",
     "output_type": "stream",
     "text": [
      "1/1 [==============================] - 0s 31ms/step\n",
      "30269/30269 [==============================] - 30s 980us/step\n"
     ]
    },
    {
     "name": "stderr",
     "output_type": "stream",
     "text": [
      " 73%|███████████████████████████████████████████████████████▍                    | 338/463 [6:30:30<1:33:36, 44.93s/it]"
     ]
    },
    {
     "name": "stdout",
     "output_type": "stream",
     "text": [
      "1/1 [==============================] - 0s 31ms/step\n",
      "30269/30269 [==============================] - 30s 978us/step\n"
     ]
    },
    {
     "name": "stderr",
     "output_type": "stream",
     "text": [
      " 73%|███████████████████████████████████████████████████████▋                    | 339/463 [6:31:15<1:32:53, 44.95s/it]"
     ]
    },
    {
     "name": "stdout",
     "output_type": "stream",
     "text": [
      "1/1 [==============================] - 0s 32ms/step\n",
      "30269/30269 [==============================] - 30s 976us/step\n"
     ]
    },
    {
     "name": "stderr",
     "output_type": "stream",
     "text": [
      " 73%|███████████████████████████████████████████████████████▊                    | 340/463 [6:32:00<1:32:08, 44.95s/it]"
     ]
    },
    {
     "name": "stdout",
     "output_type": "stream",
     "text": [
      "1/1 [==============================] - 0s 32ms/step\n",
      "30269/30269 [==============================] - 30s 981us/step\n"
     ]
    },
    {
     "name": "stderr",
     "output_type": "stream",
     "text": [
      " 74%|███████████████████████████████████████████████████████▉                    | 341/463 [6:32:45<1:31:22, 44.94s/it]"
     ]
    },
    {
     "name": "stdout",
     "output_type": "stream",
     "text": [
      "1/1 [==============================] - 0s 16ms/step\n",
      "30269/30269 [==============================] - 29s 972us/step\n"
     ]
    },
    {
     "name": "stderr",
     "output_type": "stream",
     "text": [
      " 74%|████████████████████████████████████████████████████████▏                   | 342/463 [6:33:29<1:30:25, 44.84s/it]"
     ]
    },
    {
     "name": "stdout",
     "output_type": "stream",
     "text": [
      "1/1 [==============================] - 0s 31ms/step\n",
      "30269/30269 [==============================] - 30s 1ms/step\n"
     ]
    },
    {
     "name": "stderr",
     "output_type": "stream",
     "text": [
      " 74%|████████████████████████████████████████████████████████▎                   | 343/463 [6:34:15<1:30:14, 45.12s/it]"
     ]
    },
    {
     "name": "stdout",
     "output_type": "stream",
     "text": [
      "1/1 [==============================] - 0s 31ms/step\n",
      "30269/30269 [==============================] - 30s 978us/step\n"
     ]
    },
    {
     "name": "stderr",
     "output_type": "stream",
     "text": [
      " 74%|████████████████████████████████████████████████████████▍                   | 344/463 [6:35:00<1:29:17, 45.02s/it]"
     ]
    },
    {
     "name": "stdout",
     "output_type": "stream",
     "text": [
      "1/1 [==============================] - 0s 16ms/step\n",
      "30269/30269 [==============================] - 30s 982us/step\n"
     ]
    },
    {
     "name": "stderr",
     "output_type": "stream",
     "text": [
      " 75%|████████████████████████████████████████████████████████▋                   | 345/463 [6:35:45<1:28:32, 45.02s/it]"
     ]
    },
    {
     "name": "stdout",
     "output_type": "stream",
     "text": [
      "1/1 [==============================] - 0s 31ms/step\n",
      "30269/30269 [==============================] - 30s 990us/step\n"
     ]
    },
    {
     "name": "stderr",
     "output_type": "stream",
     "text": [
      " 75%|████████████████████████████████████████████████████████▊                   | 346/463 [6:36:30<1:27:55, 45.09s/it]"
     ]
    },
    {
     "name": "stdout",
     "output_type": "stream",
     "text": [
      "1/1 [==============================] - 0s 22ms/step\n",
      "30269/30269 [==============================] - 29s 972us/step\n"
     ]
    },
    {
     "name": "stderr",
     "output_type": "stream",
     "text": [
      " 75%|████████████████████████████████████████████████████████▉                   | 347/463 [6:37:15<1:27:20, 45.18s/it]"
     ]
    },
    {
     "name": "stdout",
     "output_type": "stream",
     "text": [
      "1/1 [==============================] - 0s 26ms/step\n",
      "30269/30269 [==============================] - 30s 990us/step\n"
     ]
    },
    {
     "name": "stderr",
     "output_type": "stream",
     "text": [
      " 75%|█████████████████████████████████████████████████████████                   | 348/463 [6:38:01<1:26:50, 45.31s/it]"
     ]
    },
    {
     "name": "stdout",
     "output_type": "stream",
     "text": [
      "1/1 [==============================] - 0s 31ms/step\n",
      "30269/30269 [==============================] - 29s 963us/step\n"
     ]
    },
    {
     "name": "stderr",
     "output_type": "stream",
     "text": [
      " 75%|█████████████████████████████████████████████████████████▎                  | 349/463 [6:38:45<1:25:37, 45.07s/it]"
     ]
    },
    {
     "name": "stdout",
     "output_type": "stream",
     "text": [
      "1/1 [==============================] - 0s 32ms/step\n",
      "30269/30269 [==============================] - 29s 964us/step\n"
     ]
    },
    {
     "name": "stderr",
     "output_type": "stream",
     "text": [
      " 76%|█████████████████████████████████████████████████████████▍                  | 350/463 [6:39:30<1:24:45, 45.01s/it]"
     ]
    },
    {
     "name": "stdout",
     "output_type": "stream",
     "text": [
      "1/1 [==============================] - 0s 31ms/step\n",
      "30269/30269 [==============================] - 29s 952us/step\n"
     ]
    },
    {
     "name": "stderr",
     "output_type": "stream",
     "text": [
      " 76%|█████████████████████████████████████████████████████████▌                  | 351/463 [6:40:15<1:23:36, 44.79s/it]"
     ]
    },
    {
     "name": "stdout",
     "output_type": "stream",
     "text": [
      "1/1 [==============================] - 0s 16ms/step\n",
      "30269/30269 [==============================] - 29s 963us/step\n"
     ]
    },
    {
     "name": "stderr",
     "output_type": "stream",
     "text": [
      " 76%|█████████████████████████████████████████████████████████▊                  | 352/463 [6:40:59<1:22:44, 44.72s/it]"
     ]
    },
    {
     "name": "stdout",
     "output_type": "stream",
     "text": [
      "1/1 [==============================] - 0s 31ms/step\n",
      "30269/30269 [==============================] - 29s 959us/step\n"
     ]
    },
    {
     "name": "stderr",
     "output_type": "stream",
     "text": [
      " 76%|█████████████████████████████████████████████████████████▉                  | 353/463 [6:41:44<1:21:50, 44.65s/it]"
     ]
    },
    {
     "name": "stdout",
     "output_type": "stream",
     "text": [
      "1/1 [==============================] - 0s 31ms/step\n",
      "30269/30269 [==============================] - 29s 960us/step\n"
     ]
    },
    {
     "name": "stderr",
     "output_type": "stream",
     "text": [
      " 76%|██████████████████████████████████████████████████████████                  | 354/463 [6:42:28<1:21:08, 44.66s/it]"
     ]
    },
    {
     "name": "stdout",
     "output_type": "stream",
     "text": [
      "1/1 [==============================] - 0s 31ms/step\n",
      "30269/30269 [==============================] - 29s 948us/step\n"
     ]
    },
    {
     "name": "stderr",
     "output_type": "stream",
     "text": [
      " 77%|██████████████████████████████████████████████████████████▎                 | 355/463 [6:43:12<1:20:06, 44.51s/it]"
     ]
    },
    {
     "name": "stdout",
     "output_type": "stream",
     "text": [
      "1/1 [==============================] - 0s 16ms/step\n",
      "30269/30269 [==============================] - 29s 953us/step\n"
     ]
    },
    {
     "name": "stderr",
     "output_type": "stream",
     "text": [
      " 77%|██████████████████████████████████████████████████████████▍                 | 356/463 [6:43:57<1:19:18, 44.47s/it]"
     ]
    },
    {
     "name": "stdout",
     "output_type": "stream",
     "text": [
      "1/1 [==============================] - 0s 16ms/step\n",
      "30269/30269 [==============================] - 29s 957us/step\n"
     ]
    },
    {
     "name": "stderr",
     "output_type": "stream",
     "text": [
      " 77%|██████████████████████████████████████████████████████████▌                 | 357/463 [6:44:41<1:18:31, 44.45s/it]"
     ]
    },
    {
     "name": "stdout",
     "output_type": "stream",
     "text": [
      "1/1 [==============================] - 0s 31ms/step\n",
      "30269/30269 [==============================] - 29s 953us/step\n"
     ]
    },
    {
     "name": "stderr",
     "output_type": "stream",
     "text": [
      " 77%|██████████████████████████████████████████████████████████▊                 | 358/463 [6:45:26<1:17:46, 44.44s/it]"
     ]
    },
    {
     "name": "stdout",
     "output_type": "stream",
     "text": [
      "1/1 [==============================] - 0s 16ms/step\n",
      "30269/30269 [==============================] - 29s 953us/step\n"
     ]
    },
    {
     "name": "stderr",
     "output_type": "stream",
     "text": [
      " 78%|██████████████████████████████████████████████████████████▉                 | 359/463 [6:46:10<1:17:00, 44.43s/it]"
     ]
    },
    {
     "name": "stdout",
     "output_type": "stream",
     "text": [
      "1/1 [==============================] - 0s 31ms/step\n",
      "30269/30269 [==============================] - 29s 958us/step\n"
     ]
    },
    {
     "name": "stderr",
     "output_type": "stream",
     "text": [
      " 78%|███████████████████████████████████████████████████████████                 | 360/463 [6:46:55<1:16:15, 44.43s/it]"
     ]
    },
    {
     "name": "stdout",
     "output_type": "stream",
     "text": [
      "1/1 [==============================] - 0s 31ms/step\n",
      "30269/30269 [==============================] - 29s 962us/step\n"
     ]
    },
    {
     "name": "stderr",
     "output_type": "stream",
     "text": [
      " 78%|███████████████████████████████████████████████████████████▎                | 361/463 [6:47:39<1:15:41, 44.53s/it]"
     ]
    },
    {
     "name": "stdout",
     "output_type": "stream",
     "text": [
      "1/1 [==============================] - 0s 16ms/step\n",
      "30269/30269 [==============================] - 29s 952us/step\n"
     ]
    },
    {
     "name": "stderr",
     "output_type": "stream",
     "text": [
      " 78%|███████████████████████████████████████████████████████████▍                | 362/463 [6:48:24<1:14:51, 44.47s/it]"
     ]
    },
    {
     "name": "stdout",
     "output_type": "stream",
     "text": [
      "1/1 [==============================] - 0s 16ms/step\n",
      "30269/30269 [==============================] - 30s 980us/step\n"
     ]
    },
    {
     "name": "stderr",
     "output_type": "stream",
     "text": [
      " 78%|███████████████████████████████████████████████████████████▌                | 363/463 [6:49:09<1:14:40, 44.81s/it]"
     ]
    },
    {
     "name": "stdout",
     "output_type": "stream",
     "text": [
      "1/1 [==============================] - 0s 23ms/step\n",
      "30269/30269 [==============================] - 30s 975us/step\n"
     ]
    },
    {
     "name": "stderr",
     "output_type": "stream",
     "text": [
      " 79%|███████████████████████████████████████████████████████████▋                | 364/463 [6:49:54<1:14:03, 44.89s/it]"
     ]
    },
    {
     "name": "stdout",
     "output_type": "stream",
     "text": [
      "1/1 [==============================] - 0s 31ms/step\n",
      "30269/30269 [==============================] - 29s 961us/step\n"
     ]
    },
    {
     "name": "stderr",
     "output_type": "stream",
     "text": [
      " 79%|███████████████████████████████████████████████████████████▉                | 365/463 [6:50:39<1:13:12, 44.82s/it]"
     ]
    },
    {
     "name": "stdout",
     "output_type": "stream",
     "text": [
      "1/1 [==============================] - 0s 31ms/step\n",
      "30269/30269 [==============================] - 29s 965us/step\n"
     ]
    },
    {
     "name": "stderr",
     "output_type": "stream",
     "text": [
      " 79%|████████████████████████████████████████████████████████████                | 366/463 [6:51:24<1:12:21, 44.76s/it]"
     ]
    },
    {
     "name": "stdout",
     "output_type": "stream",
     "text": [
      "1/1 [==============================] - 0s 31ms/step\n",
      "30269/30269 [==============================] - 29s 959us/step\n"
     ]
    },
    {
     "name": "stderr",
     "output_type": "stream",
     "text": [
      " 79%|████████████████████████████████████████████████████████████▏               | 367/463 [6:52:08<1:11:28, 44.67s/it]"
     ]
    },
    {
     "name": "stdout",
     "output_type": "stream",
     "text": [
      "1/1 [==============================] - 0s 16ms/step\n",
      "30269/30269 [==============================] - 30s 982us/step\n"
     ]
    },
    {
     "name": "stderr",
     "output_type": "stream",
     "text": [
      " 79%|████████████████████████████████████████████████████████████▍               | 368/463 [6:52:53<1:10:59, 44.84s/it]"
     ]
    },
    {
     "name": "stdout",
     "output_type": "stream",
     "text": [
      "1/1 [==============================] - 0s 16ms/step\n",
      "30269/30269 [==============================] - 29s 953us/step\n"
     ]
    },
    {
     "name": "stderr",
     "output_type": "stream",
     "text": [
      " 80%|████████████████████████████████████████████████████████████▌               | 369/463 [6:53:37<1:09:56, 44.64s/it]"
     ]
    },
    {
     "name": "stdout",
     "output_type": "stream",
     "text": [
      "1/1 [==============================] - 0s 31ms/step\n",
      "30269/30269 [==============================] - 29s 965us/step\n"
     ]
    },
    {
     "name": "stderr",
     "output_type": "stream",
     "text": [
      " 80%|████████████████████████████████████████████████████████████▋               | 370/463 [6:54:22<1:09:10, 44.63s/it]"
     ]
    },
    {
     "name": "stdout",
     "output_type": "stream",
     "text": [
      "1/1 [==============================] - 0s 31ms/step\n",
      "30269/30269 [==============================] - 29s 955us/step\n"
     ]
    },
    {
     "name": "stderr",
     "output_type": "stream",
     "text": [
      " 80%|████████████████████████████████████████████████████████████▉               | 371/463 [6:55:06<1:08:15, 44.51s/it]"
     ]
    },
    {
     "name": "stdout",
     "output_type": "stream",
     "text": [
      "1/1 [==============================] - 0s 16ms/step\n",
      "30269/30269 [==============================] - 29s 953us/step\n"
     ]
    },
    {
     "name": "stderr",
     "output_type": "stream",
     "text": [
      " 80%|█████████████████████████████████████████████████████████████               | 372/463 [6:55:51<1:07:28, 44.49s/it]"
     ]
    },
    {
     "name": "stdout",
     "output_type": "stream",
     "text": [
      "1/1 [==============================] - 0s 31ms/step\n",
      "30269/30269 [==============================] - 29s 951us/step\n"
     ]
    },
    {
     "name": "stderr",
     "output_type": "stream",
     "text": [
      " 81%|█████████████████████████████████████████████████████████████▏              | 373/463 [6:56:35<1:06:40, 44.45s/it]"
     ]
    },
    {
     "name": "stdout",
     "output_type": "stream",
     "text": [
      "1/1 [==============================] - 0s 16ms/step\n",
      "30269/30269 [==============================] - 29s 956us/step\n"
     ]
    },
    {
     "name": "stderr",
     "output_type": "stream",
     "text": [
      " 81%|█████████████████████████████████████████████████████████████▍              | 374/463 [6:57:20<1:05:59, 44.49s/it]"
     ]
    },
    {
     "name": "stdout",
     "output_type": "stream",
     "text": [
      "1/1 [==============================] - 0s 16ms/step\n",
      "30269/30269 [==============================] - 29s 954us/step\n"
     ]
    },
    {
     "name": "stderr",
     "output_type": "stream",
     "text": [
      " 81%|█████████████████████████████████████████████████████████████▌              | 375/463 [6:58:04<1:05:10, 44.43s/it]"
     ]
    },
    {
     "name": "stdout",
     "output_type": "stream",
     "text": [
      "1/1 [==============================] - 0s 31ms/step\n",
      "30269/30269 [==============================] - 29s 957us/step\n"
     ]
    },
    {
     "name": "stderr",
     "output_type": "stream",
     "text": [
      " 81%|█████████████████████████████████████████████████████████████▋              | 376/463 [6:58:48<1:04:23, 44.41s/it]"
     ]
    },
    {
     "name": "stdout",
     "output_type": "stream",
     "text": [
      "1/1 [==============================] - 0s 16ms/step\n",
      "30269/30269 [==============================] - 29s 965us/step\n"
     ]
    },
    {
     "name": "stderr",
     "output_type": "stream",
     "text": [
      " 81%|█████████████████████████████████████████████████████████████▉              | 377/463 [6:59:33<1:03:46, 44.49s/it]"
     ]
    },
    {
     "name": "stdout",
     "output_type": "stream",
     "text": [
      "1/1 [==============================] - 0s 31ms/step\n",
      "30269/30269 [==============================] - 29s 954us/step\n"
     ]
    },
    {
     "name": "stderr",
     "output_type": "stream",
     "text": [
      " 82%|██████████████████████████████████████████████████████████████              | 378/463 [7:00:17<1:02:59, 44.46s/it]"
     ]
    },
    {
     "name": "stdout",
     "output_type": "stream",
     "text": [
      "1/1 [==============================] - 0s 32ms/step\n",
      "30269/30269 [==============================] - 29s 968us/step\n"
     ]
    },
    {
     "name": "stderr",
     "output_type": "stream",
     "text": [
      " 82%|██████████████████████████████████████████████████████████████▏             | 379/463 [7:01:02<1:02:19, 44.52s/it]"
     ]
    },
    {
     "name": "stdout",
     "output_type": "stream",
     "text": [
      "1/1 [==============================] - 0s 31ms/step\n",
      "30269/30269 [==============================] - 29s 970us/step\n"
     ]
    },
    {
     "name": "stderr",
     "output_type": "stream",
     "text": [
      " 82%|██████████████████████████████████████████████████████████████▍             | 380/463 [7:01:47<1:01:39, 44.57s/it]"
     ]
    },
    {
     "name": "stdout",
     "output_type": "stream",
     "text": [
      "1/1 [==============================] - 0s 31ms/step\n",
      "30269/30269 [==============================] - 29s 969us/step\n"
     ]
    },
    {
     "name": "stderr",
     "output_type": "stream",
     "text": [
      " 82%|██████████████████████████████████████████████████████████████▌             | 381/463 [7:02:32<1:01:01, 44.65s/it]"
     ]
    },
    {
     "name": "stdout",
     "output_type": "stream",
     "text": [
      "1/1 [==============================] - 0s 31ms/step\n",
      "30269/30269 [==============================] - 29s 959us/step\n"
     ]
    },
    {
     "name": "stderr",
     "output_type": "stream",
     "text": [
      " 83%|██████████████████████████████████████████████████████████████▋             | 382/463 [7:03:16<1:00:11, 44.59s/it]"
     ]
    },
    {
     "name": "stdout",
     "output_type": "stream",
     "text": [
      "1/1 [==============================] - 0s 32ms/step\n",
      "30269/30269 [==============================] - 29s 961us/step\n"
     ]
    },
    {
     "name": "stderr",
     "output_type": "stream",
     "text": [
      " 83%|████████████████████████████████████████████████████████████████▌             | 383/463 [7:04:01<59:33, 44.67s/it]"
     ]
    },
    {
     "name": "stdout",
     "output_type": "stream",
     "text": [
      "1/1 [==============================] - 0s 16ms/step\n",
      "30269/30269 [==============================] - 29s 968us/step\n"
     ]
    },
    {
     "name": "stderr",
     "output_type": "stream",
     "text": [
      " 83%|████████████████████████████████████████████████████████████████▋             | 384/463 [7:04:46<58:49, 44.68s/it]"
     ]
    },
    {
     "name": "stdout",
     "output_type": "stream",
     "text": [
      "1/1 [==============================] - 0s 16ms/step\n",
      "30269/30269 [==============================] - 29s 955us/step\n"
     ]
    },
    {
     "name": "stderr",
     "output_type": "stream",
     "text": [
      " 83%|████████████████████████████████████████████████████████████████▊             | 385/463 [7:05:30<58:01, 44.64s/it]"
     ]
    },
    {
     "name": "stdout",
     "output_type": "stream",
     "text": [
      "1/1 [==============================] - 0s 16ms/step\n",
      "30269/30269 [==============================] - 29s 961us/step\n"
     ]
    },
    {
     "name": "stderr",
     "output_type": "stream",
     "text": [
      " 83%|█████████████████████████████████████████████████████████████████             | 386/463 [7:06:15<57:16, 44.63s/it]"
     ]
    },
    {
     "name": "stdout",
     "output_type": "stream",
     "text": [
      "1/1 [==============================] - 0s 16ms/step\n",
      "30269/30269 [==============================] - 29s 961us/step\n"
     ]
    },
    {
     "name": "stderr",
     "output_type": "stream",
     "text": [
      " 84%|█████████████████████████████████████████████████████████████████▏            | 387/463 [7:06:59<56:26, 44.55s/it]"
     ]
    },
    {
     "name": "stdout",
     "output_type": "stream",
     "text": [
      "1/1 [==============================] - 0s 16ms/step\n",
      "30269/30269 [==============================] - 29s 966us/step\n"
     ]
    },
    {
     "name": "stderr",
     "output_type": "stream",
     "text": [
      " 84%|█████████████████████████████████████████████████████████████████▎            | 388/463 [7:07:44<55:46, 44.61s/it]"
     ]
    },
    {
     "name": "stdout",
     "output_type": "stream",
     "text": [
      "1/1 [==============================] - 0s 32ms/step\n",
      "30269/30269 [==============================] - 29s 962us/step\n"
     ]
    },
    {
     "name": "stderr",
     "output_type": "stream",
     "text": [
      " 84%|█████████████████████████████████████████████████████████████████▌            | 389/463 [7:08:28<54:58, 44.57s/it]"
     ]
    },
    {
     "name": "stdout",
     "output_type": "stream",
     "text": [
      "1/1 [==============================] - 0s 16ms/step\n",
      "30269/30269 [==============================] - 29s 968us/step\n"
     ]
    },
    {
     "name": "stderr",
     "output_type": "stream",
     "text": [
      " 84%|█████████████████████████████████████████████████████████████████▋            | 390/463 [7:09:13<54:22, 44.69s/it]"
     ]
    },
    {
     "name": "stdout",
     "output_type": "stream",
     "text": [
      "1/1 [==============================] - 0s 16ms/step\n",
      "30269/30269 [==============================] - 29s 966us/step\n"
     ]
    },
    {
     "name": "stderr",
     "output_type": "stream",
     "text": [
      " 84%|█████████████████████████████████████████████████████████████████▊            | 391/463 [7:09:58<53:38, 44.70s/it]"
     ]
    },
    {
     "name": "stdout",
     "output_type": "stream",
     "text": [
      "1/1 [==============================] - 0s 16ms/step\n",
      "30269/30269 [==============================] - 29s 954us/step\n"
     ]
    },
    {
     "name": "stderr",
     "output_type": "stream",
     "text": [
      " 85%|██████████████████████████████████████████████████████████████████            | 392/463 [7:10:43<52:50, 44.65s/it]"
     ]
    },
    {
     "name": "stdout",
     "output_type": "stream",
     "text": [
      "1/1 [==============================] - 0s 31ms/step\n",
      "30269/30269 [==============================] - 30s 996us/step\n"
     ]
    },
    {
     "name": "stderr",
     "output_type": "stream",
     "text": [
      " 85%|██████████████████████████████████████████████████████████████████▏           | 393/463 [7:11:28<52:28, 44.97s/it]"
     ]
    },
    {
     "name": "stdout",
     "output_type": "stream",
     "text": [
      "1/1 [==============================] - 0s 31ms/step\n",
      "30269/30269 [==============================] - 34s 1ms/step\n"
     ]
    },
    {
     "name": "stderr",
     "output_type": "stream",
     "text": [
      " 85%|██████████████████████████████████████████████████████████████████▍           | 394/463 [7:12:19<53:43, 46.72s/it]"
     ]
    },
    {
     "name": "stdout",
     "output_type": "stream",
     "text": [
      "1/1 [==============================] - 0s 19ms/step\n",
      "30269/30269 [==============================] - 32s 1ms/step\n"
     ]
    },
    {
     "name": "stderr",
     "output_type": "stream",
     "text": [
      " 85%|██████████████████████████████████████████████████████████████████▌           | 395/463 [7:13:06<53:08, 46.89s/it]"
     ]
    },
    {
     "name": "stdout",
     "output_type": "stream",
     "text": [
      "1/1 [==============================] - 0s 16ms/step\n",
      "30269/30269 [==============================] - 29s 961us/step\n"
     ]
    },
    {
     "name": "stderr",
     "output_type": "stream",
     "text": [
      " 86%|██████████████████████████████████████████████████████████████████▋           | 396/463 [7:13:51<51:35, 46.20s/it]"
     ]
    },
    {
     "name": "stdout",
     "output_type": "stream",
     "text": [
      "1/1 [==============================] - 0s 31ms/step\n",
      "30269/30269 [==============================] - 29s 970us/step\n"
     ]
    },
    {
     "name": "stderr",
     "output_type": "stream",
     "text": [
      " 86%|██████████████████████████████████████████████████████████████████▉           | 397/463 [7:14:36<50:24, 45.83s/it]"
     ]
    },
    {
     "name": "stdout",
     "output_type": "stream",
     "text": [
      "1/1 [==============================] - 0s 16ms/step\n",
      "30269/30269 [==============================] - 29s 958us/step\n"
     ]
    },
    {
     "name": "stderr",
     "output_type": "stream",
     "text": [
      " 86%|███████████████████████████████████████████████████████████████████           | 398/463 [7:15:20<49:11, 45.41s/it]"
     ]
    },
    {
     "name": "stdout",
     "output_type": "stream",
     "text": [
      "1/1 [==============================] - 0s 16ms/step\n",
      "30269/30269 [==============================] - 30s 978us/step\n"
     ]
    },
    {
     "name": "stderr",
     "output_type": "stream",
     "text": [
      " 86%|███████████████████████████████████████████████████████████████████▏          | 399/463 [7:16:05<48:19, 45.30s/it]"
     ]
    },
    {
     "name": "stdout",
     "output_type": "stream",
     "text": [
      "1/1 [==============================] - 0s 16ms/step\n",
      "30269/30269 [==============================] - 29s 970us/step\n"
     ]
    },
    {
     "name": "stderr",
     "output_type": "stream",
     "text": [
      " 86%|███████████████████████████████████████████████████████████████████▍          | 400/463 [7:16:50<47:23, 45.14s/it]"
     ]
    },
    {
     "name": "stdout",
     "output_type": "stream",
     "text": [
      "1/1 [==============================] - 0s 16ms/step\n",
      "30269/30269 [==============================] - 29s 961us/step\n"
     ]
    },
    {
     "name": "stderr",
     "output_type": "stream",
     "text": [
      " 87%|███████████████████████████████████████████████████████████████████▌          | 401/463 [7:17:35<46:31, 45.02s/it]"
     ]
    },
    {
     "name": "stdout",
     "output_type": "stream",
     "text": [
      "1/1 [==============================] - 0s 16ms/step\n",
      "30269/30269 [==============================] - 29s 958us/step\n"
     ]
    },
    {
     "name": "stderr",
     "output_type": "stream",
     "text": [
      " 87%|███████████████████████████████████████████████████████████████████▋          | 402/463 [7:18:19<45:36, 44.87s/it]"
     ]
    },
    {
     "name": "stdout",
     "output_type": "stream",
     "text": [
      "1/1 [==============================] - 0s 31ms/step\n",
      "30269/30269 [==============================] - 30s 979us/step\n"
     ]
    },
    {
     "name": "stderr",
     "output_type": "stream",
     "text": [
      " 87%|███████████████████████████████████████████████████████████████████▉          | 403/463 [7:19:05<45:00, 45.00s/it]"
     ]
    },
    {
     "name": "stdout",
     "output_type": "stream",
     "text": [
      "1/1 [==============================] - 0s 16ms/step\n",
      "30269/30269 [==============================] - 29s 958us/step\n"
     ]
    },
    {
     "name": "stderr",
     "output_type": "stream",
     "text": [
      " 87%|████████████████████████████████████████████████████████████████████          | 404/463 [7:19:49<44:06, 44.86s/it]"
     ]
    },
    {
     "name": "stdout",
     "output_type": "stream",
     "text": [
      "1/1 [==============================] - 0s 16ms/step\n",
      "30269/30269 [==============================] - 29s 968us/step\n"
     ]
    },
    {
     "name": "stderr",
     "output_type": "stream",
     "text": [
      " 87%|████████████████████████████████████████████████████████████████████▏         | 405/463 [7:20:34<43:20, 44.84s/it]"
     ]
    },
    {
     "name": "stdout",
     "output_type": "stream",
     "text": [
      "1/1 [==============================] - 0s 16ms/step\n",
      "30269/30269 [==============================] - 29s 968us/step\n"
     ]
    },
    {
     "name": "stderr",
     "output_type": "stream",
     "text": [
      " 88%|████████████████████████████████████████████████████████████████████▍         | 406/463 [7:21:19<42:39, 44.91s/it]"
     ]
    },
    {
     "name": "stdout",
     "output_type": "stream",
     "text": [
      "1/1 [==============================] - 0s 31ms/step\n",
      "30269/30269 [==============================] - 29s 970us/step\n"
     ]
    },
    {
     "name": "stderr",
     "output_type": "stream",
     "text": [
      " 88%|████████████████████████████████████████████████████████████████████▌         | 407/463 [7:22:04<41:54, 44.90s/it]"
     ]
    },
    {
     "name": "stdout",
     "output_type": "stream",
     "text": [
      "1/1 [==============================] - 0s 31ms/step\n",
      "30269/30269 [==============================] - 29s 967us/step\n"
     ]
    },
    {
     "name": "stderr",
     "output_type": "stream",
     "text": [
      " 88%|████████████████████████████████████████████████████████████████████▋         | 408/463 [7:22:49<41:11, 44.94s/it]"
     ]
    },
    {
     "name": "stdout",
     "output_type": "stream",
     "text": [
      "1/1 [==============================] - 0s 16ms/step\n",
      "30269/30269 [==============================] - 30s 973us/step\n"
     ]
    },
    {
     "name": "stderr",
     "output_type": "stream",
     "text": [
      " 88%|████████████████████████████████████████████████████████████████████▉         | 409/463 [7:23:34<40:27, 44.95s/it]"
     ]
    },
    {
     "name": "stdout",
     "output_type": "stream",
     "text": [
      "1/1 [==============================] - 0s 16ms/step\n",
      "30269/30269 [==============================] - 29s 964us/step\n"
     ]
    },
    {
     "name": "stderr",
     "output_type": "stream",
     "text": [
      " 89%|█████████████████████████████████████████████████████████████████████         | 410/463 [7:24:19<39:42, 44.94s/it]"
     ]
    },
    {
     "name": "stdout",
     "output_type": "stream",
     "text": [
      "1/1 [==============================] - 0s 31ms/step\n",
      "30269/30269 [==============================] - 29s 957us/step\n"
     ]
    },
    {
     "name": "stderr",
     "output_type": "stream",
     "text": [
      " 89%|█████████████████████████████████████████████████████████████████████▏        | 411/463 [7:25:03<38:49, 44.79s/it]"
     ]
    },
    {
     "name": "stdout",
     "output_type": "stream",
     "text": [
      "1/1 [==============================] - 0s 31ms/step\n",
      "30269/30269 [==============================] - 29s 971us/step\n"
     ]
    },
    {
     "name": "stderr",
     "output_type": "stream",
     "text": [
      " 89%|█████████████████████████████████████████████████████████████████████▍        | 412/463 [7:25:48<38:07, 44.85s/it]"
     ]
    },
    {
     "name": "stdout",
     "output_type": "stream",
     "text": [
      "1/1 [==============================] - 0s 16ms/step\n",
      "30269/30269 [==============================] - 29s 973us/step\n"
     ]
    },
    {
     "name": "stderr",
     "output_type": "stream",
     "text": [
      " 89%|█████████████████████████████████████████████████████████████████████▌        | 413/463 [7:26:33<37:22, 44.86s/it]"
     ]
    },
    {
     "name": "stdout",
     "output_type": "stream",
     "text": [
      "1/1 [==============================] - 0s 31ms/step\n",
      "30269/30269 [==============================] - 29s 967us/step\n"
     ]
    },
    {
     "name": "stderr",
     "output_type": "stream",
     "text": [
      " 89%|█████████████████████████████████████████████████████████████████████▋        | 414/463 [7:27:18<36:37, 44.85s/it]"
     ]
    },
    {
     "name": "stdout",
     "output_type": "stream",
     "text": [
      "1/1 [==============================] - 0s 16ms/step\n",
      "30269/30269 [==============================] - 30s 982us/step\n"
     ]
    },
    {
     "name": "stderr",
     "output_type": "stream",
     "text": [
      " 90%|█████████████████████████████████████████████████████████████████████▉        | 415/463 [7:28:03<35:58, 44.97s/it]"
     ]
    },
    {
     "name": "stdout",
     "output_type": "stream",
     "text": [
      "1/1 [==============================] - 0s 16ms/step\n",
      "30269/30269 [==============================] - 29s 963us/step\n"
     ]
    },
    {
     "name": "stderr",
     "output_type": "stream",
     "text": [
      " 90%|██████████████████████████████████████████████████████████████████████        | 416/463 [7:28:48<35:10, 44.89s/it]"
     ]
    },
    {
     "name": "stdout",
     "output_type": "stream",
     "text": [
      "1/1 [==============================] - 0s 16ms/step\n",
      "30269/30269 [==============================] - 29s 964us/step\n"
     ]
    },
    {
     "name": "stderr",
     "output_type": "stream",
     "text": [
      " 90%|██████████████████████████████████████████████████████████████████████▎       | 417/463 [7:29:33<34:25, 44.90s/it]"
     ]
    },
    {
     "name": "stdout",
     "output_type": "stream",
     "text": [
      "1/1 [==============================] - 0s 34ms/step\n",
      "30269/30269 [==============================] - 29s 959us/step\n"
     ]
    },
    {
     "name": "stderr",
     "output_type": "stream",
     "text": [
      " 90%|██████████████████████████████████████████████████████████████████████▍       | 418/463 [7:30:17<33:35, 44.79s/it]"
     ]
    },
    {
     "name": "stdout",
     "output_type": "stream",
     "text": [
      "1/1 [==============================] - 0s 15ms/step\n",
      "30269/30269 [==============================] - 29s 959us/step\n"
     ]
    },
    {
     "name": "stderr",
     "output_type": "stream",
     "text": [
      " 90%|██████████████████████████████████████████████████████████████████████▌       | 419/463 [7:31:02<32:50, 44.78s/it]"
     ]
    },
    {
     "name": "stdout",
     "output_type": "stream",
     "text": [
      "1/1 [==============================] - 0s 16ms/step\n",
      "30269/30269 [==============================] - 29s 969us/step\n"
     ]
    },
    {
     "name": "stderr",
     "output_type": "stream",
     "text": [
      " 91%|██████████████████████████████████████████████████████████████████████▊       | 420/463 [7:31:47<32:06, 44.81s/it]"
     ]
    },
    {
     "name": "stdout",
     "output_type": "stream",
     "text": [
      "1/1 [==============================] - 0s 31ms/step\n",
      "30269/30269 [==============================] - 29s 966us/step\n"
     ]
    },
    {
     "name": "stderr",
     "output_type": "stream",
     "text": [
      " 91%|██████████████████████████████████████████████████████████████████████▉       | 421/463 [7:32:32<31:20, 44.77s/it]"
     ]
    },
    {
     "name": "stdout",
     "output_type": "stream",
     "text": [
      "1/1 [==============================] - 0s 16ms/step\n",
      "30269/30269 [==============================] - 30s 977us/step\n"
     ]
    },
    {
     "name": "stderr",
     "output_type": "stream",
     "text": [
      " 91%|███████████████████████████████████████████████████████████████████████       | 422/463 [7:33:17<30:40, 44.88s/it]"
     ]
    },
    {
     "name": "stdout",
     "output_type": "stream",
     "text": [
      "1/1 [==============================] - 0s 16ms/step\n",
      "30269/30269 [==============================] - 29s 971us/step\n"
     ]
    },
    {
     "name": "stderr",
     "output_type": "stream",
     "text": [
      " 91%|███████████████████████████████████████████████████████████████████████▎      | 423/463 [7:34:02<29:57, 44.94s/it]"
     ]
    },
    {
     "name": "stdout",
     "output_type": "stream",
     "text": [
      "1/1 [==============================] - 0s 16ms/step\n",
      "30269/30269 [==============================] - 29s 973us/step\n"
     ]
    },
    {
     "name": "stderr",
     "output_type": "stream",
     "text": [
      " 92%|███████████████████████████████████████████████████████████████████████▍      | 424/463 [7:34:47<29:13, 44.97s/it]"
     ]
    },
    {
     "name": "stdout",
     "output_type": "stream",
     "text": [
      "1/1 [==============================] - 0s 16ms/step\n",
      "30269/30269 [==============================] - 30s 975us/step\n"
     ]
    },
    {
     "name": "stderr",
     "output_type": "stream",
     "text": [
      " 92%|███████████████████████████████████████████████████████████████████████▌      | 425/463 [7:35:32<28:28, 44.96s/it]"
     ]
    },
    {
     "name": "stdout",
     "output_type": "stream",
     "text": [
      "1/1 [==============================] - 0s 16ms/step\n",
      "30269/30269 [==============================] - 30s 976us/step\n"
     ]
    },
    {
     "name": "stderr",
     "output_type": "stream",
     "text": [
      " 92%|███████████████████████████████████████████████████████████████████████▊      | 426/463 [7:36:17<27:46, 45.03s/it]"
     ]
    },
    {
     "name": "stdout",
     "output_type": "stream",
     "text": [
      "1/1 [==============================] - 0s 16ms/step\n",
      "30269/30269 [==============================] - 30s 982us/step\n"
     ]
    },
    {
     "name": "stderr",
     "output_type": "stream",
     "text": [
      " 92%|███████████████████████████████████████████████████████████████████████▉      | 427/463 [7:37:02<27:02, 45.06s/it]"
     ]
    },
    {
     "name": "stdout",
     "output_type": "stream",
     "text": [
      "1/1 [==============================] - 0s 31ms/step\n",
      "30269/30269 [==============================] - 29s 962us/step\n"
     ]
    },
    {
     "name": "stderr",
     "output_type": "stream",
     "text": [
      " 92%|████████████████████████████████████████████████████████████████████████      | 428/463 [7:37:48<26:24, 45.28s/it]"
     ]
    },
    {
     "name": "stdout",
     "output_type": "stream",
     "text": [
      "1/1 [==============================] - 0s 16ms/step\n",
      "30269/30269 [==============================] - 30s 994us/step\n"
     ]
    },
    {
     "name": "stderr",
     "output_type": "stream",
     "text": [
      " 93%|████████████████████████████████████████████████████████████████████████▎     | 429/463 [7:38:34<25:42, 45.37s/it]"
     ]
    },
    {
     "name": "stdout",
     "output_type": "stream",
     "text": [
      "1/1 [==============================] - 0s 31ms/step\n",
      "30269/30269 [==============================] - 30s 1ms/step\n"
     ]
    },
    {
     "name": "stderr",
     "output_type": "stream",
     "text": [
      " 93%|████████████████████████████████████████████████████████████████████████▍     | 430/463 [7:39:20<25:05, 45.62s/it]"
     ]
    },
    {
     "name": "stdout",
     "output_type": "stream",
     "text": [
      "1/1 [==============================] - 0s 16ms/step\n",
      "30269/30269 [==============================] - 30s 996us/step\n"
     ]
    },
    {
     "name": "stderr",
     "output_type": "stream",
     "text": [
      " 93%|████████████████████████████████████████████████████████████████████████▌     | 431/463 [7:40:06<24:22, 45.70s/it]"
     ]
    },
    {
     "name": "stdout",
     "output_type": "stream",
     "text": [
      "1/1 [==============================] - 0s 16ms/step\n",
      "30269/30269 [==============================] - 30s 983us/step\n"
     ]
    },
    {
     "name": "stderr",
     "output_type": "stream",
     "text": [
      " 93%|████████████████████████████████████████████████████████████████████████▊     | 432/463 [7:40:51<23:35, 45.66s/it]"
     ]
    },
    {
     "name": "stdout",
     "output_type": "stream",
     "text": [
      "1/1 [==============================] - 0s 16ms/step\n",
      "30269/30269 [==============================] - 31s 1ms/step\n"
     ]
    },
    {
     "name": "stderr",
     "output_type": "stream",
     "text": [
      " 94%|████████████████████████████████████████████████████████████████████████▉     | 433/463 [7:41:38<22:56, 45.88s/it]"
     ]
    },
    {
     "name": "stdout",
     "output_type": "stream",
     "text": [
      "1/1 [==============================] - 0s 31ms/step\n",
      "30269/30269 [==============================] - 30s 991us/step\n"
     ]
    },
    {
     "name": "stderr",
     "output_type": "stream",
     "text": [
      " 94%|█████████████████████████████████████████████████████████████████████████     | 434/463 [7:42:23<22:09, 45.84s/it]"
     ]
    },
    {
     "name": "stdout",
     "output_type": "stream",
     "text": [
      "1/1 [==============================] - 0s 16ms/step\n",
      "30269/30269 [==============================] - 30s 984us/step\n"
     ]
    },
    {
     "name": "stderr",
     "output_type": "stream",
     "text": [
      " 94%|█████████████████████████████████████████████████████████████████████████▎    | 435/463 [7:43:09<21:19, 45.70s/it]"
     ]
    },
    {
     "name": "stdout",
     "output_type": "stream",
     "text": [
      "1/1 [==============================] - 0s 31ms/step\n",
      "30269/30269 [==============================] - 30s 978us/step\n"
     ]
    },
    {
     "name": "stderr",
     "output_type": "stream",
     "text": [
      " 94%|█████████████████████████████████████████████████████████████████████████▍    | 436/463 [7:43:54<20:30, 45.57s/it]"
     ]
    },
    {
     "name": "stdout",
     "output_type": "stream",
     "text": [
      "1/1 [==============================] - 0s 31ms/step\n",
      "30269/30269 [==============================] - 30s 988us/step\n"
     ]
    },
    {
     "name": "stderr",
     "output_type": "stream",
     "text": [
      " 94%|█████████████████████████████████████████████████████████████████████████▌    | 437/463 [7:44:40<19:46, 45.64s/it]"
     ]
    },
    {
     "name": "stdout",
     "output_type": "stream",
     "text": [
      "1/1 [==============================] - 0s 16ms/step\n",
      "30269/30269 [==============================] - 30s 982us/step\n"
     ]
    },
    {
     "name": "stderr",
     "output_type": "stream",
     "text": [
      " 95%|█████████████████████████████████████████████████████████████████████████▊    | 438/463 [7:45:26<19:00, 45.64s/it]"
     ]
    },
    {
     "name": "stdout",
     "output_type": "stream",
     "text": [
      "1/1 [==============================] - 0s 16ms/step\n",
      "30269/30269 [==============================] - 34s 1ms/step\n"
     ]
    },
    {
     "name": "stderr",
     "output_type": "stream",
     "text": [
      " 95%|█████████████████████████████████████████████████████████████████████████▉    | 439/463 [7:46:15<18:46, 46.92s/it]"
     ]
    },
    {
     "name": "stdout",
     "output_type": "stream",
     "text": [
      "1/1 [==============================] - 0s 16ms/step\n",
      "30269/30269 [==============================] - 30s 1ms/step\n"
     ]
    },
    {
     "name": "stderr",
     "output_type": "stream",
     "text": [
      " 95%|██████████████████████████████████████████████████████████████████████████▏   | 440/463 [7:47:02<17:54, 46.71s/it]"
     ]
    },
    {
     "name": "stdout",
     "output_type": "stream",
     "text": [
      "1/1 [==============================] - 0s 16ms/step\n",
      "30269/30269 [==============================] - 30s 989us/step\n"
     ]
    },
    {
     "name": "stderr",
     "output_type": "stream",
     "text": [
      " 95%|██████████████████████████████████████████████████████████████████████████▎   | 441/463 [7:47:47<16:59, 46.32s/it]"
     ]
    },
    {
     "name": "stdout",
     "output_type": "stream",
     "text": [
      "1/1 [==============================] - 0s 16ms/step\n",
      "30269/30269 [==============================] - 30s 973us/step\n"
     ]
    },
    {
     "name": "stderr",
     "output_type": "stream",
     "text": [
      " 95%|██████████████████████████████████████████████████████████████████████████▍   | 442/463 [7:48:32<16:03, 45.90s/it]"
     ]
    },
    {
     "name": "stdout",
     "output_type": "stream",
     "text": [
      "1/1 [==============================] - 0s 31ms/step\n",
      "30269/30269 [==============================] - 30s 996us/step\n"
     ]
    },
    {
     "name": "stderr",
     "output_type": "stream",
     "text": [
      " 96%|██████████████████████████████████████████████████████████████████████████▋   | 443/463 [7:49:18<15:18, 45.91s/it]"
     ]
    },
    {
     "name": "stdout",
     "output_type": "stream",
     "text": [
      "1/1 [==============================] - 0s 23ms/step\n",
      "30269/30269 [==============================] - 30s 993us/step\n"
     ]
    },
    {
     "name": "stderr",
     "output_type": "stream",
     "text": [
      " 96%|██████████████████████████████████████████████████████████████████████████▊   | 444/463 [7:50:04<14:30, 45.80s/it]"
     ]
    },
    {
     "name": "stdout",
     "output_type": "stream",
     "text": [
      "1/1 [==============================] - 0s 16ms/step\n",
      "30269/30269 [==============================] - 29s 972us/step\n"
     ]
    },
    {
     "name": "stderr",
     "output_type": "stream",
     "text": [
      " 96%|██████████████████████████████████████████████████████████████████████████▉   | 445/463 [7:50:48<13:39, 45.54s/it]"
     ]
    },
    {
     "name": "stdout",
     "output_type": "stream",
     "text": [
      "1/1 [==============================] - 0s 16ms/step\n",
      "30269/30269 [==============================] - 30s 985us/step\n"
     ]
    },
    {
     "name": "stderr",
     "output_type": "stream",
     "text": [
      " 96%|███████████████████████████████████████████████████████████████████████████▏  | 446/463 [7:51:34<12:54, 45.55s/it]"
     ]
    },
    {
     "name": "stdout",
     "output_type": "stream",
     "text": [
      "1/1 [==============================] - 0s 16ms/step\n",
      "30269/30269 [==============================] - 30s 984us/step\n"
     ]
    },
    {
     "name": "stderr",
     "output_type": "stream",
     "text": [
      " 97%|███████████████████████████████████████████████████████████████████████████▎  | 447/463 [7:52:19<12:07, 45.47s/it]"
     ]
    },
    {
     "name": "stdout",
     "output_type": "stream",
     "text": [
      "1/1 [==============================] - 0s 31ms/step\n",
      "30269/30269 [==============================] - 29s 970us/step\n"
     ]
    },
    {
     "name": "stderr",
     "output_type": "stream",
     "text": [
      " 97%|███████████████████████████████████████████████████████████████████████████▍  | 448/463 [7:53:04<11:20, 45.37s/it]"
     ]
    },
    {
     "name": "stdout",
     "output_type": "stream",
     "text": [
      "1/1 [==============================] - 0s 31ms/step\n",
      "30269/30269 [==============================] - 29s 969us/step\n"
     ]
    },
    {
     "name": "stderr",
     "output_type": "stream",
     "text": [
      " 97%|███████████████████████████████████████████████████████████████████████████▋  | 449/463 [7:53:49<10:33, 45.22s/it]"
     ]
    },
    {
     "name": "stdout",
     "output_type": "stream",
     "text": [
      "1/1 [==============================] - 0s 16ms/step\n",
      "30269/30269 [==============================] - 29s 972us/step\n"
     ]
    },
    {
     "name": "stderr",
     "output_type": "stream",
     "text": [
      " 97%|███████████████████████████████████████████████████████████████████████████▊  | 450/463 [7:54:34<09:46, 45.14s/it]"
     ]
    },
    {
     "name": "stdout",
     "output_type": "stream",
     "text": [
      "1/1 [==============================] - 0s 16ms/step\n",
      "30269/30269 [==============================] - 30s 977us/step\n"
     ]
    },
    {
     "name": "stderr",
     "output_type": "stream",
     "text": [
      " 97%|███████████████████████████████████████████████████████████████████████████▉  | 451/463 [7:55:19<09:01, 45.12s/it]"
     ]
    },
    {
     "name": "stdout",
     "output_type": "stream",
     "text": [
      "1/1 [==============================] - 0s 31ms/step\n",
      "30269/30269 [==============================] - 29s 969us/step\n"
     ]
    },
    {
     "name": "stderr",
     "output_type": "stream",
     "text": [
      " 98%|████████████████████████████████████████████████████████████████████████████▏ | 452/463 [7:56:04<08:15, 45.03s/it]"
     ]
    },
    {
     "name": "stdout",
     "output_type": "stream",
     "text": [
      "1/1 [==============================] - 0s 31ms/step\n",
      "30269/30269 [==============================] - 30s 981us/step\n"
     ]
    },
    {
     "name": "stderr",
     "output_type": "stream",
     "text": [
      " 98%|████████████████████████████████████████████████████████████████████████████▎ | 453/463 [7:56:49<07:30, 45.09s/it]"
     ]
    },
    {
     "name": "stdout",
     "output_type": "stream",
     "text": [
      "1/1 [==============================] - 0s 31ms/step\n",
      "30269/30269 [==============================] - 29s 968us/step\n"
     ]
    },
    {
     "name": "stderr",
     "output_type": "stream",
     "text": [
      " 98%|████████████████████████████████████████████████████████████████████████████▍ | 454/463 [7:57:34<06:45, 45.01s/it]"
     ]
    },
    {
     "name": "stdout",
     "output_type": "stream",
     "text": [
      "1/1 [==============================] - 0s 17ms/step\n",
      "30269/30269 [==============================] - 30s 974us/step\n"
     ]
    },
    {
     "name": "stderr",
     "output_type": "stream",
     "text": [
      " 98%|████████████████████████████████████████████████████████████████████████████▋ | 455/463 [7:58:19<06:00, 45.06s/it]"
     ]
    },
    {
     "name": "stdout",
     "output_type": "stream",
     "text": [
      "1/1 [==============================] - 0s 31ms/step\n",
      "30269/30269 [==============================] - 30s 997us/step\n"
     ]
    },
    {
     "name": "stderr",
     "output_type": "stream",
     "text": [
      " 98%|████████████████████████████████████████████████████████████████████████████▊ | 456/463 [7:59:05<05:16, 45.23s/it]"
     ]
    },
    {
     "name": "stdout",
     "output_type": "stream",
     "text": [
      "1/1 [==============================] - 0s 31ms/step\n",
      "30269/30269 [==============================] - 30s 1000us/step\n"
     ]
    },
    {
     "name": "stderr",
     "output_type": "stream",
     "text": [
      " 99%|████████████████████████████████████████████████████████████████████████████▉ | 457/463 [7:59:51<04:31, 45.33s/it]"
     ]
    },
    {
     "name": "stdout",
     "output_type": "stream",
     "text": [
      "1/1 [==============================] - 0s 16ms/step\n",
      "30269/30269 [==============================] - 31s 1ms/step\n"
     ]
    },
    {
     "name": "stderr",
     "output_type": "stream",
     "text": [
      " 99%|█████████████████████████████████████████████████████████████████████████████▏| 458/463 [8:00:37<03:48, 45.65s/it]"
     ]
    },
    {
     "name": "stdout",
     "output_type": "stream",
     "text": [
      "1/1 [==============================] - 0s 16ms/step\n",
      "30269/30269 [==============================] - 35s 1ms/step\n"
     ]
    },
    {
     "name": "stderr",
     "output_type": "stream",
     "text": [
      " 99%|█████████████████████████████████████████████████████████████████████████████▎| 459/463 [8:01:27<03:07, 46.91s/it]"
     ]
    },
    {
     "name": "stdout",
     "output_type": "stream",
     "text": [
      "1/1 [==============================] - 0s 16ms/step\n",
      "30269/30269 [==============================] - 35s 1ms/step\n"
     ]
    },
    {
     "name": "stderr",
     "output_type": "stream",
     "text": [
      " 99%|█████████████████████████████████████████████████████████████████████████████▍| 460/463 [8:02:17<02:23, 47.94s/it]"
     ]
    },
    {
     "name": "stdout",
     "output_type": "stream",
     "text": [
      "1/1 [==============================] - 0s 16ms/step\n",
      "30269/30269 [==============================] - 34s 1ms/step\n"
     ]
    },
    {
     "name": "stderr",
     "output_type": "stream",
     "text": [
      "100%|█████████████████████████████████████████████████████████████████████████████▋| 461/463 [8:03:07<01:37, 48.52s/it]"
     ]
    },
    {
     "name": "stdout",
     "output_type": "stream",
     "text": [
      "1/1 [==============================] - 0s 31ms/step\n",
      "30269/30269 [==============================] - 34s 1ms/step\n"
     ]
    },
    {
     "name": "stderr",
     "output_type": "stream",
     "text": [
      "100%|█████████████████████████████████████████████████████████████████████████████▊| 462/463 [8:03:59<00:49, 49.62s/it]"
     ]
    },
    {
     "name": "stdout",
     "output_type": "stream",
     "text": [
      "1/1 [==============================] - 0s 27ms/step\n",
      "30269/30269 [==============================] - 44s 1ms/step\n"
     ]
    },
    {
     "name": "stderr",
     "output_type": "stream",
     "text": [
      "100%|██████████████████████████████████████████████████████████████████████████████| 463/463 [8:05:00<00:00, 62.85s/it]\n"
     ]
    },
    {
     "data": {
      "image/png": "[encoded data removed]",
      "text/plain": [
       "<Figure size 800x1030 with 2 Axes>"
      ]
     },
     "metadata": {},
     "output_type": "display_data"
    }
   ],
   "source": [
    "from keras import models\n",
    "from models.fit import shap_explain\n",
    "from models.data import *\n",
    "\n",
    "\n",
    "d = load_data('data2')\n",
    "#loaded_model = models.load_model(root + \"models\\\\saved_models\\\\2per(1824) acc0.758 data1.keras\")\n",
    "shap_explain(d, get_names(fs), model.predict, 'model2')"
   ]
  }
 ],
 "metadata": {
  "kernelspec": {
   "display_name": "Python 3 (ipykernel)",
   "language": "python",
   "name": "python3"
  },
  "language_info": {
   "codemirror_mode": {
    "name": "ipython",
    "version": 3
   },
   "file_extension": ".py",
   "mimetype": "text/x-python",
   "name": "python",
   "nbconvert_exporter": "python",
   "pygments_lexer": "ipython3",
   "version": "3.11.2"
  }
 },
 "nbformat": 4,
 "nbformat_minor": 5
}
