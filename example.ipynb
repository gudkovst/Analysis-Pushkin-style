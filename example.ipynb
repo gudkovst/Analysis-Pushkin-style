{
 "cells": [
  {
   "cell_type": "code",
   "execution_count": 1,
   "id": "a43d082e-9537-473c-b98b-62e5a83a33a5",
   "metadata": {
    "tags": []
   },
   "outputs": [
    {
     "name": "stdout",
     "output_type": "stream",
     "text": [
      "[0.1004481418852913, 0.03561643835616438, 0.03561643835616438, 0.18904109589041096, 0.292722602739726, 0.13]\n",
      "{'и': 4, 'в': 4, 'я': 4, 'не': 4, 'с': 4, 'ты': 4, 'на': 4, 'он': 4, 'мой': 4, 'но': 4, 'что': 4, 'быть': 4, 'она': 4, 'друг': 2, 'как': 4, 'к': 4, 'любовь': 2, 'о': 2, 'за': 4, 'свой': 4, 'вы': 4, 'твой': 3, 'мы': 4, 'же': 4, 'где': 2, 'день': 2, 'они': 3, 'то': 3, 'а': 2, 'да': 2, 'так': 2, 'весь': 2, 'нет': 2}\n",
      "33\n",
      "{'ный': 4, 'ост': 4, 'ной': 4, 'енн': 4, 'ень': 4, 'ста': 4, 'ест': 4, 'стр': 4, 'аст': 4, 'сто': 4, 'дру': 3, 'сти': 4, 'нны': 3, 'рас': 3, 'при': 4, 'пре': 3, 'про': 4, 'ого': 4, 'оро': 4, 'нов': 3, 'под': 3, 'али': 4, 'тво': 4, 'вет': 3, 'нес': 3, 'мне': 4, 'его': 3, 'как': 3, 'раз': 3, 'мен': 3, 'ово': 3, 'ать': 3}\n",
      "6\n",
      "['rank', 'words/я', 'words/ты', 'parts/VERB', 'len_words', 'homogeneity']\n"
     ]
    }
   ],
   "source": [
    "from main_extractor import *\n",
    "from utils.text_feature import *\n",
    "from utils.dict_lib import *\n",
    "\n",
    "fs = [TextFeature(\"rank\", \"mean_key\"), TextFeature(\"words\", \"select_keys_proportion\", args=(\"я\", \"ты\")), \n",
    "      TextFeature(\"parts\", \"select_keys_proportion\", args=(\"VERB\",)), TextFeature(\"len_words\", \"mean_key\", args=(16,)),\n",
    "      TextFeature(\"homogeneity\", \"mean_key\", args=(100,))]\n",
    "\n",
    "d = text2fеatures(\"1813\\\\3\", fs)\n",
    "print(d)\n",
    "\n",
    "d = important_feature(\"words\", n_top=30, rang=(2, 5))\n",
    "print(d)\n",
    "\n",
    "print(count_features(fs))\n",
    "print(get_names(fs))"
   ]
  },
  {
   "cell_type": "code",
   "execution_count": 1,
   "id": "bde6ee7c-a997-41bd-b6e9-e28fb23ff53a",
   "metadata": {
    "tags": []
   },
   "outputs": [
    {
     "name": "stdout",
     "output_type": "stream",
     "text": [
      "23\n",
      "709\n"
     ]
    }
   ],
   "source": [
    "from models.data import *\n",
    "from periods import *\n",
    "\n",
    "fs = [TextFeature(\"homogeneity\", \"mean_key\", args=(100,)), \n",
    "      TextFeature(\"rank\", \"mean_key\"),\n",
    "      TextFeature(\"len_words\", \"mean_key\", args=(25,)),\n",
    "      TextFeature(\"count_puncts_in_sentence\", \"mean_key\", args=(25,)),\n",
    "      TextFeature(\"count_words_in_sentence\", \"mean_key\", args=(100,)),\n",
    "      TextFeature(\"words\", \"select_keys_proportion\", args=(\"я\", \"что\")),\n",
    "      TextFeature(\"puncts\", \"select_keys_proportion\", args=(\"!\",)),\n",
    "      TextFeature(\"parts\", \"select_keys_proportion\", args=(\"ADJ\", \"PRON\", \"PART\")), \n",
    "      TextFeature(\"rels\", \"select_keys_proportion\", args=(\"conj\", \"advmod\", \"amod\", \"case\", \"obl\", \"obj\", \"nmod\")),\n",
    "      TextFeature(\"n_grams_letter\", \"select_keys_proportion\", args=(\"ный\", \"ста\", \"его\", \"ень\", \"что\"))]\n",
    "print(count_features(fs))\n",
    "\n",
    "per1 = periods[-1]\n",
    "per2 = sum(periods[:-1], [])\n",
    "pers = [per1, per2]\n",
    "\n",
    "data = get_data(pers, fs, train_part=0.8, val_part=0.1, not_null_bord=14)\n",
    "print(data.size())"
   ]
  },
  {
   "cell_type": "code",
   "execution_count": null,
   "id": "fdbcd1bd-f752-43c2-858f-59003bb696aa",
   "metadata": {},
   "outputs": [],
   "source": [
    "from models.fit import fit\n",
    "from models.models import get_dense_model\n",
    "from utils.text_feature import count_features\n",
    "from models.data import *\n",
    "\n",
    "data = load_data('data4-1')\n",
    "epochs = 250\n",
    "model = get_dense_model(count_features(fs), [16, 12, 8, 4])\n",
    "model.summary()\n",
    "fit(model, data, epochs)"
   ]
  },
  {
   "cell_type": "code",
   "execution_count": 4,
   "id": "1ae56c4f-b6c2-4f15-9a8b-44a3d61019d8",
   "metadata": {
    "tags": []
   },
   "outputs": [],
   "source": [
    "from models.data import *\n",
    "\n",
    "data.save('data4-1')"
   ]
  },
  {
   "cell_type": "code",
   "execution_count": null,
   "id": "66b6e6dc-e3d6-4a3d-b6ab-ca11a3b6feb6",
   "metadata": {},
   "outputs": [],
   "source": [
    "model.save(root + \"models\\\\saved_models\\\\model4-1.keras\")"
   ]
  },
  {
   "cell_type": "code",
   "execution_count": null,
   "id": "d92c61cf-3944-4abf-b31e-ffe02ee652ae",
   "metadata": {},
   "outputs": [],
   "source": [
    "from keras import models\n",
    "from models.data import *\n",
    "from models.fit import show_metrics\n",
    "\n",
    "#data = load_data('data4-1')\n",
    "#loaded_model = models.load_model(root + \"models\\\\saved_models\\\\model4-1.keras\")\n",
    "loaded_model = model\n",
    "loaded_model.summary()\n",
    "predicts = loaded_model.predict(data.x_val+data.x_test)\n",
    "preds = [1 - p for p in predicts]\n",
    "labels = [1 - y for y in data.y_val+data.y_test]\n",
    "show_metrics(predicts, data.y_val+data.y_test)\n",
    "#show_metrics(preds, labels)"
   ]
  },
  {
   "cell_type": "code",
   "execution_count": null,
   "id": "ef0556b9-3582-49e2-9fec-c98b8471d169",
   "metadata": {},
   "outputs": [],
   "source": [
    "from keras import models\n",
    "from models.fit import shap_explain\n",
    "from models.data import *\n",
    "\n",
    "d = load_data('data4-1')\n",
    "loaded_model = models.load_model(root + \"models\\\\saved_models\\\\model4-1.keras\")\n",
    "loaded_model.summary()\n",
    "shap_explain(d, get_names(fs), loaded_model.predict, 'model4-1')"
   ]
  },
  {
   "cell_type": "code",
   "execution_count": null,
   "id": "e09c5039-7628-4837-8d38-65cc1caee578",
   "metadata": {},
   "outputs": [],
   "source": [
    "def parse(d: dict) -> str:\n",
    "    res = ''\n",
    "    for key in d:\n",
    "        if d[key] > 0:\n",
    "            res += f'[{key}]*{d[key]} + '\n",
    "    return res[:-3]"
   ]
  },
  {
   "cell_type": "code",
   "execution_count": null,
   "id": "850e301d-3f84-4c32-8ead-9958251c8eac",
   "metadata": {},
   "outputs": [],
   "source": [
    "from models.ensemble import *\n",
    "\n",
    "models = [\"model1\", \"model2\", \"model4\", \"model4-1\", \"model5\"]\n",
    "    \n",
    "ensemble_thresholds_test(models, 0)"
   ]
  },
  {
   "cell_type": "code",
   "execution_count": 6,
   "id": "913bf73e-b586-4617-b6a9-7ad1d9e9ba53",
   "metadata": {},
   "outputs": [
    {
     "name": "stdout",
     "output_type": "stream",
     "text": [
      "{'homogeneity': 5, 'rank': 5, 'parts/PRON': 5, 'rels/advmod': 5, 'rels/amod': 5, 'len_words': 4, 'count_words_in_sentence': 4, 'words/что': 4, 'puncts/!': 4, 'parts/ADJ': 4, 'rels/conj': 4, 'n_grams_letter/его': 4, 'count_puncts_in_sentence': 3, 'words/я': 3, 'rels/obl': 3, 'rels/nmod': 3, 'n_grams_letter/ста': 3, 'n_grams_letter/что': 3, 'words/любовь': 2, 'words/друг': 2, 'words/они': 2, 'parts/ADV': 2, 'n_grams_letter/енн': 2, 'n_grams_all_symb/ой ': 2, 'parts/PART': 2, 'rels/case': 2, 'rels/obj': 2, 'n_grams_letter/ный': 2, 'n_grams_letter/ень': 2, 'words/ты': 1, 'words/она': 1, 'parts/ADP': 1, 'n_grams_letter/ной': 1, 'words/вы': 1, 'words/мы': 1, 'words/он': 1, 'parts/PROPN': 1, 'rels/nsubj': 1, 'n_grams_all_symb/ не': 1, 'n_grams_all_symb/не ': 1, 'n_grams_all_symb/ мо': 1, 'puncts/?': 1, 'n_grams_all_symb/ на': 1, 'n_grams_all_symb/ по': 1, 'n_grams_letter/как': 1, 'n_grams_letter/люб': 1}\n"
     ]
    }
   ],
   "source": [
    "from utils.ensemble_metadata import get\n",
    "from utils.text_feature import *\n",
    "from utils.dict_lib import dict_sort\n",
    "\n",
    "models = [\"model1\", \"model2\", \"model4\", \"model4-1\", \"model5\"]\n",
    "datas = [\"data1\", \"data2\", \"data4\", \"data4-1\", \"data5\"]\n",
    "dfs = dict()\n",
    "\n",
    "fs = get(models, \"features\")\n",
    "for f in fs:\n",
    "    sf = get_names(f)\n",
    "    for s in sf:\n",
    "        dfs[s] = dfs.get(s, 0) + 1\n",
    "print(dict_sort(dfs))"
   ]
  },
  {
   "cell_type": "code",
   "execution_count": 7,
   "id": "47a94fcc-a0d6-4969-9c3e-a5cb1d4aec43",
   "metadata": {
    "tags": []
   },
   "outputs": [
    {
     "name": "stdout",
     "output_type": "stream",
     "text": [
      "46\n"
     ]
    }
   ],
   "source": [
    "print(len(dfs))"
   ]
  }
 ],
 "metadata": {
  "kernelspec": {
   "display_name": "Python 3 (ipykernel)",
   "language": "python",
   "name": "python3"
  },
  "language_info": {
   "codemirror_mode": {
    "name": "ipython",
    "version": 3
   },
   "file_extension": ".py",
   "mimetype": "text/x-python",
   "name": "python",
   "nbconvert_exporter": "python",
   "pygments_lexer": "ipython3",
   "version": "3.11.2"
  }
 },
 "nbformat": 4,
 "nbformat_minor": 5
}
