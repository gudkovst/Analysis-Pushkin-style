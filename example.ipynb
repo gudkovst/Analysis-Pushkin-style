{
 "cells": [
  {
   "cell_type": "code",
   "execution_count": 8,
   "id": "a43d082e-9537-473c-b98b-62e5a83a33a5",
   "metadata": {
    "tags": []
   },
   "outputs": [
    {
     "name": "stdout",
     "output_type": "stream",
     "text": [
      "[0.1004481418852913, 0.03561643835616438, 0.03561643835616438]\n",
      "{'друг': 4, 'о': 4, 'любовь': 3, 'вы': 5, 'всё': 2, 'рука': 2, 'весь': 5, 'а': 5, 'где': 4, 'душа': 3, 'день': 2, 'от': 2, 'они': 5, 'его': 2, 'то': 5, 'да': 2, 'так': 3, 'кто': 2, 'нет': 2, 'тот': 2}\n",
      "20\n",
      "{'нны': 4, 'дру': 5, 'рас': 4, 'лен': 4, 'руг': 4, 'ель': 3, 'люб': 4, 'вет': 4, 'тра': 3, 'под': 5, 'что': 5, 'нас': 3, 'нов': 5, 'нье': 4, 'его': 5, 'льн': 3, 'как': 5, 'сво': 3, 'раз': 4, 'ово': 5, 'мен': 3, 'одн': 3, 'она': 4}\n",
      "23\n"
     ]
    }
   ],
   "source": [
    "from main_extractor import *\n",
    "from text_feature import *\n",
    "from utils.dict_lib import *\n",
    "\n",
    "fs = [TextFeature(\"rank\", \"mean_key\"), TextFeature(\"words\", \"select_keys_proportion\", args=(\"я\", \"ты\"))]\n",
    "\n",
    "d = text2fеatures(\"1813\\\\3\", fs)\n",
    "print(d)\n",
    "\n",
    "d = important_feature(\"words\", n_top=30, rang=(2, 5))\n",
    "print(d)\n",
    "print(len(d))\n",
    "\n",
    "d = important_feature(\"n_grams_letter\", n_top=40, rang=(3, 5))\n",
    "print(d)\n",
    "print(len(d))"
   ]
  }
 ],
 "metadata": {
  "kernelspec": {
   "display_name": "Python 3 (ipykernel)",
   "language": "python",
   "name": "python3"
  },
  "language_info": {
   "codemirror_mode": {
    "name": "ipython",
    "version": 3
   },
   "file_extension": ".py",
   "mimetype": "text/x-python",
   "name": "python",
   "nbconvert_exporter": "python",
   "pygments_lexer": "ipython3",
   "version": "3.11.2"
  }
 },
 "nbformat": 4,
 "nbformat_minor": 5
}
